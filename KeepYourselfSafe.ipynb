{
 "cells": [
  {
   "cell_type": "markdown",
   "metadata": {},
   "source": [
    "# Libraries"
   ]
  },
  {
   "cell_type": "code",
   "execution_count": 1,
   "metadata": {},
   "outputs": [
    {
     "name": "stderr",
     "output_type": "stream",
     "text": [
      "[nltk_data] Downloading package punkt to\n",
      "[nltk_data]     C:\\Users\\yeohz\\AppData\\Roaming\\nltk_data...\n",
      "[nltk_data]   Package punkt is already up-to-date!\n",
      "[nltk_data] Downloading package averaged_perceptron_tagger to\n",
      "[nltk_data]     C:\\Users\\yeohz\\AppData\\Roaming\\nltk_data...\n",
      "[nltk_data]   Package averaged_perceptron_tagger is already up-to-\n",
      "[nltk_data]       date!\n",
      "[nltk_data] Downloading package wordnet to\n",
      "[nltk_data]     C:\\Users\\yeohz\\AppData\\Roaming\\nltk_data...\n",
      "[nltk_data]   Package wordnet is already up-to-date!\n"
     ]
    },
    {
     "data": {
      "text/plain": [
       "True"
      ]
     },
     "execution_count": 1,
     "metadata": {},
     "output_type": "execute_result"
    }
   ],
   "source": [
    "import numpy as np \n",
    "import pandas as pd \n",
    "import tensorflow as tf \n",
    "import matplotlib.pyplot as plt \n",
    "import seaborn as sns\n",
    "import re\n",
    "import demoji\n",
    "from tqdm import tqdm\n",
    "import string\n",
    "import nltk\n",
    "from nltk.corpus import stopwords\n",
    "from nltk.tokenize import word_tokenize\n",
    "from nltk.corpus import wordnet\n",
    "from nltk.stem import WordNetLemmatizer\n",
    "\n",
    "# Download necessary NLTK data\n",
    "nltk.download('punkt')\n",
    "nltk.download('averaged_perceptron_tagger')\n",
    "nltk.download('wordnet')"
   ]
  },
  {
   "cell_type": "markdown",
   "metadata": {},
   "source": [
    "# Data Preperation"
   ]
  },
  {
   "cell_type": "markdown",
   "metadata": {},
   "source": [
    "#### Peek Data"
   ]
  },
  {
   "cell_type": "code",
   "execution_count": 34,
   "metadata": {
    "scrolled": true
   },
   "outputs": [
    {
     "data": {
      "text/html": [
       "<div>\n",
       "<style scoped>\n",
       "    .dataframe tbody tr th:only-of-type {\n",
       "        vertical-align: middle;\n",
       "    }\n",
       "\n",
       "    .dataframe tbody tr th {\n",
       "        vertical-align: top;\n",
       "    }\n",
       "\n",
       "    .dataframe thead th {\n",
       "        text-align: right;\n",
       "    }\n",
       "</style>\n",
       "<table border=\"1\" class=\"dataframe\">\n",
       "  <thead>\n",
       "    <tr style=\"text-align: right;\">\n",
       "      <th></th>\n",
       "      <th>Unnamed: 0</th>\n",
       "      <th>text</th>\n",
       "      <th>class</th>\n",
       "    </tr>\n",
       "  </thead>\n",
       "  <tbody>\n",
       "    <tr>\n",
       "      <th>0</th>\n",
       "      <td>2</td>\n",
       "      <td>Ex Wife Threatening SuicideRecently I left my ...</td>\n",
       "      <td>suicide</td>\n",
       "    </tr>\n",
       "    <tr>\n",
       "      <th>1</th>\n",
       "      <td>3</td>\n",
       "      <td>Am I weird I don't get affected by compliments...</td>\n",
       "      <td>non-suicide</td>\n",
       "    </tr>\n",
       "    <tr>\n",
       "      <th>2</th>\n",
       "      <td>4</td>\n",
       "      <td>Finally 2020 is almost over... So I can never ...</td>\n",
       "      <td>non-suicide</td>\n",
       "    </tr>\n",
       "    <tr>\n",
       "      <th>3</th>\n",
       "      <td>8</td>\n",
       "      <td>i need helpjust help me im crying so hard</td>\n",
       "      <td>suicide</td>\n",
       "    </tr>\n",
       "    <tr>\n",
       "      <th>4</th>\n",
       "      <td>9</td>\n",
       "      <td>I’m so lostHello, my name is Adam (16) and I’v...</td>\n",
       "      <td>suicide</td>\n",
       "    </tr>\n",
       "    <tr>\n",
       "      <th>...</th>\n",
       "      <td>...</td>\n",
       "      <td>...</td>\n",
       "      <td>...</td>\n",
       "    </tr>\n",
       "    <tr>\n",
       "      <th>232069</th>\n",
       "      <td>348103</td>\n",
       "      <td>If you don't like rock then your not going to ...</td>\n",
       "      <td>non-suicide</td>\n",
       "    </tr>\n",
       "    <tr>\n",
       "      <th>232070</th>\n",
       "      <td>348106</td>\n",
       "      <td>You how you can tell i have so many friends an...</td>\n",
       "      <td>non-suicide</td>\n",
       "    </tr>\n",
       "    <tr>\n",
       "      <th>232071</th>\n",
       "      <td>348107</td>\n",
       "      <td>pee probably tastes like salty tea😏💦‼️ can som...</td>\n",
       "      <td>non-suicide</td>\n",
       "    </tr>\n",
       "    <tr>\n",
       "      <th>232072</th>\n",
       "      <td>348108</td>\n",
       "      <td>The usual stuff you find hereI'm not posting t...</td>\n",
       "      <td>suicide</td>\n",
       "    </tr>\n",
       "    <tr>\n",
       "      <th>232073</th>\n",
       "      <td>348110</td>\n",
       "      <td>I still haven't beaten the first boss in Hollo...</td>\n",
       "      <td>non-suicide</td>\n",
       "    </tr>\n",
       "  </tbody>\n",
       "</table>\n",
       "<p>232074 rows × 3 columns</p>\n",
       "</div>"
      ],
      "text/plain": [
       "        Unnamed: 0                                               text  \\\n",
       "0                2  Ex Wife Threatening SuicideRecently I left my ...   \n",
       "1                3  Am I weird I don't get affected by compliments...   \n",
       "2                4  Finally 2020 is almost over... So I can never ...   \n",
       "3                8          i need helpjust help me im crying so hard   \n",
       "4                9  I’m so lostHello, my name is Adam (16) and I’v...   \n",
       "...            ...                                                ...   \n",
       "232069      348103  If you don't like rock then your not going to ...   \n",
       "232070      348106  You how you can tell i have so many friends an...   \n",
       "232071      348107  pee probably tastes like salty tea😏💦‼️ can som...   \n",
       "232072      348108  The usual stuff you find hereI'm not posting t...   \n",
       "232073      348110  I still haven't beaten the first boss in Hollo...   \n",
       "\n",
       "              class  \n",
       "0           suicide  \n",
       "1       non-suicide  \n",
       "2       non-suicide  \n",
       "3           suicide  \n",
       "4           suicide  \n",
       "...             ...  \n",
       "232069  non-suicide  \n",
       "232070  non-suicide  \n",
       "232071  non-suicide  \n",
       "232072      suicide  \n",
       "232073  non-suicide  \n",
       "\n",
       "[232074 rows x 3 columns]"
      ]
     },
     "execution_count": 34,
     "metadata": {},
     "output_type": "execute_result"
    }
   ],
   "source": [
    "df = pd.read_csv(\"../Dataset/Suicide_Detection.csv\")\n",
    "df"
   ]
  },
  {
   "cell_type": "markdown",
   "metadata": {},
   "source": [
    "#### Check Null"
   ]
  },
  {
   "cell_type": "code",
   "execution_count": 36,
   "metadata": {},
   "outputs": [
    {
     "data": {
      "text/plain": [
       "0"
      ]
     },
     "execution_count": 36,
     "metadata": {},
     "output_type": "execute_result"
    }
   ],
   "source": [
    "df[\"text\"].isnull().sum()"
   ]
  },
  {
   "cell_type": "markdown",
   "metadata": {},
   "source": [
    "#### Class Balance"
   ]
  },
  {
   "cell_type": "code",
   "execution_count": 35,
   "metadata": {
    "scrolled": false
   },
   "outputs": [
    {
     "data": {
      "text/plain": [
       "suicide        116037\n",
       "non-suicide    116037\n",
       "Name: class, dtype: int64"
      ]
     },
     "execution_count": 35,
     "metadata": {},
     "output_type": "execute_result"
    }
   ],
   "source": [
    "df[\"class\"].value_counts()"
   ]
  },
  {
   "cell_type": "markdown",
   "metadata": {},
   "source": [
    "Suicide and non-suicide text are equal in number."
   ]
  },
  {
   "cell_type": "markdown",
   "metadata": {},
   "source": [
    "#### Add space to some camel cased words"
   ]
  },
  {
   "cell_type": "code",
   "execution_count": 37,
   "metadata": {},
   "outputs": [
    {
     "data": {
      "text/plain": [
       "0         Ex Wife Threatening Suicide Recently I left my...\n",
       "1         Am I weird I don't get affected by compliments...\n",
       "2         Finally 2020 is almost over... So I can never ...\n",
       "3                 i need helpjust help me im crying so hard\n",
       "4         I’m so lost Hello, my name is Adam (16) and I’...\n",
       "                                ...                        \n",
       "232069    If you don't like rock then your not going to ...\n",
       "232070    You how you can tell i have so many friends an...\n",
       "232071    pee probably tastes like salty tea😏💦‼️ can som...\n",
       "232072    The usual stuff you find here I'm not posting ...\n",
       "232073    I still haven't beaten the first boss in Hollo...\n",
       "Name: text, Length: 232074, dtype: object"
      ]
     },
     "execution_count": 37,
     "metadata": {},
     "output_type": "execute_result"
    }
   ],
   "source": [
    "df['text'] = df['text'].replace(r\"(\\w)([A-Z])\", r\"\\1 \\2\", regex=True)\n",
    "df['text']"
   ]
  },
  {
   "cell_type": "markdown",
   "metadata": {},
   "source": [
    "#### Convert Emojis into Text"
   ]
  },
  {
   "cell_type": "code",
   "execution_count": 39,
   "metadata": {},
   "outputs": [],
   "source": [
    "def emoji_to_text(text):\n",
    "    return demoji.replace_with_desc(text, \" \")"
   ]
  },
  {
   "cell_type": "code",
   "execution_count": 40,
   "metadata": {},
   "outputs": [
    {
     "name": "stderr",
     "output_type": "stream",
     "text": [
      "Progress Bar: 100%|███████████████████████████████████████████████████████████| 232074/232074 [22:55<00:00, 168.69it/s]\n"
     ]
    }
   ],
   "source": [
    "tqdm.pandas(desc=\"Progress Bar: \")\n",
    "df[\"text\"] = df[\"text\"].progress_apply(emoji_to_text)"
   ]
  },
  {
   "cell_type": "code",
   "execution_count": 41,
   "metadata": {
    "scrolled": true
   },
   "outputs": [
    {
     "data": {
      "text/plain": [
       "0         Ex Wife Threatening Suicide Recently I left my...\n",
       "1         Am I weird I don't get affected by compliments...\n",
       "2         Finally 2020 is almost over... So I can never ...\n",
       "3                 i need helpjust help me im crying so hard\n",
       "4         I’m so lost Hello, my name is Adam (16) and I’...\n",
       "                                ...                        \n",
       "232069    If you don't like rock then your not going to ...\n",
       "232070    You how you can tell i have so many friends an...\n",
       "232071    pee probably tastes like salty tea smirking fa...\n",
       "232072    The usual stuff you find here I'm not posting ...\n",
       "232073    I still haven't beaten the first boss in Hollo...\n",
       "Name: text, Length: 232074, dtype: object"
      ]
     },
     "execution_count": 41,
     "metadata": {},
     "output_type": "execute_result"
    }
   ],
   "source": [
    "df[\"text\"]"
   ]
  },
  {
   "cell_type": "markdown",
   "metadata": {},
   "source": [
    "#### Lowercase alphabets"
   ]
  },
  {
   "cell_type": "code",
   "execution_count": 43,
   "metadata": {},
   "outputs": [],
   "source": [
    "df[\"text\"] = df[\"text\"].str.lower()"
   ]
  },
  {
   "cell_type": "code",
   "execution_count": 44,
   "metadata": {
    "scrolled": true
   },
   "outputs": [
    {
     "data": {
      "text/plain": [
       "0         ex wife threatening suicide recently i left my...\n",
       "1         am i weird i don't get affected by compliments...\n",
       "2         finally 2020 is almost over... so i can never ...\n",
       "3                 i need helpjust help me im crying so hard\n",
       "4         i’m so lost hello, my name is adam (16) and i’...\n",
       "                                ...                        \n",
       "232069    if you don't like rock then your not going to ...\n",
       "232070    you how you can tell i have so many friends an...\n",
       "232071    pee probably tastes like salty tea smirking fa...\n",
       "232072    the usual stuff you find here i'm not posting ...\n",
       "232073    i still haven't beaten the first boss in hollo...\n",
       "Name: text, Length: 232074, dtype: object"
      ]
     },
     "execution_count": 44,
     "metadata": {},
     "output_type": "execute_result"
    }
   ],
   "source": [
    "df[\"text\"]"
   ]
  },
  {
   "cell_type": "markdown",
   "metadata": {},
   "source": [
    "#### Remove Stop Words"
   ]
  },
  {
   "cell_type": "code",
   "execution_count": 49,
   "metadata": {},
   "outputs": [
    {
     "name": "stderr",
     "output_type": "stream",
     "text": [
      "[nltk_data] Downloading package stopwords to\n",
      "[nltk_data]     C:\\Users\\yeohz\\AppData\\Roaming\\nltk_data...\n",
      "[nltk_data]   Package stopwords is already up-to-date!\n",
      "[nltk_data] Downloading package punkt to\n",
      "[nltk_data]     C:\\Users\\yeohz\\AppData\\Roaming\\nltk_data...\n",
      "[nltk_data]   Package punkt is already up-to-date!\n"
     ]
    }
   ],
   "source": [
    "# Show incuded stop words\n",
    "nltk.download('stopwords')\n",
    "nltk.download('punkt')\n",
    "stopwords = stopwords.words('english')"
   ]
  },
  {
   "cell_type": "code",
   "execution_count": 50,
   "metadata": {
    "scrolled": false
   },
   "outputs": [
    {
     "data": {
      "text/plain": [
       "['i',\n",
       " 'me',\n",
       " 'my',\n",
       " 'myself',\n",
       " 'we',\n",
       " 'our',\n",
       " 'ours',\n",
       " 'ourselves',\n",
       " 'you',\n",
       " \"you're\",\n",
       " \"you've\",\n",
       " \"you'll\",\n",
       " \"you'd\",\n",
       " 'your',\n",
       " 'yours',\n",
       " 'yourself',\n",
       " 'yourselves',\n",
       " 'he',\n",
       " 'him',\n",
       " 'his',\n",
       " 'himself',\n",
       " 'she',\n",
       " \"she's\",\n",
       " 'her',\n",
       " 'hers',\n",
       " 'herself',\n",
       " 'it',\n",
       " \"it's\",\n",
       " 'its',\n",
       " 'itself',\n",
       " 'they',\n",
       " 'them',\n",
       " 'their',\n",
       " 'theirs',\n",
       " 'themselves',\n",
       " 'what',\n",
       " 'which',\n",
       " 'who',\n",
       " 'whom',\n",
       " 'this',\n",
       " 'that',\n",
       " \"that'll\",\n",
       " 'these',\n",
       " 'those',\n",
       " 'am',\n",
       " 'is',\n",
       " 'are',\n",
       " 'was',\n",
       " 'were',\n",
       " 'be',\n",
       " 'been',\n",
       " 'being',\n",
       " 'have',\n",
       " 'has',\n",
       " 'had',\n",
       " 'having',\n",
       " 'do',\n",
       " 'does',\n",
       " 'did',\n",
       " 'doing',\n",
       " 'a',\n",
       " 'an',\n",
       " 'the',\n",
       " 'and',\n",
       " 'but',\n",
       " 'if',\n",
       " 'or',\n",
       " 'because',\n",
       " 'as',\n",
       " 'until',\n",
       " 'while',\n",
       " 'of',\n",
       " 'at',\n",
       " 'by',\n",
       " 'for',\n",
       " 'with',\n",
       " 'about',\n",
       " 'against',\n",
       " 'between',\n",
       " 'into',\n",
       " 'through',\n",
       " 'during',\n",
       " 'before',\n",
       " 'after',\n",
       " 'above',\n",
       " 'below',\n",
       " 'to',\n",
       " 'from',\n",
       " 'up',\n",
       " 'down',\n",
       " 'in',\n",
       " 'out',\n",
       " 'on',\n",
       " 'off',\n",
       " 'over',\n",
       " 'under',\n",
       " 'again',\n",
       " 'further',\n",
       " 'then',\n",
       " 'once',\n",
       " 'here',\n",
       " 'there',\n",
       " 'when',\n",
       " 'where',\n",
       " 'why',\n",
       " 'how',\n",
       " 'all',\n",
       " 'any',\n",
       " 'both',\n",
       " 'each',\n",
       " 'few',\n",
       " 'more',\n",
       " 'most',\n",
       " 'other',\n",
       " 'some',\n",
       " 'such',\n",
       " 'no',\n",
       " 'nor',\n",
       " 'not',\n",
       " 'only',\n",
       " 'own',\n",
       " 'same',\n",
       " 'so',\n",
       " 'than',\n",
       " 'too',\n",
       " 'very',\n",
       " 's',\n",
       " 't',\n",
       " 'can',\n",
       " 'will',\n",
       " 'just',\n",
       " 'don',\n",
       " \"don't\",\n",
       " 'should',\n",
       " \"should've\",\n",
       " 'now',\n",
       " 'd',\n",
       " 'll',\n",
       " 'm',\n",
       " 'o',\n",
       " 're',\n",
       " 've',\n",
       " 'y',\n",
       " 'ain',\n",
       " 'aren',\n",
       " \"aren't\",\n",
       " 'couldn',\n",
       " \"couldn't\",\n",
       " 'didn',\n",
       " \"didn't\",\n",
       " 'doesn',\n",
       " \"doesn't\",\n",
       " 'hadn',\n",
       " \"hadn't\",\n",
       " 'hasn',\n",
       " \"hasn't\",\n",
       " 'haven',\n",
       " \"haven't\",\n",
       " 'isn',\n",
       " \"isn't\",\n",
       " 'ma',\n",
       " 'mightn',\n",
       " \"mightn't\",\n",
       " 'mustn',\n",
       " \"mustn't\",\n",
       " 'needn',\n",
       " \"needn't\",\n",
       " 'shan',\n",
       " \"shan't\",\n",
       " 'shouldn',\n",
       " \"shouldn't\",\n",
       " 'wasn',\n",
       " \"wasn't\",\n",
       " 'weren',\n",
       " \"weren't\",\n",
       " 'won',\n",
       " \"won't\",\n",
       " 'wouldn',\n",
       " \"wouldn't\"]"
      ]
     },
     "execution_count": 50,
     "metadata": {},
     "output_type": "execute_result"
    }
   ],
   "source": [
    "stopwords"
   ]
  },
  {
   "cell_type": "code",
   "execution_count": 51,
   "metadata": {},
   "outputs": [],
   "source": [
    "stopWordExceptions = [\"but\", \"if\", \"because\", \"against\",'no', 'nor','not', 'don', \"don't\", \"ain\", \n",
    "\"aren't\", 'aren',  'couldn',  \"couldn't\", 'didn', \"didn't\", \"doesn't\", 'hadn', \"hadn't\", 'hasn', \"hasn't\", 'haven',\n",
    "\"haven't\", 'isn', \"isn't\", \"mustn't\", 'shan', \"shan't\", 'shouldn',\"shouldn't\", 'wasn', \"wasn't\",\n",
    "'weren', \"weren't\", 'won', \"won't\", 'wouldn', \"wouldn't\"]"
   ]
  },
  {
   "cell_type": "code",
   "execution_count": 52,
   "metadata": {},
   "outputs": [
    {
     "name": "stdout",
     "output_type": "stream",
     "text": [
      "Stop word exceptions:  38\n",
      "Stop words:  179\n"
     ]
    }
   ],
   "source": [
    "print(\"Stop word exceptions: \", len(stopWordExceptions))\n",
    "print(\"Stop words: \", len(stopwords))"
   ]
  },
  {
   "cell_type": "code",
   "execution_count": 53,
   "metadata": {},
   "outputs": [
    {
     "data": {
      "text/plain": [
       "141"
      ]
     },
     "execution_count": 53,
     "metadata": {},
     "output_type": "execute_result"
    }
   ],
   "source": [
    "customStopWords = [word for word in stopwords if word not in stopWordExceptions]\n",
    "len(customStopWords)"
   ]
  },
  {
   "cell_type": "code",
   "execution_count": 54,
   "metadata": {},
   "outputs": [],
   "source": [
    "def RemoveStopWords(text):\n",
    "    word_tokens = word_tokenize(text)\n",
    "    filtered_sentence = [word for word in word_tokens if word not in customStopWords]\n",
    "    return filtered_sentence"
   ]
  },
  {
   "cell_type": "code",
   "execution_count": 55,
   "metadata": {},
   "outputs": [
    {
     "name": "stderr",
     "output_type": "stream",
     "text": [
      "Progress Bar: 100%|███████████████████████████████████████████████████████████| 232074/232074 [04:12<00:00, 918.36it/s]\n"
     ]
    }
   ],
   "source": [
    "df[\"text\"] = df[\"text\"].progress_apply(RemoveStopWords)"
   ]
  },
  {
   "cell_type": "code",
   "execution_count": 56,
   "metadata": {
    "scrolled": false
   },
   "outputs": [
    {
     "data": {
      "text/plain": [
       "0         [ex, wife, threatening, suicide, recently, lef...\n",
       "1         [weird, n't, get, affected, compliments, if, '...\n",
       "2         [finally, 2020, almost, ..., never, hear, ``, ...\n",
       "3                  [need, helpjust, help, im, crying, hard]\n",
       "4         [’, lost, hello, ,, name, adam, (, 16, ), ’, s...\n",
       "                                ...                        \n",
       "232069    [if, n't, like, rock, not, going, get, anythin...\n",
       "232070    [tell, many, friends, not, lonely, everything,...\n",
       "232071    [pee, probably, tastes, like, salty, tea, smir...\n",
       "232072    [usual, stuff, find, 'm, not, posting, sympath...\n",
       "232073    [still, n't, beaten, first, boss, hollow, knig...\n",
       "Name: text, Length: 232074, dtype: object"
      ]
     },
     "execution_count": 56,
     "metadata": {},
     "output_type": "execute_result"
    }
   ],
   "source": [
    "df[\"text\"]"
   ]
  },
  {
   "cell_type": "markdown",
   "metadata": {},
   "source": [
    "#### Remove Punctuations"
   ]
  },
  {
   "cell_type": "code",
   "execution_count": 59,
   "metadata": {},
   "outputs": [],
   "source": [
    "def RemovePunctuations(text):\n",
    "    cleaned_text = []\n",
    "    for word in text:\n",
    "        word = re.sub('[^\\w\\s!?]','', word)\n",
    "        if word != \"\":\n",
    "            cleaned_text.append(word)\n",
    "    return cleaned_text"
   ]
  },
  {
   "cell_type": "code",
   "execution_count": 60,
   "metadata": {},
   "outputs": [],
   "source": [
    "# Not alphabet o digit, remove\n",
    "df[\"text\"] = df['text'].apply(RemovePunctuations)"
   ]
  },
  {
   "cell_type": "code",
   "execution_count": 61,
   "metadata": {
    "scrolled": false
   },
   "outputs": [
    {
     "data": {
      "text/plain": [
       "0         [ex, wife, threatening, suicide, recently, lef...\n",
       "1         [weird, nt, get, affected, compliments, if, s,...\n",
       "2         [finally, 2020, almost, never, hear, 2020, bad...\n",
       "3                  [need, helpjust, help, im, crying, hard]\n",
       "4         [lost, hello, name, adam, 16, struggling, year...\n",
       "                                ...                        \n",
       "232069    [if, nt, like, rock, not, going, get, anything...\n",
       "232070    [tell, many, friends, not, lonely, everything,...\n",
       "232071    [pee, probably, tastes, like, salty, tea, smir...\n",
       "232072    [usual, stuff, find, m, not, posting, sympathy...\n",
       "232073    [still, nt, beaten, first, boss, hollow, knigh...\n",
       "Name: text, Length: 232074, dtype: object"
      ]
     },
     "execution_count": 61,
     "metadata": {},
     "output_type": "execute_result"
    }
   ],
   "source": [
    "df[\"text\"]"
   ]
  },
  {
   "cell_type": "code",
   "execution_count": 151,
   "metadata": {},
   "outputs": [
    {
     "data": {
      "text/html": [
       "<div>\n",
       "<style scoped>\n",
       "    .dataframe tbody tr th:only-of-type {\n",
       "        vertical-align: middle;\n",
       "    }\n",
       "\n",
       "    .dataframe tbody tr th {\n",
       "        vertical-align: top;\n",
       "    }\n",
       "\n",
       "    .dataframe thead th {\n",
       "        text-align: right;\n",
       "    }\n",
       "</style>\n",
       "<table border=\"1\" class=\"dataframe\">\n",
       "  <thead>\n",
       "    <tr style=\"text-align: right;\">\n",
       "      <th></th>\n",
       "      <th>text</th>\n",
       "      <th>class</th>\n",
       "    </tr>\n",
       "  </thead>\n",
       "  <tbody>\n",
       "    <tr>\n",
       "      <th>0</th>\n",
       "      <td>ex wife threatening suicide recently left wife...</td>\n",
       "      <td>suicide</td>\n",
       "    </tr>\n",
       "    <tr>\n",
       "      <th>1</th>\n",
       "      <td>weird nt get affected compliments if s coming ...</td>\n",
       "      <td>non-suicide</td>\n",
       "    </tr>\n",
       "    <tr>\n",
       "      <th>2</th>\n",
       "      <td>finally 2020 almost never hear 2020 bad year e...</td>\n",
       "      <td>non-suicide</td>\n",
       "    </tr>\n",
       "    <tr>\n",
       "      <th>3</th>\n",
       "      <td>need helpjust help im crying hard</td>\n",
       "      <td>suicide</td>\n",
       "    </tr>\n",
       "    <tr>\n",
       "      <th>4</th>\n",
       "      <td>lost hello name adam 16 struggling years afrai...</td>\n",
       "      <td>suicide</td>\n",
       "    </tr>\n",
       "    <tr>\n",
       "      <th>...</th>\n",
       "      <td>...</td>\n",
       "      <td>...</td>\n",
       "    </tr>\n",
       "    <tr>\n",
       "      <th>232069</th>\n",
       "      <td>if nt like rock not going get anything but go ...</td>\n",
       "      <td>non-suicide</td>\n",
       "    </tr>\n",
       "    <tr>\n",
       "      <th>232070</th>\n",
       "      <td>tell many friends not lonely everything depriv...</td>\n",
       "      <td>non-suicide</td>\n",
       "    </tr>\n",
       "    <tr>\n",
       "      <th>232071</th>\n",
       "      <td>pee probably tastes like salty tea smirking fa...</td>\n",
       "      <td>non-suicide</td>\n",
       "    </tr>\n",
       "    <tr>\n",
       "      <th>232072</th>\n",
       "      <td>usual stuff find m not posting sympathy pity b...</td>\n",
       "      <td>suicide</td>\n",
       "    </tr>\n",
       "    <tr>\n",
       "      <th>232073</th>\n",
       "      <td>still nt beaten first boss hollow knight ve fo...</td>\n",
       "      <td>non-suicide</td>\n",
       "    </tr>\n",
       "  </tbody>\n",
       "</table>\n",
       "<p>232074 rows × 2 columns</p>\n",
       "</div>"
      ],
      "text/plain": [
       "                                                     text        class\n",
       "0       ex wife threatening suicide recently left wife...      suicide\n",
       "1       weird nt get affected compliments if s coming ...  non-suicide\n",
       "2       finally 2020 almost never hear 2020 bad year e...  non-suicide\n",
       "3                       need helpjust help im crying hard      suicide\n",
       "4       lost hello name adam 16 struggling years afrai...      suicide\n",
       "...                                                   ...          ...\n",
       "232069  if nt like rock not going get anything but go ...  non-suicide\n",
       "232070  tell many friends not lonely everything depriv...  non-suicide\n",
       "232071  pee probably tastes like salty tea smirking fa...  non-suicide\n",
       "232072  usual stuff find m not posting sympathy pity b...      suicide\n",
       "232073  still nt beaten first boss hollow knight ve fo...  non-suicide\n",
       "\n",
       "[232074 rows x 2 columns]"
      ]
     },
     "execution_count": 151,
     "metadata": {},
     "output_type": "execute_result"
    }
   ],
   "source": [
    "df_temp = pd.read_csv(\"../Dataset/Suicide_Detection(After Remove Stop Words).csv\")\n",
    "df_temp"
   ]
  },
  {
   "cell_type": "code",
   "execution_count": 152,
   "metadata": {},
   "outputs": [],
   "source": [
    "# Drop nan values due to remove stop words; 18 records\n",
    "df_temp = df_temp.dropna(axis=0)"
   ]
  },
  {
   "cell_type": "code",
   "execution_count": 154,
   "metadata": {},
   "outputs": [
    {
     "data": {
      "text/html": [
       "<div>\n",
       "<style scoped>\n",
       "    .dataframe tbody tr th:only-of-type {\n",
       "        vertical-align: middle;\n",
       "    }\n",
       "\n",
       "    .dataframe tbody tr th {\n",
       "        vertical-align: top;\n",
       "    }\n",
       "\n",
       "    .dataframe thead th {\n",
       "        text-align: right;\n",
       "    }\n",
       "</style>\n",
       "<table border=\"1\" class=\"dataframe\">\n",
       "  <thead>\n",
       "    <tr style=\"text-align: right;\">\n",
       "      <th></th>\n",
       "      <th>text</th>\n",
       "      <th>class</th>\n",
       "    </tr>\n",
       "  </thead>\n",
       "  <tbody>\n",
       "    <tr>\n",
       "      <th>0</th>\n",
       "      <td>ex wife threatening suicide recently left wife...</td>\n",
       "      <td>suicide</td>\n",
       "    </tr>\n",
       "    <tr>\n",
       "      <th>1</th>\n",
       "      <td>weird nt get affected compliments if s coming ...</td>\n",
       "      <td>non-suicide</td>\n",
       "    </tr>\n",
       "    <tr>\n",
       "      <th>2</th>\n",
       "      <td>finally 2020 almost never hear 2020 bad year e...</td>\n",
       "      <td>non-suicide</td>\n",
       "    </tr>\n",
       "    <tr>\n",
       "      <th>3</th>\n",
       "      <td>need helpjust help im crying hard</td>\n",
       "      <td>suicide</td>\n",
       "    </tr>\n",
       "    <tr>\n",
       "      <th>4</th>\n",
       "      <td>lost hello name adam 16 struggling years afrai...</td>\n",
       "      <td>suicide</td>\n",
       "    </tr>\n",
       "    <tr>\n",
       "      <th>...</th>\n",
       "      <td>...</td>\n",
       "      <td>...</td>\n",
       "    </tr>\n",
       "    <tr>\n",
       "      <th>232069</th>\n",
       "      <td>if nt like rock not going get anything but go ...</td>\n",
       "      <td>non-suicide</td>\n",
       "    </tr>\n",
       "    <tr>\n",
       "      <th>232070</th>\n",
       "      <td>tell many friends not lonely everything depriv...</td>\n",
       "      <td>non-suicide</td>\n",
       "    </tr>\n",
       "    <tr>\n",
       "      <th>232071</th>\n",
       "      <td>pee probably tastes like salty tea smirking fa...</td>\n",
       "      <td>non-suicide</td>\n",
       "    </tr>\n",
       "    <tr>\n",
       "      <th>232072</th>\n",
       "      <td>usual stuff find m not posting sympathy pity b...</td>\n",
       "      <td>suicide</td>\n",
       "    </tr>\n",
       "    <tr>\n",
       "      <th>232073</th>\n",
       "      <td>still nt beaten first boss hollow knight ve fo...</td>\n",
       "      <td>non-suicide</td>\n",
       "    </tr>\n",
       "  </tbody>\n",
       "</table>\n",
       "<p>232056 rows × 2 columns</p>\n",
       "</div>"
      ],
      "text/plain": [
       "                                                     text        class\n",
       "0       ex wife threatening suicide recently left wife...      suicide\n",
       "1       weird nt get affected compliments if s coming ...  non-suicide\n",
       "2       finally 2020 almost never hear 2020 bad year e...  non-suicide\n",
       "3                       need helpjust help im crying hard      suicide\n",
       "4       lost hello name adam 16 struggling years afrai...      suicide\n",
       "...                                                   ...          ...\n",
       "232069  if nt like rock not going get anything but go ...  non-suicide\n",
       "232070  tell many friends not lonely everything depriv...  non-suicide\n",
       "232071  pee probably tastes like salty tea smirking fa...  non-suicide\n",
       "232072  usual stuff find m not posting sympathy pity b...      suicide\n",
       "232073  still nt beaten first boss hollow knight ve fo...  non-suicide\n",
       "\n",
       "[232056 rows x 2 columns]"
      ]
     },
     "execution_count": 154,
     "metadata": {},
     "output_type": "execute_result"
    }
   ],
   "source": [
    "df_temp"
   ]
  },
  {
   "cell_type": "code",
   "execution_count": 155,
   "metadata": {},
   "outputs": [],
   "source": [
    "df_temp.to_csv(\"../Dataset/Suicide_Detection(After Remove Stop Words nan removed).csv\", index=False)"
   ]
  },
  {
   "cell_type": "code",
   "execution_count": 157,
   "metadata": {},
   "outputs": [],
   "source": [
    "df = df_temp"
   ]
  },
  {
   "cell_type": "code",
   "execution_count": 159,
   "metadata": {},
   "outputs": [],
   "source": [
    "df = df_temp.copy()"
   ]
  },
  {
   "cell_type": "markdown",
   "metadata": {},
   "source": [
    "#### Lemmatization"
   ]
  },
  {
   "cell_type": "code",
   "execution_count": 160,
   "metadata": {},
   "outputs": [
    {
     "name": "stdout",
     "output_type": "stream",
     "text": [
      "0         ex wife threaten suicide recently leave wife g...\n",
      "1         weird nt get affect compliment if s come someo...\n",
      "2         finally 2020 almost never hear 2020 bad year e...\n",
      "3                            need helpjust help im cry hard\n",
      "4         lose hello name adam 16 struggle year afraid p...\n",
      "                                ...                        \n",
      "232069    if nt like rock not go get anything but go htt...\n",
      "232070    tell many friend not lonely everything deprive...\n",
      "232071    pee probably taste like salty tea smirk face s...\n",
      "232072    usual stuff find m not post sympathy pity beca...\n",
      "232073    still nt beat first bos hollow knight ve fough...\n",
      "Name: text, Length: 232056, dtype: object\n"
     ]
    }
   ],
   "source": [
    "# Initialize the WordNetLemmatizer\n",
    "wnl = WordNetLemmatizer()\n",
    "\n",
    "# Function to map NLTK POS tags to WordNet POS tags\n",
    "def get_wordnet_pos(treebank_tag):\n",
    "    if treebank_tag.startswith('J'):\n",
    "        return wordnet.ADJ\n",
    "    elif treebank_tag.startswith('V'):\n",
    "        return wordnet.VERB\n",
    "    elif treebank_tag.startswith('N'):\n",
    "        return wordnet.NOUN\n",
    "    elif treebank_tag.startswith('R'):\n",
    "        return wordnet.ADV\n",
    "    else:\n",
    "        return wordnet.NOUN  # Default to noun\n",
    "\n",
    "\n",
    "# Function to lemmatize a text\n",
    "def lemmatize_text(text):\n",
    "    # Tokenize the text\n",
    "    tokens = nltk.word_tokenize(text)\n",
    "    # POS tagging\n",
    "    tagged_words = nltk.pos_tag(tokens)\n",
    "    # Lemmatize each word with POS tag\n",
    "    lemmatized_words = [wnl.lemmatize(word, pos=get_wordnet_pos(tag)) for word, tag in tagged_words]\n",
    "    # Join lemmatized words into a single string\n",
    "    lemmatized_text = ' '.join(lemmatized_words)\n",
    "    return lemmatized_text\n",
    "\n",
    "# # Ensure all entries in the 'text' column are strings\n",
    "# df[\"text\"] = df[\"text\"].apply(lambda x: ' '.join(x) if isinstance(x, list) else str(x))\n",
    "\n",
    "# Apply the lemmatization to the 'text' column\n",
    "df['text'] = df['text'].apply(lemmatize_text)\n",
    "\n",
    "# Print the DataFrame to see the results\n",
    "print(df['text'])"
   ]
  },
  {
   "cell_type": "code",
   "execution_count": 167,
   "metadata": {},
   "outputs": [],
   "source": [
    "df.to_csv(\"../Dataset/Suicide_Detection(After Lemmitization).csv\", index=False)"
   ]
  },
  {
   "cell_type": "code",
   "execution_count": 168,
   "metadata": {},
   "outputs": [
    {
     "data": {
      "text/plain": [
       "text     False\n",
       "class    False\n",
       "dtype: bool"
      ]
     },
     "execution_count": 168,
     "metadata": {},
     "output_type": "execute_result"
    }
   ],
   "source": [
    "df_temp = pd.read_csv(\"../Dataset/Suicide_Detection(After Lemmitization).csv\")\n",
    "df_temp.isnull().any()"
   ]
  },
  {
   "cell_type": "code",
   "execution_count": 169,
   "metadata": {},
   "outputs": [
    {
     "data": {
      "text/html": [
       "<div>\n",
       "<style scoped>\n",
       "    .dataframe tbody tr th:only-of-type {\n",
       "        vertical-align: middle;\n",
       "    }\n",
       "\n",
       "    .dataframe tbody tr th {\n",
       "        vertical-align: top;\n",
       "    }\n",
       "\n",
       "    .dataframe thead th {\n",
       "        text-align: right;\n",
       "    }\n",
       "</style>\n",
       "<table border=\"1\" class=\"dataframe\">\n",
       "  <thead>\n",
       "    <tr style=\"text-align: right;\">\n",
       "      <th></th>\n",
       "      <th>text</th>\n",
       "      <th>class</th>\n",
       "    </tr>\n",
       "  </thead>\n",
       "  <tbody>\n",
       "    <tr>\n",
       "      <th>0</th>\n",
       "      <td>ex wife threaten suicide recently leave wife g...</td>\n",
       "      <td>suicide</td>\n",
       "    </tr>\n",
       "    <tr>\n",
       "      <th>1</th>\n",
       "      <td>weird nt get affect compliment if s come someo...</td>\n",
       "      <td>non-suicide</td>\n",
       "    </tr>\n",
       "    <tr>\n",
       "      <th>2</th>\n",
       "      <td>finally 2020 almost never hear 2020 bad year e...</td>\n",
       "      <td>non-suicide</td>\n",
       "    </tr>\n",
       "    <tr>\n",
       "      <th>3</th>\n",
       "      <td>need helpjust help im cry hard</td>\n",
       "      <td>suicide</td>\n",
       "    </tr>\n",
       "    <tr>\n",
       "      <th>4</th>\n",
       "      <td>lose hello name adam 16 struggle year afraid p...</td>\n",
       "      <td>suicide</td>\n",
       "    </tr>\n",
       "    <tr>\n",
       "      <th>...</th>\n",
       "      <td>...</td>\n",
       "      <td>...</td>\n",
       "    </tr>\n",
       "    <tr>\n",
       "      <th>232051</th>\n",
       "      <td>if nt like rock not go get anything but go htt...</td>\n",
       "      <td>non-suicide</td>\n",
       "    </tr>\n",
       "    <tr>\n",
       "      <th>232052</th>\n",
       "      <td>tell many friend not lonely everything deprive...</td>\n",
       "      <td>non-suicide</td>\n",
       "    </tr>\n",
       "    <tr>\n",
       "      <th>232053</th>\n",
       "      <td>pee probably taste like salty tea smirk face s...</td>\n",
       "      <td>non-suicide</td>\n",
       "    </tr>\n",
       "    <tr>\n",
       "      <th>232054</th>\n",
       "      <td>usual stuff find m not post sympathy pity beca...</td>\n",
       "      <td>suicide</td>\n",
       "    </tr>\n",
       "    <tr>\n",
       "      <th>232055</th>\n",
       "      <td>still nt beat first bos hollow knight ve fough...</td>\n",
       "      <td>non-suicide</td>\n",
       "    </tr>\n",
       "  </tbody>\n",
       "</table>\n",
       "<p>232056 rows × 2 columns</p>\n",
       "</div>"
      ],
      "text/plain": [
       "                                                     text        class\n",
       "0       ex wife threaten suicide recently leave wife g...      suicide\n",
       "1       weird nt get affect compliment if s come someo...  non-suicide\n",
       "2       finally 2020 almost never hear 2020 bad year e...  non-suicide\n",
       "3                          need helpjust help im cry hard      suicide\n",
       "4       lose hello name adam 16 struggle year afraid p...      suicide\n",
       "...                                                   ...          ...\n",
       "232051  if nt like rock not go get anything but go htt...  non-suicide\n",
       "232052  tell many friend not lonely everything deprive...  non-suicide\n",
       "232053  pee probably taste like salty tea smirk face s...  non-suicide\n",
       "232054  usual stuff find m not post sympathy pity beca...      suicide\n",
       "232055  still nt beat first bos hollow knight ve fough...  non-suicide\n",
       "\n",
       "[232056 rows x 2 columns]"
      ]
     },
     "execution_count": 169,
     "metadata": {},
     "output_type": "execute_result"
    }
   ],
   "source": [
    "df_temp"
   ]
  },
  {
   "cell_type": "markdown",
   "metadata": {},
   "source": [
    "#### Word Embedding"
   ]
  },
  {
   "cell_type": "code",
   "execution_count": 6,
   "metadata": {},
   "outputs": [],
   "source": [
    "df = df_naive_bayes.copy()"
   ]
  },
  {
   "cell_type": "code",
   "execution_count": 9,
   "metadata": {},
   "outputs": [],
   "source": [
    "from sentence_transformers import SentenceTransformer\n",
    "model = SentenceTransformer('paraphrase-MiniLM-L6-v2')\n",
    "\n",
    "embeddings = model.encode(df['text'].tolist())\n",
    "\n",
    "df['embeddings'] = embeddings.tolist()"
   ]
  },
  {
   "cell_type": "code",
   "execution_count": 14,
   "metadata": {},
   "outputs": [],
   "source": [
    "df.to_csv('../Dataset/Suicide_Detection(After Embeddings).csv', index=False)"
   ]
  },
  {
   "cell_type": "markdown",
   "metadata": {},
   "source": [
    "# Models & Evaluation"
   ]
  },
  {
   "cell_type": "code",
   "execution_count": 45,
   "metadata": {},
   "outputs": [],
   "source": [
    "from sklearn.model_selection import train_test_split\n",
    "import pickle "
   ]
  },
  {
   "cell_type": "markdown",
   "metadata": {},
   "source": [
    "## Naive Bayes"
   ]
  },
  {
   "cell_type": "markdown",
   "metadata": {},
   "source": [
    "### Preprocessing"
   ]
  },
  {
   "cell_type": "code",
   "execution_count": 3,
   "metadata": {},
   "outputs": [],
   "source": [
    "from sklearn.feature_extraction.text import CountVectorizer"
   ]
  },
  {
   "cell_type": "code",
   "execution_count": 4,
   "metadata": {},
   "outputs": [],
   "source": [
    "df_naive_bayes =  pd.read_csv(\"../Dataset/Suicide_Detection(After Lemmitization).csv\")"
   ]
  },
  {
   "cell_type": "code",
   "execution_count": 5,
   "metadata": {
    "scrolled": true
   },
   "outputs": [
    {
     "data": {
      "text/plain": [
       "0"
      ]
     },
     "execution_count": 5,
     "metadata": {},
     "output_type": "execute_result"
    }
   ],
   "source": [
    "df_naive_bayes[\"text\"].isnull().sum()"
   ]
  },
  {
   "cell_type": "code",
   "execution_count": 6,
   "metadata": {
    "scrolled": true
   },
   "outputs": [
    {
     "data": {
      "text/plain": [
       "array(['ex wife threaten suicide recently leave wife good because cheat twice lie much decide refuse go back day ago begin threaten suicide tirelessly spent paat day talk keep hesitate because want believe ll come back know lot people threaten order get way but happen if really ? suppose handle death hand ? still love wife but not deal get cheat constantly feeling insecure m worry today may day hope much nt happen',\n",
       "       'weird nt get affect compliment if s come someone know irl but feel really good internet stranger',\n",
       "       'finally 2020 almost never hear 2020 bad year ever swear fuck god s annoy',\n",
       "       ...,\n",
       "       'pee probably taste like salty tea smirk face sweat droplet double exclamation mark someone drink pee confirm face roll eye double exclamation mark',\n",
       "       'usual stuff find m not post sympathy pity because know far bad situation mine but want get stuff but seem life no point everything do life ruin quit isolate everyone even family not even like tell family would help d consider psychotic probably right know m 18 no sense fuck universe want think seem like universe fuck make know s not m make fuck because nt think know want get people try help go rough patch get tough m do toughing life nt toughing look around family since m young ve see ridiculous shit happen s fuck post area because nt first time felt like try take life could nt w ha b ch k no w mean seriously cruel joke play despise life want know would like if end ca nt even s fuck because whenever around friend would put macho toughness guy like nothing hurt keep everything bottle nt anything life complain because option make good but good would come fail college because probably never get back track light socalled light end tunnel get small day',\n",
       "       'still nt beat first bos hollow knight ve fought time always die really early fight m terrible game yall'],\n",
       "      dtype=object)"
      ]
     },
     "execution_count": 6,
     "metadata": {},
     "output_type": "execute_result"
    }
   ],
   "source": [
    "df_naive_bayes[\"text\"].to_numpy()"
   ]
  },
  {
   "cell_type": "markdown",
   "metadata": {},
   "source": [
    "### Label Encoder (class/y)"
   ]
  },
  {
   "cell_type": "code",
   "execution_count": 12,
   "metadata": {},
   "outputs": [],
   "source": [
    "# Encode sentiment labels\n",
    "from sklearn.preprocessing import LabelEncoder\n",
    "labels = df_naive_bayes[\"class\"].values\n",
    "encoder = LabelEncoder()\n",
    "encoded_labels = encoder.fit_transform(labels)"
   ]
  },
  {
   "cell_type": "code",
   "execution_count": 52,
   "metadata": {},
   "outputs": [
    {
     "name": "stdout",
     "output_type": "stream",
     "text": [
      "[1 0 0 ... 0 1 0]\n",
      "No. of Records:  232056\n"
     ]
    }
   ],
   "source": [
    "print(encoded_labels)\n",
    "print(\"No. of Records: \", len(encoded_labels))"
   ]
  },
  {
   "cell_type": "markdown",
   "metadata": {},
   "source": [
    "### Split Data"
   ]
  },
  {
   "cell_type": "markdown",
   "metadata": {},
   "source": [
    "Split data into Train, Val, Test: 70%, 15%, 15%."
   ]
  },
  {
   "cell_type": "code",
   "execution_count": 53,
   "metadata": {
    "scrolled": true
   },
   "outputs": [
    {
     "name": "stdout",
     "output_type": "stream",
     "text": [
      "x_train shape:  (162439,)\n",
      "x_remain shape:  (69617,)\n",
      "y_train shape:  (162439,)\n",
      "y_remain shape:  (69617,)\n"
     ]
    }
   ],
   "source": [
    "# Split into train, remain, with stratify to maintain class proportion for each set\n",
    "x_train, x_remain, y_train, y_remain = train_test_split(df_naive_bayes[\"text\"], encoded_labels, stratify = encoded_labels, \n",
    "                                                    train_size=0.7, random_state=88)\n",
    "print(\"x_train shape: \", x_train.shape)\n",
    "print(\"x_remain shape: \", x_remain.shape)\n",
    "print(\"y_train shape: \", y_train.shape)\n",
    "print(\"y_remain shape: \", y_remain.shape)"
   ]
  },
  {
   "cell_type": "code",
   "execution_count": 59,
   "metadata": {},
   "outputs": [
    {
     "name": "stdout",
     "output_type": "stream",
     "text": [
      "x_val shape:  (34808,)\n",
      "x_test shape:  (34809,)\n",
      "y_val shape:  (34808,)\n",
      "y_test shape:  (34809,)\n"
     ]
    }
   ],
   "source": [
    "# Split into val, test\n",
    "x_val, x_test, y_val, y_test = train_test_split(x_remain, y_remain, stratify = y_remain, \n",
    "                                                    train_size=0.5, random_state=88)\n",
    "print(\"x_val shape: \", x_val.shape)\n",
    "print(\"x_test shape: \", x_test.shape)\n",
    "print(\"y_val shape: \", y_val.shape)\n",
    "print(\"y_test shape: \", y_test.shape)"
   ]
  },
  {
   "cell_type": "markdown",
   "metadata": {},
   "source": [
    "### Count Vectorizer (text/x)"
   ]
  },
  {
   "cell_type": "code",
   "execution_count": 54,
   "metadata": {},
   "outputs": [
    {
     "name": "stdout",
     "output_type": "stream",
     "text": [
      "Vocabulary Count:  3000\n"
     ]
    }
   ],
   "source": [
    "# Fit on Train data ONLY (Prevent data leakage to val and test sets)\n",
    "vectorizer = CountVectorizer(max_features=3000)\n",
    "vectorizer.fit(x_train)\n",
    "\n",
    "print(\"Vocabulary Count: \", len(vectorizer.vocabulary_))"
   ]
  },
  {
   "cell_type": "code",
   "execution_count": 67,
   "metadata": {},
   "outputs": [],
   "source": [
    "# Transform x train\n",
    "x_train_transformed = vectorizer.transform(x_train)\n",
    "# Transform x val\n",
    "x_val_transformed = vectorizer.transform(x_val)\n",
    "# Transform x test\n",
    "x_test_transformed = vectorizer.transform(x_test)"
   ]
  },
  {
   "cell_type": "code",
   "execution_count": 70,
   "metadata": {
    "scrolled": true
   },
   "outputs": [
    {
     "name": "stdout",
     "output_type": "stream",
     "text": [
      "x train transformed shape:  (162439, 3000)\n",
      "x val transformed shape:  (34808, 3000)\n",
      "x test transformed shape:  (34809, 3000)\n"
     ]
    }
   ],
   "source": [
    "print(\"x train transformed shape: \", x_train_transformed.toarray().shape)\n",
    "print(\"x val transformed shape: \", x_val_transformed.toarray().shape)\n",
    "print(\"x test transformed shape: \", x_test_transformed.toarray().shape)"
   ]
  },
  {
   "cell_type": "code",
   "execution_count": 71,
   "metadata": {},
   "outputs": [],
   "source": [
    "# transfrom x datasets to array type\n",
    "x_train_transformed = x_train_transformed.toarray()\n",
    "x_val_transformed = x_val_transformed.toarray()\n",
    "x_test_transformed = x_test_transformed.toarray()"
   ]
  },
  {
   "cell_type": "code",
   "execution_count": 63,
   "metadata": {},
   "outputs": [
    {
     "name": "stdout",
     "output_type": "stream",
     "text": [
      "ok\n"
     ]
    }
   ],
   "source": [
    "# Ensure transformation worked\n",
    "for i in x_train_transformed[5]:\n",
    "    if i == 1:\n",
    "        print(\"ok\")\n",
    "        break"
   ]
  },
  {
   "cell_type": "code",
   "execution_count": 64,
   "metadata": {},
   "outputs": [
    {
     "data": {
      "text/plain": [
       "3000"
      ]
     },
     "execution_count": 64,
     "metadata": {},
     "output_type": "execute_result"
    }
   ],
   "source": [
    "len(vectorizer.vocabulary_)"
   ]
  },
  {
   "cell_type": "code",
   "execution_count": 66,
   "metadata": {
    "scrolled": true
   },
   "outputs": [
    {
     "data": {
      "text/plain": [
       "{'need': 1762,\n",
       " 'help': 1256,\n",
       " 'get': 1139,\n",
       " 'depressed': 717,\n",
       " 'thinking': 2671,\n",
       " 'past': 1914,\n",
       " 'wife': 2924,\n",
       " 'meet': 1653,\n",
       " 'high': 1265,\n",
       " 'school': 2292,\n",
       " 'sophomore': 2465,\n",
       " 'year': 2981,\n",
       " 'great': 1179,\n",
       " 'senior': 2323,\n",
       " 'break': 388,\n",
       " 'because': 304,\n",
       " 'want': 2876,\n",
       " 'hang': 1216,\n",
       " 'friend': 1097,\n",
       " 'felt': 1014,\n",
       " 'like': 1536,\n",
       " 'start': 2512,\n",
       " 'talk': 2614,\n",
       " 'little': 1548,\n",
       " 'but': 424,\n",
       " 'stage': 2506,\n",
       " 'would': 2958,\n",
       " 'go': 1150,\n",
       " 'guy': 1202,\n",
       " 'make': 1601,\n",
       " 'jealous': 1444,\n",
       " 'told': 2710,\n",
       " 'later': 1495,\n",
       " 'back': 270,\n",
       " 'together': 2707,\n",
       " 'could': 609,\n",
       " 'commit': 543,\n",
       " 'relationship': 2179,\n",
       " 'fast': 996,\n",
       " 'forward': 1079,\n",
       " 'seven': 2339,\n",
       " 'present': 2040,\n",
       " 'marry': 1617,\n",
       " 'old': 1846,\n",
       " 'time': 2698,\n",
       " 'tell': 2637,\n",
       " 'sleep': 2420,\n",
       " 'mine': 1684,\n",
       " 'shock': 2366,\n",
       " 'ca': 430,\n",
       " 'nt': 1811,\n",
       " 'stop': 2530,\n",
       " 'picture': 1962,\n",
       " 'mind': 1682,\n",
       " 'image': 1355,\n",
       " 'two': 2775,\n",
       " 'sex': 2343,\n",
       " 'since': 2400,\n",
       " 'date': 682,\n",
       " 'young': 2989,\n",
       " 'never': 1774,\n",
       " 'really': 2148,\n",
       " 'anyone': 184,\n",
       " 'else': 874,\n",
       " 'except': 946,\n",
       " 'embarrass': 877,\n",
       " 'say': 2281,\n",
       " 'come': 539,\n",
       " 'something': 2455,\n",
       " 'special': 2479,\n",
       " 'everyday': 933,\n",
       " 'do': 791,\n",
       " 'position': 2012,\n",
       " 'stuff': 2553,\n",
       " 'mean': 1635,\n",
       " 'anything': 185,\n",
       " 'try': 2762,\n",
       " 'bad': 275,\n",
       " 'thats': 2657,\n",
       " 'know': 1481,\n",
       " 'wrong': 2968,\n",
       " 'broken': 401,\n",
       " 'see': 2312,\n",
       " 'work': 2947,\n",
       " 'imagine': 1356,\n",
       " 'insane': 1389,\n",
       " 'much': 1729,\n",
       " 'hat': 1230,\n",
       " 'hard': 1224,\n",
       " 'feel': 1010,\n",
       " 'depress': 716,\n",
       " 'doctor': 792,\n",
       " 'still': 2525,\n",
       " 'actually': 104,\n",
       " 'contemplate': 586,\n",
       " 'suicide': 2573,\n",
       " 'dead': 688,\n",
       " 'if': 1344,\n",
       " 'circumstance': 501,\n",
       " 've': 2842,\n",
       " 'fuck': 1106,\n",
       " 'lot': 1577,\n",
       " 'thing': 2669,\n",
       " 'long': 1568,\n",
       " 'period': 1942,\n",
       " 'recently': 2154,\n",
       " 'smoke': 2437,\n",
       " 'weed': 2899,\n",
       " 'ruin': 2261,\n",
       " 'last': 1492,\n",
       " 'good': 1157,\n",
       " 'december': 697,\n",
       " 'live': 1549,\n",
       " 'house': 1309,\n",
       " 'sometimes': 2457,\n",
       " 'cold': 532,\n",
       " 'one': 1849,\n",
       " 'another': 175,\n",
       " 'interact': 1408,\n",
       " 'always': 156,\n",
       " 'someone': 2454,\n",
       " 'reality': 2145,\n",
       " 'face': 974,\n",
       " 'everything': 935,\n",
       " 'unhappy': 2802,\n",
       " 'current': 661,\n",
       " 'place': 1974,\n",
       " 'life': 1531,\n",
       " 'right': 2229,\n",
       " 'city': 502,\n",
       " 'ex': 941,\n",
       " 'no': 1788,\n",
       " 'direction': 758,\n",
       " 'look': 1570,\n",
       " 'towards': 2728,\n",
       " 'keep': 1463,\n",
       " 'move': 1726,\n",
       " 'real': 2143,\n",
       " 'march': 1612,\n",
       " 'problem': 2059,\n",
       " 'feeling': 1011,\n",
       " 'pretty': 2045,\n",
       " 'yesterday': 2985,\n",
       " 'buy': 428,\n",
       " 'gun': 1200,\n",
       " 'process': 2061,\n",
       " 'cheer': 477,\n",
       " 'bit': 341,\n",
       " 'matter': 1627,\n",
       " 'gf': 1140,\n",
       " 'send': 2322,\n",
       " 'meme': 1657,\n",
       " 'way': 2889,\n",
       " 'figure': 1021,\n",
       " 'mail': 1595,\n",
       " 'best': 322,\n",
       " 'deserve': 722,\n",
       " 'allow': 145,\n",
       " 'issue': 1433,\n",
       " 'll': 1552,\n",
       " 'ask': 227,\n",
       " 'bunch': 416,\n",
       " 'teen': 2633,\n",
       " 'basically': 290,\n",
       " 'phone': 1953,\n",
       " 'stuck': 2550,\n",
       " 'screen': 2298,\n",
       " 'power': 2026,\n",
       " 'happen': 1217,\n",
       " 'yes': 2984,\n",
       " 'quite': 2110,\n",
       " 'often': 1839,\n",
       " 'tried': 2751,\n",
       " 'log': 1562,\n",
       " 'point': 1999,\n",
       " 'decide': 699,\n",
       " 'check': 476,\n",
       " 'sure': 2585,\n",
       " 'correct': 604,\n",
       " 'change': 468,\n",
       " 'somehow': 2453,\n",
       " 'tf': 2651,\n",
       " 'fix': 1041,\n",
       " 'im': 1354,\n",
       " 'run': 2263,\n",
       " '10': 10,\n",
       " 'btw': 408,\n",
       " 'important': 1361,\n",
       " 'consider': 579,\n",
       " 'idk': 1342,\n",
       " 'hey': 1261,\n",
       " 'wan': 2875,\n",
       " 'na': 1739,\n",
       " 'give': 1147,\n",
       " 'community': 547,\n",
       " 'day': 684,\n",
       " 'please': 1989,\n",
       " 'small': 2430,\n",
       " 'dumb': 836,\n",
       " 'dm': 790,\n",
       " 'comment': 542,\n",
       " 'whatever': 2910,\n",
       " 'tube': 2765,\n",
       " 'channel': 469,\n",
       " 'recommend': 2156,\n",
       " 'new': 1775,\n",
       " 'passionate': 1913,\n",
       " 'http': 1314,\n",
       " 'also': 152,\n",
       " 'lose': 1574,\n",
       " 'bet': 323,\n",
       " 'gon': 1156,\n",
       " 'account': 90,\n",
       " 'highly': 1266,\n",
       " '16': 19,\n",
       " 'utm_sourceshare': 2831,\n",
       " 'amp': 165,\n",
       " 'subreddit': 2559,\n",
       " 'post': 2017,\n",
       " 'people': 1936,\n",
       " 'understand': 2794,\n",
       " 'well': 2906,\n",
       " 'determine': 737,\n",
       " 'think': 2670,\n",
       " 'not': 1801,\n",
       " 'student': 2551,\n",
       " 'biology': 335,\n",
       " 'chemistry': 480,\n",
       " 'active': 100,\n",
       " 'turn': 2768,\n",
       " 'complete': 551,\n",
       " 'different': 751,\n",
       " 'person': 1945,\n",
       " '2nd': 43,\n",
       " 'university': 2809,\n",
       " 'program': 2069,\n",
       " 'month': 1714,\n",
       " 'ride': 2227,\n",
       " 'grade': 1166,\n",
       " 'fail': 980,\n",
       " 'family': 989,\n",
       " 'health': 1240,\n",
       " 'physically': 1958,\n",
       " 'mentally': 1661,\n",
       " 'crumble': 649,\n",
       " 'parent': 1902,\n",
       " 'divorce': 789,\n",
       " 'fight': 1020,\n",
       " 'financial': 1029,\n",
       " 'struggle': 2549,\n",
       " 'contribute': 590,\n",
       " 'extra': 970,\n",
       " 'money': 1710,\n",
       " 'enough': 902,\n",
       " 'even': 927,\n",
       " 'job': 1448,\n",
       " 'single': 2403,\n",
       " 'child': 483,\n",
       " 'effort': 864,\n",
       " 'cry': 651,\n",
       " 'everytime': 936,\n",
       " 'hear': 1242,\n",
       " 'physical': 1957,\n",
       " 'mental': 1660,\n",
       " 'deteriorate': 736,\n",
       " 'quit': 2109,\n",
       " 'gym': 1204,\n",
       " 'double': 803,\n",
       " 'motivation': 1723,\n",
       " 'reach': 2137,\n",
       " 'limit': 1540,\n",
       " 'result': 2216,\n",
       " 'become': 305,\n",
       " 'take': 2611,\n",
       " 'antidepressant': 178,\n",
       " 'pill': 1965,\n",
       " 'abuse': 78,\n",
       " 'final': 1026,\n",
       " 'exam': 944,\n",
       " 'tomorrow': 2713,\n",
       " 'focus': 1057,\n",
       " 'study': 2552,\n",
       " 'doesnt': 793,\n",
       " 'seem': 2314,\n",
       " 'listen': 1545,\n",
       " 'shit': 2364,\n",
       " 'cant': 441,\n",
       " 'blame': 348,\n",
       " 'natural': 1749,\n",
       " 'already': 150,\n",
       " 'independent': 1377,\n",
       " 'hop': 1289,\n",
       " 'truly': 2758,\n",
       " 'story': 2533,\n",
       " 'share': 2354,\n",
       " 'oh': 1840,\n",
       " 'youre': 2990,\n",
       " 'pussy': 2099,\n",
       " 'suffer': 2567,\n",
       " 'die': 747,\n",
       " 'country': 616,\n",
       " 'illness': 1353,\n",
       " 'arrive': 218,\n",
       " 'question': 2105,\n",
       " 'away': 262,\n",
       " 'arent': 211,\n",
       " 'selfish': 2319,\n",
       " 'answer': 176,\n",
       " 'hold': 1276,\n",
       " 'rope': 2249,\n",
       " 'ive': 1438,\n",
       " 'exhaust': 951,\n",
       " 'weak': 2890,\n",
       " 'strong': 2547,\n",
       " 'fall': 986,\n",
       " 'write': 2966,\n",
       " 'currently': 662,\n",
       " 'inner': 1386,\n",
       " 'demon': 711,\n",
       " 'drink': 822,\n",
       " 'online': 1850,\n",
       " 'end': 891,\n",
       " 'proceed': 2060,\n",
       " 'swallow': 2596,\n",
       " 'completely': 552,\n",
       " 'dont': 798,\n",
       " 'fate': 999,\n",
       " 'believe': 316,\n",
       " 'there': 2662,\n",
       " 'god': 1152,\n",
       " 'plan': 1977,\n",
       " 'control': 591,\n",
       " 'mom': 1707,\n",
       " 'suicidal': 2572,\n",
       " 'every': 931,\n",
       " 'conversation': 592,\n",
       " 'argument': 213,\n",
       " 'leave': 1509,\n",
       " '15': 18,\n",
       " 'deeply': 703,\n",
       " 'character': 470,\n",
       " 'february': 1006,\n",
       " 'don': 796,\n",
       " 'scar': 2283,\n",
       " 'somewhere': 2459,\n",
       " 'home': 1281,\n",
       " 'bipolar': 336,\n",
       " 'dh': 740,\n",
       " 'phase': 1952,\n",
       " 'tonight': 2717,\n",
       " 'thought': 2675,\n",
       " 'add': 106,\n",
       " 'frequently': 1093,\n",
       " 'close': 519,\n",
       " 'pas': 1910,\n",
       " 'read': 2140,\n",
       " 'note': 1802,\n",
       " 'almost': 146,\n",
       " 'step': 2522,\n",
       " 'possible': 2015,\n",
       " 'recovery': 2160,\n",
       " 'continue': 589,\n",
       " 'suggest': 2570,\n",
       " 'easy': 853,\n",
       " 'nor': 1796,\n",
       " 'reward': 2223,\n",
       " 'promise': 2072,\n",
       " 'absolutely': 76,\n",
       " 'worth': 2955,\n",
       " 'shot': 2372,\n",
       " 'sunday': 2578,\n",
       " 'june': 1458,\n",
       " '2019': 30,\n",
       " 'ago': 129,\n",
       " 'perhaps': 1941,\n",
       " 'understanding': 2795,\n",
       " 'body': 363,\n",
       " 'existence': 953,\n",
       " 'save': 2279,\n",
       " 'me': 1633,\n",
       " 'hasn': 1229,\n",
       " 'instead': 1399,\n",
       " 'hope': 1290,\n",
       " 'sorrow': 2466,\n",
       " 'surround': 2590,\n",
       " 'heart': 1245,\n",
       " 'love': 1580,\n",
       " 'world': 2949,\n",
       " 'wind': 2928,\n",
       " 'death': 693,\n",
       " 'son': 2460,\n",
       " 'partner': 1908,\n",
       " 'father': 1000,\n",
       " 'heavy': 1251,\n",
       " 'burden': 417,\n",
       " 'without': 2936,\n",
       " 'expect': 956,\n",
       " 'man': 1605,\n",
       " 'relief': 2184,\n",
       " 'nowhere': 1809,\n",
       " 'sight': 2388,\n",
       " 'trap': 2741,\n",
       " 'bus': 421,\n",
       " 'surely': 2586,\n",
       " 'follow': 1060,\n",
       " 'incredible': 1375,\n",
       " 'amount': 164,\n",
       " 'shame': 2352,\n",
       " 'bathroom': 294,\n",
       " 'around': 216,\n",
       " 'next': 1777,\n",
       " 'corner': 601,\n",
       " 'thousand': 2676,\n",
       " 'nobody': 1789,\n",
       " 'piss': 1968,\n",
       " 'medication': 1647,\n",
       " 'hopefully': 1292,\n",
       " 'bring': 397,\n",
       " 'sit': 2406,\n",
       " 'kill': 1469,\n",
       " 'everybody': 932,\n",
       " 'funny': 1119,\n",
       " 'spend': 2486,\n",
       " 'severely': 2342,\n",
       " 'let': 1522,\n",
       " 'clear': 510,\n",
       " 'certainly': 462,\n",
       " 'isn': 1428,\n",
       " 'boy': 380,\n",
       " 'whose': 2923,\n",
       " 'future': 1120,\n",
       " 'shape': 2353,\n",
       " 'shower': 2380,\n",
       " 'support': 2582,\n",
       " 'differently': 752,\n",
       " 'difficult': 753,\n",
       " 'simply': 2398,\n",
       " 'unable': 2789,\n",
       " 'full': 1113,\n",
       " 'half': 1210,\n",
       " 'reduce': 2165,\n",
       " '20': 24,\n",
       " 'due': 834,\n",
       " 'stress': 2541,\n",
       " '19': 22,\n",
       " 'diagnosis': 743,\n",
       " 'bleak': 351,\n",
       " 'true': 2757,\n",
       " 'cancer': 440,\n",
       " 'label': 1484,\n",
       " 'coward': 624,\n",
       " 'afternoon': 124,\n",
       " 'sweet': 2599,\n",
       " 'girl': 1145,\n",
       " 'yo': 2987,\n",
       " 'regret': 2172,\n",
       " 'maybe': 1631,\n",
       " 'situation': 2408,\n",
       " 'emotionally': 883,\n",
       " 'devastate': 738,\n",
       " 'reaction': 2139,\n",
       " 'five': 1040,\n",
       " 'unemployment': 2798,\n",
       " 'four': 1082,\n",
       " 'ever': 930,\n",
       " 'dad': 670,\n",
       " 'constant': 582,\n",
       " 'chronic': 495,\n",
       " 'pain': 1889,\n",
       " 'lead': 1503,\n",
       " 'cut': 665,\n",
       " 'claim': 504,\n",
       " 'owe': 1883,\n",
       " '500': 55,\n",
       " 'daily': 672,\n",
       " 'bank': 283,\n",
       " 'charge': 471,\n",
       " 'word': 2946,\n",
       " '100': 11,\n",
       " 'uc': 2778,\n",
       " 'ke': 1462,\n",
       " 'today': 2705,\n",
       " 'low': 1583,\n",
       " 'agony': 130,\n",
       " 'three': 2680,\n",
       " 'cost': 606,\n",
       " 'nothing': 1804,\n",
       " 'second': 2307,\n",
       " 'title': 2703,\n",
       " 'eat': 854,\n",
       " 'meal': 1634,\n",
       " 'instant': 1397,\n",
       " 'food': 1062,\n",
       " 'number': 1815,\n",
       " 'head': 1237,\n",
       " 'finish': 1034,\n",
       " 'rest': 2214,\n",
       " 'sorry': 2467,\n",
       " 'sister': 2405,\n",
       " 'bitch': 342,\n",
       " 'refuse': 2169,\n",
       " 'hung': 1324,\n",
       " 'experience': 960,\n",
       " 'cruel': 648,\n",
       " 'despair': 727,\n",
       " 'anymore': 182,\n",
       " 'tire': 2701,\n",
       " 'burn': 418,\n",
       " 'throw': 2683,\n",
       " 'normal': 1797,\n",
       " 'wont': 2944,\n",
       " 'stupid': 2554,\n",
       " 'decision': 700,\n",
       " 'okay': 1844,\n",
       " 'tip': 2700,\n",
       " 'hair': 1209,\n",
       " 'dark': 679,\n",
       " 'brown': 403,\n",
       " 'type': 2776,\n",
       " 'fake': 985,\n",
       " 'lip': 1543,\n",
       " 'ring': 2230,\n",
       " 'suit': 2574,\n",
       " 'tho': 2673,\n",
       " 'saw': 2280,\n",
       " 'probably': 2058,\n",
       " 'top': 2719,\n",
       " 'laugh': 1496,\n",
       " 'tear': 2629,\n",
       " 'might': 1675,\n",
       " 'happy': 1222,\n",
       " 'epic': 910,\n",
       " 'part': 1904,\n",
       " 'anyway': 187,\n",
       " 'thanks': 2656,\n",
       " 'reddit': 2162,\n",
       " 'cool': 596,\n",
       " 'vent': 2844,\n",
       " 'goodbye': 1158,\n",
       " 'el': 872,\n",
       " 'college': 535,\n",
       " 'may': 1630,\n",
       " 'learn': 1507,\n",
       " 'yall': 2977,\n",
       " 'super': 2580,\n",
       " 'dorm': 801,\n",
       " 'kitchen': 1476,\n",
       " 'lmao': 1553,\n",
       " 'meat': 1642,\n",
       " 'usually': 2829,\n",
       " 'cheap': 474,\n",
       " 'cause': 453,\n",
       " 'put': 2100,\n",
       " 'large': 1490,\n",
       " 'per': 1937,\n",
       " 'experiment': 961,\n",
       " 'hand': 1213,\n",
       " 'mix': 1695,\n",
       " 'cover': 622,\n",
       " 'least': 1508,\n",
       " 'night': 1782,\n",
       " 'pour': 2023,\n",
       " 'cook': 594,\n",
       " 'pair': 1894,\n",
       " 'white': 2918,\n",
       " 'taste': 2620,\n",
       " 'boyfriend': 381,\n",
       " 'filler': 1024,\n",
       " 'ugly': 2781,\n",
       " 'male': 1604,\n",
       " 'tall': 2616,\n",
       " 'yea': 2979,\n",
       " 'notice': 1806,\n",
       " 'star': 2510,\n",
       " 'iv': 1437,\n",
       " 'treat': 2747,\n",
       " 'poorly': 2008,\n",
       " 'hour': 1308,\n",
       " 'week': 2900,\n",
       " 'football': 1065,\n",
       " 'somebody': 2451,\n",
       " 'use': 2822,\n",
       " 'enjoy': 899,\n",
       " 'excite': 948,\n",
       " 'shitty': 2365,\n",
       " 'walk': 2873,\n",
       " 'obvious': 1824,\n",
       " 'stare': 2511,\n",
       " 'stand': 2508,\n",
       " 'blank': 349,\n",
       " 'disgust': 777,\n",
       " 'ok': 1843,\n",
       " 'ton': 2714,\n",
       " 'makeup': 1602,\n",
       " 'mask': 1618,\n",
       " 'tbh': 2623,\n",
       " 'anxiety': 179,\n",
       " 'free': 1088,\n",
       " 'skinny': 2413,\n",
       " 'wake': 2872,\n",
       " 'wear': 2893,\n",
       " 'depression': 718,\n",
       " 'tired': 2702,\n",
       " 'woman': 2940,\n",
       " 'personally': 1948,\n",
       " 'painful': 1890,\n",
       " 'open': 1855,\n",
       " 'attractive': 247,\n",
       " 'bar': 284,\n",
       " 'confidence': 565,\n",
       " 'crush': 650,\n",
       " 'application': 202,\n",
       " 'earth': 849,\n",
       " 'soon': 2462,\n",
       " 'hello': 1255,\n",
       " '24': 36,\n",
       " 'diagnose': 742,\n",
       " 'severe': 2341,\n",
       " 'psychiatric': 2082,\n",
       " 'disorder': 781,\n",
       " 'psychiatrist': 2083,\n",
       " 'reason': 2149,\n",
       " 'able': 72,\n",
       " 'success': 2562,\n",
       " 'sport': 2496,\n",
       " 'alone': 147,\n",
       " 'room': 2246,\n",
       " 'failure': 981,\n",
       " 'bear': 300,\n",
       " 'vacation': 2836,\n",
       " 'adopt': 112,\n",
       " 'didn': 745,\n",
       " 'mouth': 1725,\n",
       " 'smell': 2433,\n",
       " 'crap': 628,\n",
       " 'wash': 2882,\n",
       " 'survival': 2592,\n",
       " 'instinct': 1400,\n",
       " 'method': 1668,\n",
       " 'joke': 1451,\n",
       " 'tiktok': 2695,\n",
       " 'men': 1659,\n",
       " 'catch': 451,\n",
       " 'successful': 2563,\n",
       " 'own': 1884,\n",
       " 'car': 443,\n",
       " 'private': 2055,\n",
       " 'must': 1735,\n",
       " 'disappoint': 766,\n",
       " 'genuinely': 1138,\n",
       " 'many': 1611,\n",
       " 'watch': 2886,\n",
       " 'bother': 374,\n",
       " 'abusive': 81,\n",
       " 'fine': 1032,\n",
       " '22': 34,\n",
       " 'far': 994,\n",
       " 'behind': 314,\n",
       " 'wish': 2934,\n",
       " 'prove': 2079,\n",
       " 'humanity': 1320,\n",
       " 'atleast': 238,\n",
       " 'age': 127,\n",
       " 'desperate': 728,\n",
       " 'nightmare': 1783,\n",
       " 'addiction': 108,\n",
       " 'le': 1502,\n",
       " 'advice': 116,\n",
       " 'willing': 2926,\n",
       " '17': 20,\n",
       " 'speak': 2478,\n",
       " 'hmu': 1273,\n",
       " 'science': 2294,\n",
       " 'discord': 771,\n",
       " 'april': 207,\n",
       " '5th': 56,\n",
       " 'guess': 1195,\n",
       " 'fault': 1001,\n",
       " 'countless': 615,\n",
       " 'recent': 2153,\n",
       " '32': 47,\n",
       " 'bullet': 413,\n",
       " 'gift': 1144,\n",
       " 'self': 2316,\n",
       " 'rap': 2127,\n",
       " 'privacy': 2054,\n",
       " 'yet': 2986,\n",
       " 'find': 1031,\n",
       " 'repeat': 2197,\n",
       " 'annoy': 173,\n",
       " 'judge': 1454,\n",
       " 'silent': 2392,\n",
       " 'treatment': 2748,\n",
       " 'petty': 1951,\n",
       " 'girlfriend': 1146,\n",
       " 'trust': 2760,\n",
       " 'hurt': 1326,\n",
       " 'apologize': 194,\n",
       " 'chance': 467,\n",
       " 'apology': 195,\n",
       " 're': 2136,\n",
       " 'cheat': 475,\n",
       " 'chat': 473,\n",
       " 'mistake': 1694,\n",
       " 'recognize': 2155,\n",
       " 'wo': 2938,\n",
       " 'serious': 2331,\n",
       " 'rn': 2236,\n",
       " 'clearly': 511,\n",
       " 'lately': 1494,\n",
       " 'everyone': 934,\n",
       " 'apparently': 197,\n",
       " 'perfect': 1938,\n",
       " 'simple': 2397,\n",
       " 'call': 433,\n",
       " 'text': 2648,\n",
       " 'ot': 1867,\n",
       " 'hi': 1263,\n",
       " 'ng': 1778,\n",
       " 'bullshit': 414,\n",
       " 'immediately': 1359,\n",
       " 'sort': 2468,\n",
       " 'monster': 1713,\n",
       " 'lie': 1530,\n",
       " 'ignore': 1347,\n",
       " 'dry': 831,\n",
       " 'distance': 783,\n",
       " 'kind': 1471,\n",
       " 'big': 329,\n",
       " 'doubt': 804,\n",
       " 'forgive': 1070,\n",
       " 'uh': 2782,\n",
       " 'kick': 1467,\n",
       " 'address': 110,\n",
       " 'copy': 599,\n",
       " 'website': 2896,\n",
       " 'illegal': 1352,\n",
       " 'track': 2732,\n",
       " 'easily': 852,\n",
       " 'order': 1863,\n",
       " 'site': 2407,\n",
       " 'steal': 2520,\n",
       " 'police': 2002,\n",
       " 'haven': 1234,\n",
       " 'law': 1497,\n",
       " 'jump': 1457,\n",
       " 'bridge': 394,\n",
       " 'lonely': 1567,\n",
       " 'ou': 1870,\n",
       " 'ro': 2237,\n",
       " 'th': 2652,\n",
       " 'er': 912,\n",
       " 'ea': 843,\n",
       " 'oo': 1852,\n",
       " 'pe': 1926,\n",
       " 'ik': 1349,\n",
       " 'om': 1847,\n",
       " 'ki': 1466,\n",
       " 'ry': 2265,\n",
       " 'da': 669,\n",
       " 'nd': 1754,\n",
       " 'ay': 267,\n",
       " 'id': 1334,\n",
       " 'en': 888,\n",
       " 'et': 921,\n",
       " 'ut': 2830,\n",
       " 'al': 138,\n",
       " 'wa': 2869,\n",
       " 'choose': 489,\n",
       " 'suppose': 2584,\n",
       " 'location': 1559,\n",
       " 'disappear': 765,\n",
       " 'uncle': 2792,\n",
       " 'accuse': 91,\n",
       " 'respond': 2210,\n",
       " 'irl': 1426,\n",
       " 'ugh': 2780,\n",
       " 'approach': 206,\n",
       " 'living': 1551,\n",
       " 'fucked': 1107,\n",
       " 'wouldnt': 2960,\n",
       " 'sick': 2386,\n",
       " 'middle': 1673,\n",
       " 'wonder': 2942,\n",
       " 'milk': 1679,\n",
       " 'unhealthy': 2803,\n",
       " 'ya': 2976,\n",
       " 'therapy': 2661,\n",
       " '2018': 29,\n",
       " 'dump': 838,\n",
       " 'august': 249,\n",
       " 'october': 1830,\n",
       " 'breakup': 391,\n",
       " 'heartbroken': 1246,\n",
       " 'especially': 917,\n",
       " 'therapist': 2660,\n",
       " 'covid': 623,\n",
       " 'hospital': 1302,\n",
       " 'monday': 1709,\n",
       " 'spiral': 2491,\n",
       " 'piece': 1963,\n",
       " 'aware': 261,\n",
       " 'stable': 2504,\n",
       " 'skill': 2411,\n",
       " 'hobby': 1275,\n",
       " 'none': 1792,\n",
       " 'noone': 1793,\n",
       " 'hug': 1316,\n",
       " 'comfort': 540,\n",
       " 'happiness': 1221,\n",
       " 'useless': 2825,\n",
       " 'perfectly': 1939,\n",
       " 'thank': 2653,\n",
       " 'hit': 1272,\n",
       " 'truck': 2756,\n",
       " 'drift': 821,\n",
       " 'ultimately': 2786,\n",
       " 'abandon': 70,\n",
       " 'side': 2387,\n",
       " 'example': 945,\n",
       " 'win': 2927,\n",
       " 'tax': 2622,\n",
       " 'pay': 1921,\n",
       " 'detail': 735,\n",
       " 'punch': 2092,\n",
       " 'cuz': 667,\n",
       " 'stole': 2527,\n",
       " 'smile': 2435,\n",
       " 'weary': 2894,\n",
       " 'sweat': 2598,\n",
       " 'droplet': 827,\n",
       " 'roll': 2243,\n",
       " 'floor': 1052,\n",
       " 'shrug': 2381,\n",
       " 'sense': 2324,\n",
       " 'dream': 819,\n",
       " 'fucking': 1110,\n",
       " 'entire': 905,\n",
       " 'slight': 2424,\n",
       " 'shadow': 2349,\n",
       " 'worthless': 2956,\n",
       " 'others': 1868,\n",
       " 'care': 445,\n",
       " 'badly': 276,\n",
       " 'bed': 306,\n",
       " 'minute': 1688,\n",
       " 'entertain': 904,\n",
       " 'waste': 2885,\n",
       " 'talent': 2612,\n",
       " 'course': 619,\n",
       " 'morning': 1718,\n",
       " 'short': 2370,\n",
       " '9th': 67,\n",
       " 'hell': 1254,\n",
       " 'press': 2042,\n",
       " 'enter': 903,\n",
       " '18': 21,\n",
       " 'apartment': 192,\n",
       " 'sharp': 2355,\n",
       " 'knife': 1479,\n",
       " '50': 54,\n",
       " 'opinion': 1856,\n",
       " 'light': 1535,\n",
       " 'tunnel': 2767,\n",
       " 'till': 2697,\n",
       " 'ill': 1351,\n",
       " 'couple': 617,\n",
       " 'however': 1311,\n",
       " 'stone': 2529,\n",
       " 'rant': 2126,\n",
       " 'compare': 549,\n",
       " 'rock': 2241,\n",
       " 'decent': 698,\n",
       " 'miss': 1693,\n",
       " 'nerd': 1767,\n",
       " 'redditor': 2163,\n",
       " 'encounter': 889,\n",
       " 'awkward': 266,\n",
       " 'admit': 111,\n",
       " 'worry': 2951,\n",
       " 'randomly': 2124,\n",
       " 'anyways': 188,\n",
       " 'grow': 1190,\n",
       " 'everywhere': 937,\n",
       " 'awake': 259,\n",
       " 'asleep': 228,\n",
       " 'totally': 2724,\n",
       " 'first': 1036,\n",
       " 'deal': 690,\n",
       " 'zero': 2995,\n",
       " 'lock': 1560,\n",
       " 'foster': 1080,\n",
       " 'literally': 1547,\n",
       " 'sound': 2471,\n",
       " 'hy': 1330,\n",
       " 'achieve': 93,\n",
       " 'height': 1253,\n",
       " '21': 33,\n",
       " 'attention': 244,\n",
       " 'brain': 383,\n",
       " 'shut': 2382,\n",
       " 'drive': 824,\n",
       " 'test': 2647,\n",
       " 'pretend': 2044,\n",
       " 'dirty': 761,\n",
       " 'toilet': 2708,\n",
       " 'weird': 2904,\n",
       " 'kid': 1468,\n",
       " 'ed': 856,\n",
       " 'luckily': 1586,\n",
       " 'class': 506,\n",
       " 'main': 1596,\n",
       " 'along': 148,\n",
       " 'friends': 1099,\n",
       " 'usual': 2828,\n",
       " 'social': 2443,\n",
       " 'hide': 1264,\n",
       " 'near': 1756,\n",
       " 'snap': 2438,\n",
       " 'wait': 2871,\n",
       " 'nasty': 1746,\n",
       " 'motion': 1721,\n",
       " 'terrify': 2646,\n",
       " 'caught': 452,\n",
       " 'sat': 2276,\n",
       " 'muscle': 1733,\n",
       " 'obviously': 1825,\n",
       " 'computer': 556,\n",
       " 'inside': 1392,\n",
       " 'afraid': 122,\n",
       " 'show': 2379,\n",
       " 'explain': 962,\n",
       " 'whenever': 2914,\n",
       " 'anxious': 180,\n",
       " 'repeatedly': 2198,\n",
       " 'bi': 328,\n",
       " 'previous': 2048,\n",
       " 'ups': 2818,\n",
       " 'maintain': 1598,\n",
       " 'contact': 585,\n",
       " 'numb': 1814,\n",
       " 'friendship': 1100,\n",
       " 'thankful': 2654,\n",
       " 'replace': 2199,\n",
       " 'human': 1319,\n",
       " 'connection': 574,\n",
       " 'genuine': 1137,\n",
       " 'presence': 2039,\n",
       " 'tone': 2715,\n",
       " 'whilst': 2916,\n",
       " 'acquaintance': 96,\n",
       " 'idea': 1336,\n",
       " 'crash': 630,\n",
       " 'onto': 1851,\n",
       " 'despite': 731,\n",
       " 'fact': 977,\n",
       " 'nice': 1781,\n",
       " 'realise': 2144,\n",
       " 'flaw': 1047,\n",
       " 'endless': 892,\n",
       " 'cycle': 668,\n",
       " 'energy': 895,\n",
       " 'wanted': 2877,\n",
       " 'communicate': 545,\n",
       " 'isolation': 1432,\n",
       " 'anybody': 181,\n",
       " 'shy': 2383,\n",
       " 'option': 1860,\n",
       " 'eight': 870,\n",
       " 'hospitalize': 1303,\n",
       " 'participate': 1905,\n",
       " 'group': 1189,\n",
       " 'progress': 2070,\n",
       " 'hopeless': 1293,\n",
       " '12': 15,\n",
       " 'harder': 1225,\n",
       " 'bore': 369,\n",
       " 'music': 1734,\n",
       " 'yeah': 2980,\n",
       " 'increase': 1373,\n",
       " 'concern': 559,\n",
       " 'thursday': 2688,\n",
       " 'saturday': 2278,\n",
       " 'intense': 1406,\n",
       " 'panic': 1896,\n",
       " 'attack': 241,\n",
       " 'intrusive': 1418,\n",
       " 'major': 1599,\n",
       " 'tough': 2726,\n",
       " 'band': 281,\n",
       " 'favorite': 1003,\n",
       " 'mention': 1662,\n",
       " 'accept': 84,\n",
       " 'better': 325,\n",
       " 'didnt': 746,\n",
       " 'act': 98,\n",
       " 'beyond': 326,\n",
       " 'awful': 264,\n",
       " 'meaningless': 1638,\n",
       " 'chicken': 482,\n",
       " ...}"
      ]
     },
     "execution_count": 66,
     "metadata": {},
     "output_type": "execute_result"
    }
   ],
   "source": [
    "vectorizer.vocabulary_"
   ]
  },
  {
   "cell_type": "markdown",
   "metadata": {},
   "source": [
    "### Base Model"
   ]
  },
  {
   "cell_type": "code",
   "execution_count": 79,
   "metadata": {},
   "outputs": [],
   "source": [
    "from sklearn.naive_bayes import GaussianNB, MultinomialNB, BernoulliNB\n",
    "from sklearn.metrics import accuracy_score\n",
    "from sklearn.metrics import classification_report\n",
    "from sklearn.metrics import ConfusionMatrixDisplay"
   ]
  },
  {
   "cell_type": "code",
   "execution_count": 78,
   "metadata": {},
   "outputs": [],
   "source": [
    "multi_NB_base_model = MultinomialNB()\n",
    "multi_NB_base_model.fit(x_train_transformed, y_train)\n",
    "y_pred_base_model = multi_NB_base_model.predict(x_val_transformed)"
   ]
  },
  {
   "cell_type": "code",
   "execution_count": 83,
   "metadata": {},
   "outputs": [
    {
     "name": "stdout",
     "output_type": "stream",
     "text": [
      "Multinomial Accuracy: 0.860405653872673\n",
      "\n",
      "The classification report with metrics: \n",
      "\n",
      "               precision    recall  f1-score   support\n",
      "\n",
      "           0       0.95      0.76      0.84     17403\n",
      "           1       0.80      0.96      0.87     17405\n",
      "\n",
      "    accuracy                           0.86     34808\n",
      "   macro avg       0.88      0.86      0.86     34808\n",
      "weighted avg       0.88      0.86      0.86     34808\n",
      "\n"
     ]
    },
    {
     "data": {
      "text/plain": [
       "<sklearn.metrics._plot.confusion_matrix.ConfusionMatrixDisplay at 0x24adc0ebac8>"
      ]
     },
     "execution_count": 83,
     "metadata": {},
     "output_type": "execute_result"
    },
    {
     "data": {
      "image/png": "[encoded data removed]",
      "text/plain": [
       "<Figure size 432x288 with 2 Axes>"
      ]
     },
     "metadata": {
      "needs_background": "light"
     },
     "output_type": "display_data"
    }
   ],
   "source": [
    "# Results\n",
    "print(\"Multinomial Accuracy:\", accuracy_score(y_val, y_pred_base_model))\n",
    "print(\"\\nThe classification report with metrics: \\n\\n\", classification_report(y_val, y_pred_base_model))\n",
    "cm = confusion_matrix(y_val, y_pred_base_model)\n",
    "display = ConfusionMatrixDisplay(confusion_matrix=cm)\n",
    "display.plot()"
   ]
  },
  {
   "cell_type": "markdown",
   "metadata": {},
   "source": [
    "---------- Ensure predictor is working ----------"
   ]
  },
  {
   "cell_type": "markdown",
   "metadata": {},
   "source": [
    "Prediction is accurate for these three records by human evaluation."
   ]
  },
  {
   "cell_type": "code",
   "execution_count": 92,
   "metadata": {},
   "outputs": [
    {
     "data": {
      "text/plain": [
       "array([1, 0, 1, ..., 1, 1, 1])"
      ]
     },
     "execution_count": 92,
     "metadata": {},
     "output_type": "execute_result"
    }
   ],
   "source": [
    "y_pred_base_model"
   ]
  },
  {
   "cell_type": "code",
   "execution_count": 93,
   "metadata": {},
   "outputs": [
    {
     "data": {
      "text/plain": [
       "189704    like prepare future right no serious think sui...\n",
       "85943     2007 call bitch do ? see miss step bad luck ra...\n",
       "158847    m ready give life one disappointment another f...\n",
       "13769     good fashionable store buy clothes love point ...\n",
       "224794    future career goal ? filler filler filler fill...\n",
       "                                ...                        \n",
       "166920                       do m fuck bleed like crazy wow\n",
       "146894    want live like legend without monster thing m ...\n",
       "162623    another night alone honestly want kill m sick ...\n",
       "92625     think know definition pain ? think pimple schlong\n",
       "19459     suicide hotline hour ? look suicide hotlines c...\n",
       "Name: text, Length: 34808, dtype: object"
      ]
     },
     "execution_count": 93,
     "metadata": {},
     "output_type": "execute_result"
    }
   ],
   "source": [
    "x_val"
   ]
  },
  {
   "cell_type": "code",
   "execution_count": 94,
   "metadata": {
    "scrolled": true
   },
   "outputs": [
    {
     "data": {
      "text/plain": [
       "'like prepare future right no serious think suicide doubt serious think close future either but fear age death almost every day scar day beyond chance make life well best good day behind living regret what if think till fade away hospital bed piss shit pant fuck no not want live long want prepare think end life term way want go place want incredibly afraid life end not live today fuck wrong think ? give actual comfort know way if everything turn bad'"
      ]
     },
     "execution_count": 94,
     "metadata": {},
     "output_type": "execute_result"
    }
   ],
   "source": [
    "x_val[189704]"
   ]
  },
  {
   "cell_type": "code",
   "execution_count": 95,
   "metadata": {},
   "outputs": [
    {
     "data": {
      "text/plain": [
       "'2007 call bitch do ? see miss step bad luck random chance wait parent kick ?'"
      ]
     },
     "execution_count": 95,
     "metadata": {},
     "output_type": "execute_result"
    }
   ],
   "source": [
    "x_val[85943]"
   ]
  },
  {
   "cell_type": "code",
   "execution_count": 96,
   "metadata": {},
   "outputs": [
    {
     "data": {
      "text/plain": [
       "'m ready give life one disappointment another father leave little nt see since apparently real loser anyway mentor abuse almost three year leave real fucked mom yell ignore go way not touch think hate get anxious time never serious girlfriend old sister graduate no longer go live home get horrible grade school last year nt believe god anymore mean point throw towel say enough enough get one life earth u get dealt real shitty hand prolong ? s point living worthless life ? m not immediate risk right but s like even matter ? anyone even care ?'"
      ]
     },
     "execution_count": 96,
     "metadata": {},
     "output_type": "execute_result"
    }
   ],
   "source": [
    "x_val[158847]"
   ]
  },
  {
   "cell_type": "markdown",
   "metadata": {},
   "source": [
    "---------- Ensure predictor is working END ----------"
   ]
  }
 ],
 "metadata": {
  "kernelspec": {
   "display_name": "Python 3",
   "language": "python",
   "name": "python3"
  },
  "language_info": {
   "codemirror_mode": {
    "name": "ipython",
    "version": 3
   },
   "file_extension": ".py",
   "mimetype": "text/x-python",
   "name": "python",
   "nbconvert_exporter": "python",
   "pygments_lexer": "ipython3",
   "version": "3.7.9"
  }
 },
 "nbformat": 4,
 "nbformat_minor": 4
}
