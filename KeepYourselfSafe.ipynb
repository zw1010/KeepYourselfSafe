{
 "cells": [
  {
   "cell_type": "markdown",
   "metadata": {},
   "source": [
    "# Libraries"
   ]
  },
  {
   "cell_type": "code",
   "execution_count": 11,
   "metadata": {},
   "outputs": [
    {
     "name": "stderr",
     "output_type": "stream",
     "text": [
      "[nltk_data] Downloading package punkt to\n",
      "[nltk_data]     C:\\Users\\yeohz\\AppData\\Roaming\\nltk_data...\n",
      "[nltk_data]   Package punkt is already up-to-date!\n",
      "[nltk_data] Downloading package averaged_perceptron_tagger to\n",
      "[nltk_data]     C:\\Users\\yeohz\\AppData\\Roaming\\nltk_data...\n",
      "[nltk_data]   Package averaged_perceptron_tagger is already up-to-\n",
      "[nltk_data]       date!\n",
      "[nltk_data] Downloading package wordnet to\n",
      "[nltk_data]     C:\\Users\\yeohz\\AppData\\Roaming\\nltk_data...\n",
      "[nltk_data]   Package wordnet is already up-to-date!\n"
     ]
    },
    {
     "data": {
      "text/plain": [
       "True"
      ]
     },
     "execution_count": 11,
     "metadata": {},
     "output_type": "execute_result"
    }
   ],
   "source": [
    "import numpy as np \n",
    "import pandas as pd \n",
    "import tensorflow as tf \n",
    "import matplotlib.pyplot as plt \n",
    "import seaborn as sns\n",
    "import re\n",
    "import demoji\n",
    "from tqdm import tqdm\n",
    "import string\n",
    "import nltk\n",
    "from nltk.corpus import stopwords\n",
    "from nltk.tokenize import word_tokenize\n",
    "from nltk.corpus import wordnet\n",
    "from nltk.stem import WordNetLemmatizer\n",
    "from sklearn.model_selection import train_test_split\n",
    "import pickle\n",
    "\n",
    "# Download necessary NLTK data\n",
    "nltk.download('punkt')\n",
    "nltk.download('averaged_perceptron_tagger')\n",
    "nltk.download('wordnet')"
   ]
  },
  {
   "cell_type": "markdown",
   "metadata": {},
   "source": [
    "# Data Preperation"
   ]
  },
  {
   "cell_type": "markdown",
   "metadata": {},
   "source": [
    "#### Peek Data"
   ]
  },
  {
   "cell_type": "code",
   "execution_count": 34,
   "metadata": {
    "scrolled": true
   },
   "outputs": [
    {
     "data": {
      "text/html": [
       "<div>\n",
       "<style scoped>\n",
       "    .dataframe tbody tr th:only-of-type {\n",
       "        vertical-align: middle;\n",
       "    }\n",
       "\n",
       "    .dataframe tbody tr th {\n",
       "        vertical-align: top;\n",
       "    }\n",
       "\n",
       "    .dataframe thead th {\n",
       "        text-align: right;\n",
       "    }\n",
       "</style>\n",
       "<table border=\"1\" class=\"dataframe\">\n",
       "  <thead>\n",
       "    <tr style=\"text-align: right;\">\n",
       "      <th></th>\n",
       "      <th>Unnamed: 0</th>\n",
       "      <th>text</th>\n",
       "      <th>class</th>\n",
       "    </tr>\n",
       "  </thead>\n",
       "  <tbody>\n",
       "    <tr>\n",
       "      <th>0</th>\n",
       "      <td>2</td>\n",
       "      <td>Ex Wife Threatening SuicideRecently I left my ...</td>\n",
       "      <td>suicide</td>\n",
       "    </tr>\n",
       "    <tr>\n",
       "      <th>1</th>\n",
       "      <td>3</td>\n",
       "      <td>Am I weird I don't get affected by compliments...</td>\n",
       "      <td>non-suicide</td>\n",
       "    </tr>\n",
       "    <tr>\n",
       "      <th>2</th>\n",
       "      <td>4</td>\n",
       "      <td>Finally 2020 is almost over... So I can never ...</td>\n",
       "      <td>non-suicide</td>\n",
       "    </tr>\n",
       "    <tr>\n",
       "      <th>3</th>\n",
       "      <td>8</td>\n",
       "      <td>i need helpjust help me im crying so hard</td>\n",
       "      <td>suicide</td>\n",
       "    </tr>\n",
       "    <tr>\n",
       "      <th>4</th>\n",
       "      <td>9</td>\n",
       "      <td>I’m so lostHello, my name is Adam (16) and I’v...</td>\n",
       "      <td>suicide</td>\n",
       "    </tr>\n",
       "    <tr>\n",
       "      <th>...</th>\n",
       "      <td>...</td>\n",
       "      <td>...</td>\n",
       "      <td>...</td>\n",
       "    </tr>\n",
       "    <tr>\n",
       "      <th>232069</th>\n",
       "      <td>348103</td>\n",
       "      <td>If you don't like rock then your not going to ...</td>\n",
       "      <td>non-suicide</td>\n",
       "    </tr>\n",
       "    <tr>\n",
       "      <th>232070</th>\n",
       "      <td>348106</td>\n",
       "      <td>You how you can tell i have so many friends an...</td>\n",
       "      <td>non-suicide</td>\n",
       "    </tr>\n",
       "    <tr>\n",
       "      <th>232071</th>\n",
       "      <td>348107</td>\n",
       "      <td>pee probably tastes like salty tea😏💦‼️ can som...</td>\n",
       "      <td>non-suicide</td>\n",
       "    </tr>\n",
       "    <tr>\n",
       "      <th>232072</th>\n",
       "      <td>348108</td>\n",
       "      <td>The usual stuff you find hereI'm not posting t...</td>\n",
       "      <td>suicide</td>\n",
       "    </tr>\n",
       "    <tr>\n",
       "      <th>232073</th>\n",
       "      <td>348110</td>\n",
       "      <td>I still haven't beaten the first boss in Hollo...</td>\n",
       "      <td>non-suicide</td>\n",
       "    </tr>\n",
       "  </tbody>\n",
       "</table>\n",
       "<p>232074 rows × 3 columns</p>\n",
       "</div>"
      ],
      "text/plain": [
       "        Unnamed: 0                                               text  \\\n",
       "0                2  Ex Wife Threatening SuicideRecently I left my ...   \n",
       "1                3  Am I weird I don't get affected by compliments...   \n",
       "2                4  Finally 2020 is almost over... So I can never ...   \n",
       "3                8          i need helpjust help me im crying so hard   \n",
       "4                9  I’m so lostHello, my name is Adam (16) and I’v...   \n",
       "...            ...                                                ...   \n",
       "232069      348103  If you don't like rock then your not going to ...   \n",
       "232070      348106  You how you can tell i have so many friends an...   \n",
       "232071      348107  pee probably tastes like salty tea😏💦‼️ can som...   \n",
       "232072      348108  The usual stuff you find hereI'm not posting t...   \n",
       "232073      348110  I still haven't beaten the first boss in Hollo...   \n",
       "\n",
       "              class  \n",
       "0           suicide  \n",
       "1       non-suicide  \n",
       "2       non-suicide  \n",
       "3           suicide  \n",
       "4           suicide  \n",
       "...             ...  \n",
       "232069  non-suicide  \n",
       "232070  non-suicide  \n",
       "232071  non-suicide  \n",
       "232072      suicide  \n",
       "232073  non-suicide  \n",
       "\n",
       "[232074 rows x 3 columns]"
      ]
     },
     "execution_count": 34,
     "metadata": {},
     "output_type": "execute_result"
    }
   ],
   "source": [
    "df = pd.read_csv(\"../Dataset/Suicide_Detection.csv\")\n",
    "df"
   ]
  },
  {
   "cell_type": "markdown",
   "metadata": {},
   "source": [
    "#### Check Null"
   ]
  },
  {
   "cell_type": "code",
   "execution_count": 36,
   "metadata": {},
   "outputs": [
    {
     "data": {
      "text/plain": [
       "0"
      ]
     },
     "execution_count": 36,
     "metadata": {},
     "output_type": "execute_result"
    }
   ],
   "source": [
    "df[\"text\"].isnull().sum()"
   ]
  },
  {
   "cell_type": "markdown",
   "metadata": {},
   "source": [
    "#### Class Balance"
   ]
  },
  {
   "cell_type": "code",
   "execution_count": 35,
   "metadata": {},
   "outputs": [
    {
     "data": {
      "text/plain": [
       "suicide        116037\n",
       "non-suicide    116037\n",
       "Name: class, dtype: int64"
      ]
     },
     "execution_count": 35,
     "metadata": {},
     "output_type": "execute_result"
    }
   ],
   "source": [
    "df[\"class\"].value_counts()"
   ]
  },
  {
   "cell_type": "markdown",
   "metadata": {},
   "source": [
    "Suicide and non-suicide text are equal in number."
   ]
  },
  {
   "cell_type": "markdown",
   "metadata": {},
   "source": [
    "#### Add space to some camel cased words"
   ]
  },
  {
   "cell_type": "code",
   "execution_count": 37,
   "metadata": {},
   "outputs": [
    {
     "data": {
      "text/plain": [
       "0         Ex Wife Threatening Suicide Recently I left my...\n",
       "1         Am I weird I don't get affected by compliments...\n",
       "2         Finally 2020 is almost over... So I can never ...\n",
       "3                 i need helpjust help me im crying so hard\n",
       "4         I’m so lost Hello, my name is Adam (16) and I’...\n",
       "                                ...                        \n",
       "232069    If you don't like rock then your not going to ...\n",
       "232070    You how you can tell i have so many friends an...\n",
       "232071    pee probably tastes like salty tea😏💦‼️ can som...\n",
       "232072    The usual stuff you find here I'm not posting ...\n",
       "232073    I still haven't beaten the first boss in Hollo...\n",
       "Name: text, Length: 232074, dtype: object"
      ]
     },
     "execution_count": 37,
     "metadata": {},
     "output_type": "execute_result"
    }
   ],
   "source": [
    "df['text'] = df['text'].replace(r\"(\\w)([A-Z])\", r\"\\1 \\2\", regex=True)\n",
    "df['text']"
   ]
  },
  {
   "cell_type": "markdown",
   "metadata": {},
   "source": [
    "#### Convert Emojis into Text"
   ]
  },
  {
   "cell_type": "code",
   "execution_count": 39,
   "metadata": {},
   "outputs": [],
   "source": [
    "def emoji_to_text(text):\n",
    "    return demoji.replace_with_desc(text, \" \")"
   ]
  },
  {
   "cell_type": "code",
   "execution_count": 40,
   "metadata": {},
   "outputs": [
    {
     "name": "stderr",
     "output_type": "stream",
     "text": [
      "Progress Bar: 100%|███████████████████████████████████████████████████████████| 232074/232074 [22:55<00:00, 168.69it/s]\n"
     ]
    }
   ],
   "source": [
    "tqdm.pandas(desc=\"Progress Bar: \")\n",
    "df[\"text\"] = df[\"text\"].progress_apply(emoji_to_text)"
   ]
  },
  {
   "cell_type": "code",
   "execution_count": 41,
   "metadata": {
    "scrolled": true
   },
   "outputs": [
    {
     "data": {
      "text/plain": [
       "0         Ex Wife Threatening Suicide Recently I left my...\n",
       "1         Am I weird I don't get affected by compliments...\n",
       "2         Finally 2020 is almost over... So I can never ...\n",
       "3                 i need helpjust help me im crying so hard\n",
       "4         I’m so lost Hello, my name is Adam (16) and I’...\n",
       "                                ...                        \n",
       "232069    If you don't like rock then your not going to ...\n",
       "232070    You how you can tell i have so many friends an...\n",
       "232071    pee probably tastes like salty tea smirking fa...\n",
       "232072    The usual stuff you find here I'm not posting ...\n",
       "232073    I still haven't beaten the first boss in Hollo...\n",
       "Name: text, Length: 232074, dtype: object"
      ]
     },
     "execution_count": 41,
     "metadata": {},
     "output_type": "execute_result"
    }
   ],
   "source": [
    "df[\"text\"]"
   ]
  },
  {
   "cell_type": "markdown",
   "metadata": {},
   "source": [
    "#### Lowercase alphabets"
   ]
  },
  {
   "cell_type": "code",
   "execution_count": 43,
   "metadata": {},
   "outputs": [],
   "source": [
    "df[\"text\"] = df[\"text\"].str.lower()"
   ]
  },
  {
   "cell_type": "code",
   "execution_count": 44,
   "metadata": {
    "scrolled": true
   },
   "outputs": [
    {
     "data": {
      "text/plain": [
       "0         ex wife threatening suicide recently i left my...\n",
       "1         am i weird i don't get affected by compliments...\n",
       "2         finally 2020 is almost over... so i can never ...\n",
       "3                 i need helpjust help me im crying so hard\n",
       "4         i’m so lost hello, my name is adam (16) and i’...\n",
       "                                ...                        \n",
       "232069    if you don't like rock then your not going to ...\n",
       "232070    you how you can tell i have so many friends an...\n",
       "232071    pee probably tastes like salty tea smirking fa...\n",
       "232072    the usual stuff you find here i'm not posting ...\n",
       "232073    i still haven't beaten the first boss in hollo...\n",
       "Name: text, Length: 232074, dtype: object"
      ]
     },
     "execution_count": 44,
     "metadata": {},
     "output_type": "execute_result"
    }
   ],
   "source": [
    "df[\"text\"]"
   ]
  },
  {
   "cell_type": "markdown",
   "metadata": {},
   "source": [
    "#### Remove Stop Words"
   ]
  },
  {
   "cell_type": "code",
   "execution_count": 49,
   "metadata": {},
   "outputs": [
    {
     "name": "stderr",
     "output_type": "stream",
     "text": [
      "[nltk_data] Downloading package stopwords to\n",
      "[nltk_data]     C:\\Users\\yeohz\\AppData\\Roaming\\nltk_data...\n",
      "[nltk_data]   Package stopwords is already up-to-date!\n",
      "[nltk_data] Downloading package punkt to\n",
      "[nltk_data]     C:\\Users\\yeohz\\AppData\\Roaming\\nltk_data...\n",
      "[nltk_data]   Package punkt is already up-to-date!\n"
     ]
    }
   ],
   "source": [
    "# Show incuded stop words\n",
    "nltk.download('stopwords')\n",
    "nltk.download('punkt')\n",
    "stopwords = stopwords.words('english')"
   ]
  },
  {
   "cell_type": "code",
   "execution_count": 50,
   "metadata": {},
   "outputs": [
    {
     "data": {
      "text/plain": [
       "['i',\n",
       " 'me',\n",
       " 'my',\n",
       " 'myself',\n",
       " 'we',\n",
       " 'our',\n",
       " 'ours',\n",
       " 'ourselves',\n",
       " 'you',\n",
       " \"you're\",\n",
       " \"you've\",\n",
       " \"you'll\",\n",
       " \"you'd\",\n",
       " 'your',\n",
       " 'yours',\n",
       " 'yourself',\n",
       " 'yourselves',\n",
       " 'he',\n",
       " 'him',\n",
       " 'his',\n",
       " 'himself',\n",
       " 'she',\n",
       " \"she's\",\n",
       " 'her',\n",
       " 'hers',\n",
       " 'herself',\n",
       " 'it',\n",
       " \"it's\",\n",
       " 'its',\n",
       " 'itself',\n",
       " 'they',\n",
       " 'them',\n",
       " 'their',\n",
       " 'theirs',\n",
       " 'themselves',\n",
       " 'what',\n",
       " 'which',\n",
       " 'who',\n",
       " 'whom',\n",
       " 'this',\n",
       " 'that',\n",
       " \"that'll\",\n",
       " 'these',\n",
       " 'those',\n",
       " 'am',\n",
       " 'is',\n",
       " 'are',\n",
       " 'was',\n",
       " 'were',\n",
       " 'be',\n",
       " 'been',\n",
       " 'being',\n",
       " 'have',\n",
       " 'has',\n",
       " 'had',\n",
       " 'having',\n",
       " 'do',\n",
       " 'does',\n",
       " 'did',\n",
       " 'doing',\n",
       " 'a',\n",
       " 'an',\n",
       " 'the',\n",
       " 'and',\n",
       " 'but',\n",
       " 'if',\n",
       " 'or',\n",
       " 'because',\n",
       " 'as',\n",
       " 'until',\n",
       " 'while',\n",
       " 'of',\n",
       " 'at',\n",
       " 'by',\n",
       " 'for',\n",
       " 'with',\n",
       " 'about',\n",
       " 'against',\n",
       " 'between',\n",
       " 'into',\n",
       " 'through',\n",
       " 'during',\n",
       " 'before',\n",
       " 'after',\n",
       " 'above',\n",
       " 'below',\n",
       " 'to',\n",
       " 'from',\n",
       " 'up',\n",
       " 'down',\n",
       " 'in',\n",
       " 'out',\n",
       " 'on',\n",
       " 'off',\n",
       " 'over',\n",
       " 'under',\n",
       " 'again',\n",
       " 'further',\n",
       " 'then',\n",
       " 'once',\n",
       " 'here',\n",
       " 'there',\n",
       " 'when',\n",
       " 'where',\n",
       " 'why',\n",
       " 'how',\n",
       " 'all',\n",
       " 'any',\n",
       " 'both',\n",
       " 'each',\n",
       " 'few',\n",
       " 'more',\n",
       " 'most',\n",
       " 'other',\n",
       " 'some',\n",
       " 'such',\n",
       " 'no',\n",
       " 'nor',\n",
       " 'not',\n",
       " 'only',\n",
       " 'own',\n",
       " 'same',\n",
       " 'so',\n",
       " 'than',\n",
       " 'too',\n",
       " 'very',\n",
       " 's',\n",
       " 't',\n",
       " 'can',\n",
       " 'will',\n",
       " 'just',\n",
       " 'don',\n",
       " \"don't\",\n",
       " 'should',\n",
       " \"should've\",\n",
       " 'now',\n",
       " 'd',\n",
       " 'll',\n",
       " 'm',\n",
       " 'o',\n",
       " 're',\n",
       " 've',\n",
       " 'y',\n",
       " 'ain',\n",
       " 'aren',\n",
       " \"aren't\",\n",
       " 'couldn',\n",
       " \"couldn't\",\n",
       " 'didn',\n",
       " \"didn't\",\n",
       " 'doesn',\n",
       " \"doesn't\",\n",
       " 'hadn',\n",
       " \"hadn't\",\n",
       " 'hasn',\n",
       " \"hasn't\",\n",
       " 'haven',\n",
       " \"haven't\",\n",
       " 'isn',\n",
       " \"isn't\",\n",
       " 'ma',\n",
       " 'mightn',\n",
       " \"mightn't\",\n",
       " 'mustn',\n",
       " \"mustn't\",\n",
       " 'needn',\n",
       " \"needn't\",\n",
       " 'shan',\n",
       " \"shan't\",\n",
       " 'shouldn',\n",
       " \"shouldn't\",\n",
       " 'wasn',\n",
       " \"wasn't\",\n",
       " 'weren',\n",
       " \"weren't\",\n",
       " 'won',\n",
       " \"won't\",\n",
       " 'wouldn',\n",
       " \"wouldn't\"]"
      ]
     },
     "execution_count": 50,
     "metadata": {},
     "output_type": "execute_result"
    }
   ],
   "source": [
    "stopwords"
   ]
  },
  {
   "cell_type": "code",
   "execution_count": 51,
   "metadata": {},
   "outputs": [],
   "source": [
    "stopWordExceptions = [\"but\", \"if\", \"because\", \"against\",'no', 'nor','not', 'don', \"don't\", \"ain\", \n",
    "\"aren't\", 'aren',  'couldn',  \"couldn't\", 'didn', \"didn't\", \"doesn't\", 'hadn', \"hadn't\", 'hasn', \"hasn't\", 'haven',\n",
    "\"haven't\", 'isn', \"isn't\", \"mustn't\", 'shan', \"shan't\", 'shouldn',\"shouldn't\", 'wasn', \"wasn't\",\n",
    "'weren', \"weren't\", 'won', \"won't\", 'wouldn', \"wouldn't\"]"
   ]
  },
  {
   "cell_type": "code",
   "execution_count": 52,
   "metadata": {},
   "outputs": [
    {
     "name": "stdout",
     "output_type": "stream",
     "text": [
      "Stop word exceptions:  38\n",
      "Stop words:  179\n"
     ]
    }
   ],
   "source": [
    "print(\"Stop word exceptions: \", len(stopWordExceptions))\n",
    "print(\"Stop words: \", len(stopwords))"
   ]
  },
  {
   "cell_type": "code",
   "execution_count": 53,
   "metadata": {},
   "outputs": [
    {
     "data": {
      "text/plain": [
       "141"
      ]
     },
     "execution_count": 53,
     "metadata": {},
     "output_type": "execute_result"
    }
   ],
   "source": [
    "customStopWords = [word for word in stopwords if word not in stopWordExceptions]\n",
    "len(customStopWords)"
   ]
  },
  {
   "cell_type": "code",
   "execution_count": 54,
   "metadata": {},
   "outputs": [],
   "source": [
    "def RemoveStopWords(text):\n",
    "    word_tokens = word_tokenize(text)\n",
    "    filtered_sentence = [word for word in word_tokens if word not in customStopWords]\n",
    "    return filtered_sentence"
   ]
  },
  {
   "cell_type": "code",
   "execution_count": 55,
   "metadata": {},
   "outputs": [
    {
     "name": "stderr",
     "output_type": "stream",
     "text": [
      "Progress Bar: 100%|███████████████████████████████████████████████████████████| 232074/232074 [04:12<00:00, 918.36it/s]\n"
     ]
    }
   ],
   "source": [
    "df[\"text\"] = df[\"text\"].progress_apply(RemoveStopWords)"
   ]
  },
  {
   "cell_type": "code",
   "execution_count": 56,
   "metadata": {},
   "outputs": [
    {
     "data": {
      "text/plain": [
       "0         [ex, wife, threatening, suicide, recently, lef...\n",
       "1         [weird, n't, get, affected, compliments, if, '...\n",
       "2         [finally, 2020, almost, ..., never, hear, ``, ...\n",
       "3                  [need, helpjust, help, im, crying, hard]\n",
       "4         [’, lost, hello, ,, name, adam, (, 16, ), ’, s...\n",
       "                                ...                        \n",
       "232069    [if, n't, like, rock, not, going, get, anythin...\n",
       "232070    [tell, many, friends, not, lonely, everything,...\n",
       "232071    [pee, probably, tastes, like, salty, tea, smir...\n",
       "232072    [usual, stuff, find, 'm, not, posting, sympath...\n",
       "232073    [still, n't, beaten, first, boss, hollow, knig...\n",
       "Name: text, Length: 232074, dtype: object"
      ]
     },
     "execution_count": 56,
     "metadata": {},
     "output_type": "execute_result"
    }
   ],
   "source": [
    "df[\"text\"]"
   ]
  },
  {
   "cell_type": "markdown",
   "metadata": {},
   "source": [
    "#### Remove Punctuations"
   ]
  },
  {
   "cell_type": "code",
   "execution_count": 59,
   "metadata": {},
   "outputs": [],
   "source": [
    "def RemovePunctuations(text):\n",
    "    cleaned_text = []\n",
    "    for word in text:\n",
    "        word = re.sub('[^\\w\\s!?]','', word)\n",
    "        if word != \"\":\n",
    "            cleaned_text.append(word)\n",
    "    return cleaned_text"
   ]
  },
  {
   "cell_type": "code",
   "execution_count": 60,
   "metadata": {},
   "outputs": [],
   "source": [
    "# Not alphabet o digit, remove\n",
    "df[\"text\"] = df['text'].apply(RemovePunctuations)"
   ]
  },
  {
   "cell_type": "code",
   "execution_count": 61,
   "metadata": {},
   "outputs": [
    {
     "data": {
      "text/plain": [
       "0         [ex, wife, threatening, suicide, recently, lef...\n",
       "1         [weird, nt, get, affected, compliments, if, s,...\n",
       "2         [finally, 2020, almost, never, hear, 2020, bad...\n",
       "3                  [need, helpjust, help, im, crying, hard]\n",
       "4         [lost, hello, name, adam, 16, struggling, year...\n",
       "                                ...                        \n",
       "232069    [if, nt, like, rock, not, going, get, anything...\n",
       "232070    [tell, many, friends, not, lonely, everything,...\n",
       "232071    [pee, probably, tastes, like, salty, tea, smir...\n",
       "232072    [usual, stuff, find, m, not, posting, sympathy...\n",
       "232073    [still, nt, beaten, first, boss, hollow, knigh...\n",
       "Name: text, Length: 232074, dtype: object"
      ]
     },
     "execution_count": 61,
     "metadata": {},
     "output_type": "execute_result"
    }
   ],
   "source": [
    "df[\"text\"]"
   ]
  },
  {
   "cell_type": "code",
   "execution_count": 151,
   "metadata": {},
   "outputs": [
    {
     "data": {
      "text/html": [
       "<div>\n",
       "<style scoped>\n",
       "    .dataframe tbody tr th:only-of-type {\n",
       "        vertical-align: middle;\n",
       "    }\n",
       "\n",
       "    .dataframe tbody tr th {\n",
       "        vertical-align: top;\n",
       "    }\n",
       "\n",
       "    .dataframe thead th {\n",
       "        text-align: right;\n",
       "    }\n",
       "</style>\n",
       "<table border=\"1\" class=\"dataframe\">\n",
       "  <thead>\n",
       "    <tr style=\"text-align: right;\">\n",
       "      <th></th>\n",
       "      <th>text</th>\n",
       "      <th>class</th>\n",
       "    </tr>\n",
       "  </thead>\n",
       "  <tbody>\n",
       "    <tr>\n",
       "      <th>0</th>\n",
       "      <td>ex wife threatening suicide recently left wife...</td>\n",
       "      <td>suicide</td>\n",
       "    </tr>\n",
       "    <tr>\n",
       "      <th>1</th>\n",
       "      <td>weird nt get affected compliments if s coming ...</td>\n",
       "      <td>non-suicide</td>\n",
       "    </tr>\n",
       "    <tr>\n",
       "      <th>2</th>\n",
       "      <td>finally 2020 almost never hear 2020 bad year e...</td>\n",
       "      <td>non-suicide</td>\n",
       "    </tr>\n",
       "    <tr>\n",
       "      <th>3</th>\n",
       "      <td>need helpjust help im crying hard</td>\n",
       "      <td>suicide</td>\n",
       "    </tr>\n",
       "    <tr>\n",
       "      <th>4</th>\n",
       "      <td>lost hello name adam 16 struggling years afrai...</td>\n",
       "      <td>suicide</td>\n",
       "    </tr>\n",
       "    <tr>\n",
       "      <th>...</th>\n",
       "      <td>...</td>\n",
       "      <td>...</td>\n",
       "    </tr>\n",
       "    <tr>\n",
       "      <th>232069</th>\n",
       "      <td>if nt like rock not going get anything but go ...</td>\n",
       "      <td>non-suicide</td>\n",
       "    </tr>\n",
       "    <tr>\n",
       "      <th>232070</th>\n",
       "      <td>tell many friends not lonely everything depriv...</td>\n",
       "      <td>non-suicide</td>\n",
       "    </tr>\n",
       "    <tr>\n",
       "      <th>232071</th>\n",
       "      <td>pee probably tastes like salty tea smirking fa...</td>\n",
       "      <td>non-suicide</td>\n",
       "    </tr>\n",
       "    <tr>\n",
       "      <th>232072</th>\n",
       "      <td>usual stuff find m not posting sympathy pity b...</td>\n",
       "      <td>suicide</td>\n",
       "    </tr>\n",
       "    <tr>\n",
       "      <th>232073</th>\n",
       "      <td>still nt beaten first boss hollow knight ve fo...</td>\n",
       "      <td>non-suicide</td>\n",
       "    </tr>\n",
       "  </tbody>\n",
       "</table>\n",
       "<p>232074 rows × 2 columns</p>\n",
       "</div>"
      ],
      "text/plain": [
       "                                                     text        class\n",
       "0       ex wife threatening suicide recently left wife...      suicide\n",
       "1       weird nt get affected compliments if s coming ...  non-suicide\n",
       "2       finally 2020 almost never hear 2020 bad year e...  non-suicide\n",
       "3                       need helpjust help im crying hard      suicide\n",
       "4       lost hello name adam 16 struggling years afrai...      suicide\n",
       "...                                                   ...          ...\n",
       "232069  if nt like rock not going get anything but go ...  non-suicide\n",
       "232070  tell many friends not lonely everything depriv...  non-suicide\n",
       "232071  pee probably tastes like salty tea smirking fa...  non-suicide\n",
       "232072  usual stuff find m not posting sympathy pity b...      suicide\n",
       "232073  still nt beaten first boss hollow knight ve fo...  non-suicide\n",
       "\n",
       "[232074 rows x 2 columns]"
      ]
     },
     "execution_count": 151,
     "metadata": {},
     "output_type": "execute_result"
    }
   ],
   "source": [
    "df_temp = pd.read_csv(\"../Dataset/Suicide_Detection(After Remove Stop Words).csv\")\n",
    "df_temp"
   ]
  },
  {
   "cell_type": "code",
   "execution_count": 152,
   "metadata": {},
   "outputs": [],
   "source": [
    "# Drop nan values due to remove stop words; 18 records\n",
    "df_temp = df_temp.dropna(axis=0)"
   ]
  },
  {
   "cell_type": "code",
   "execution_count": 154,
   "metadata": {},
   "outputs": [
    {
     "data": {
      "text/html": [
       "<div>\n",
       "<style scoped>\n",
       "    .dataframe tbody tr th:only-of-type {\n",
       "        vertical-align: middle;\n",
       "    }\n",
       "\n",
       "    .dataframe tbody tr th {\n",
       "        vertical-align: top;\n",
       "    }\n",
       "\n",
       "    .dataframe thead th {\n",
       "        text-align: right;\n",
       "    }\n",
       "</style>\n",
       "<table border=\"1\" class=\"dataframe\">\n",
       "  <thead>\n",
       "    <tr style=\"text-align: right;\">\n",
       "      <th></th>\n",
       "      <th>text</th>\n",
       "      <th>class</th>\n",
       "    </tr>\n",
       "  </thead>\n",
       "  <tbody>\n",
       "    <tr>\n",
       "      <th>0</th>\n",
       "      <td>ex wife threatening suicide recently left wife...</td>\n",
       "      <td>suicide</td>\n",
       "    </tr>\n",
       "    <tr>\n",
       "      <th>1</th>\n",
       "      <td>weird nt get affected compliments if s coming ...</td>\n",
       "      <td>non-suicide</td>\n",
       "    </tr>\n",
       "    <tr>\n",
       "      <th>2</th>\n",
       "      <td>finally 2020 almost never hear 2020 bad year e...</td>\n",
       "      <td>non-suicide</td>\n",
       "    </tr>\n",
       "    <tr>\n",
       "      <th>3</th>\n",
       "      <td>need helpjust help im crying hard</td>\n",
       "      <td>suicide</td>\n",
       "    </tr>\n",
       "    <tr>\n",
       "      <th>4</th>\n",
       "      <td>lost hello name adam 16 struggling years afrai...</td>\n",
       "      <td>suicide</td>\n",
       "    </tr>\n",
       "    <tr>\n",
       "      <th>...</th>\n",
       "      <td>...</td>\n",
       "      <td>...</td>\n",
       "    </tr>\n",
       "    <tr>\n",
       "      <th>232069</th>\n",
       "      <td>if nt like rock not going get anything but go ...</td>\n",
       "      <td>non-suicide</td>\n",
       "    </tr>\n",
       "    <tr>\n",
       "      <th>232070</th>\n",
       "      <td>tell many friends not lonely everything depriv...</td>\n",
       "      <td>non-suicide</td>\n",
       "    </tr>\n",
       "    <tr>\n",
       "      <th>232071</th>\n",
       "      <td>pee probably tastes like salty tea smirking fa...</td>\n",
       "      <td>non-suicide</td>\n",
       "    </tr>\n",
       "    <tr>\n",
       "      <th>232072</th>\n",
       "      <td>usual stuff find m not posting sympathy pity b...</td>\n",
       "      <td>suicide</td>\n",
       "    </tr>\n",
       "    <tr>\n",
       "      <th>232073</th>\n",
       "      <td>still nt beaten first boss hollow knight ve fo...</td>\n",
       "      <td>non-suicide</td>\n",
       "    </tr>\n",
       "  </tbody>\n",
       "</table>\n",
       "<p>232056 rows × 2 columns</p>\n",
       "</div>"
      ],
      "text/plain": [
       "                                                     text        class\n",
       "0       ex wife threatening suicide recently left wife...      suicide\n",
       "1       weird nt get affected compliments if s coming ...  non-suicide\n",
       "2       finally 2020 almost never hear 2020 bad year e...  non-suicide\n",
       "3                       need helpjust help im crying hard      suicide\n",
       "4       lost hello name adam 16 struggling years afrai...      suicide\n",
       "...                                                   ...          ...\n",
       "232069  if nt like rock not going get anything but go ...  non-suicide\n",
       "232070  tell many friends not lonely everything depriv...  non-suicide\n",
       "232071  pee probably tastes like salty tea smirking fa...  non-suicide\n",
       "232072  usual stuff find m not posting sympathy pity b...      suicide\n",
       "232073  still nt beaten first boss hollow knight ve fo...  non-suicide\n",
       "\n",
       "[232056 rows x 2 columns]"
      ]
     },
     "execution_count": 154,
     "metadata": {},
     "output_type": "execute_result"
    }
   ],
   "source": [
    "df_temp"
   ]
  },
  {
   "cell_type": "code",
   "execution_count": 155,
   "metadata": {},
   "outputs": [],
   "source": [
    "df_temp.to_csv(\"../Dataset/Suicide_Detection(After Remove Stop Words nan removed).csv\", index=False)"
   ]
  },
  {
   "cell_type": "code",
   "execution_count": 157,
   "metadata": {},
   "outputs": [],
   "source": [
    "df = df_temp"
   ]
  },
  {
   "cell_type": "code",
   "execution_count": 159,
   "metadata": {},
   "outputs": [],
   "source": [
    "df = df_temp.copy()"
   ]
  },
  {
   "cell_type": "markdown",
   "metadata": {},
   "source": [
    "#### Lemmatization"
   ]
  },
  {
   "cell_type": "code",
   "execution_count": 160,
   "metadata": {},
   "outputs": [
    {
     "name": "stdout",
     "output_type": "stream",
     "text": [
      "0         ex wife threaten suicide recently leave wife g...\n",
      "1         weird nt get affect compliment if s come someo...\n",
      "2         finally 2020 almost never hear 2020 bad year e...\n",
      "3                            need helpjust help im cry hard\n",
      "4         lose hello name adam 16 struggle year afraid p...\n",
      "                                ...                        \n",
      "232069    if nt like rock not go get anything but go htt...\n",
      "232070    tell many friend not lonely everything deprive...\n",
      "232071    pee probably taste like salty tea smirk face s...\n",
      "232072    usual stuff find m not post sympathy pity beca...\n",
      "232073    still nt beat first bos hollow knight ve fough...\n",
      "Name: text, Length: 232056, dtype: object\n"
     ]
    }
   ],
   "source": [
    "# Initialize the WordNetLemmatizer\n",
    "wnl = WordNetLemmatizer()\n",
    "\n",
    "# Function to map NLTK POS tags to WordNet POS tags\n",
    "def get_wordnet_pos(treebank_tag):\n",
    "    if treebank_tag.startswith('J'):\n",
    "        return wordnet.ADJ\n",
    "    elif treebank_tag.startswith('V'):\n",
    "        return wordnet.VERB\n",
    "    elif treebank_tag.startswith('N'):\n",
    "        return wordnet.NOUN\n",
    "    elif treebank_tag.startswith('R'):\n",
    "        return wordnet.ADV\n",
    "    else:\n",
    "        return wordnet.NOUN  # Default to noun\n",
    "\n",
    "\n",
    "# Function to lemmatize a text\n",
    "def lemmatize_text(text):\n",
    "    # Tokenize the text\n",
    "    tokens = nltk.word_tokenize(text)\n",
    "    # POS tagging\n",
    "    tagged_words = nltk.pos_tag(tokens)\n",
    "    # Lemmatize each word with POS tag\n",
    "    lemmatized_words = [wnl.lemmatize(word, pos=get_wordnet_pos(tag)) for word, tag in tagged_words]\n",
    "    # Join lemmatized words into a single string\n",
    "    lemmatized_text = ' '.join(lemmatized_words)\n",
    "    return lemmatized_text\n",
    "\n",
    "# # Ensure all entries in the 'text' column are strings\n",
    "# df[\"text\"] = df[\"text\"].apply(lambda x: ' '.join(x) if isinstance(x, list) else str(x))\n",
    "\n",
    "# Apply the lemmatization to the 'text' column\n",
    "df['text'] = df['text'].apply(lemmatize_text)\n",
    "\n",
    "# Print the DataFrame to see the results\n",
    "print(df['text'])"
   ]
  },
  {
   "cell_type": "code",
   "execution_count": 167,
   "metadata": {},
   "outputs": [],
   "source": [
    "df.to_csv(\"../Dataset/Suicide_Detection(After Lemmitization).csv\", index=False)"
   ]
  },
  {
   "cell_type": "code",
   "execution_count": 168,
   "metadata": {},
   "outputs": [
    {
     "data": {
      "text/plain": [
       "text     False\n",
       "class    False\n",
       "dtype: bool"
      ]
     },
     "execution_count": 168,
     "metadata": {},
     "output_type": "execute_result"
    }
   ],
   "source": [
    "df_temp = pd.read_csv(\"../Dataset/Suicide_Detection(After Lemmitization).csv\")\n",
    "df_temp.isnull().any()"
   ]
  },
  {
   "cell_type": "code",
   "execution_count": 169,
   "metadata": {},
   "outputs": [
    {
     "data": {
      "text/html": [
       "<div>\n",
       "<style scoped>\n",
       "    .dataframe tbody tr th:only-of-type {\n",
       "        vertical-align: middle;\n",
       "    }\n",
       "\n",
       "    .dataframe tbody tr th {\n",
       "        vertical-align: top;\n",
       "    }\n",
       "\n",
       "    .dataframe thead th {\n",
       "        text-align: right;\n",
       "    }\n",
       "</style>\n",
       "<table border=\"1\" class=\"dataframe\">\n",
       "  <thead>\n",
       "    <tr style=\"text-align: right;\">\n",
       "      <th></th>\n",
       "      <th>text</th>\n",
       "      <th>class</th>\n",
       "    </tr>\n",
       "  </thead>\n",
       "  <tbody>\n",
       "    <tr>\n",
       "      <th>0</th>\n",
       "      <td>ex wife threaten suicide recently leave wife g...</td>\n",
       "      <td>suicide</td>\n",
       "    </tr>\n",
       "    <tr>\n",
       "      <th>1</th>\n",
       "      <td>weird nt get affect compliment if s come someo...</td>\n",
       "      <td>non-suicide</td>\n",
       "    </tr>\n",
       "    <tr>\n",
       "      <th>2</th>\n",
       "      <td>finally 2020 almost never hear 2020 bad year e...</td>\n",
       "      <td>non-suicide</td>\n",
       "    </tr>\n",
       "    <tr>\n",
       "      <th>3</th>\n",
       "      <td>need helpjust help im cry hard</td>\n",
       "      <td>suicide</td>\n",
       "    </tr>\n",
       "    <tr>\n",
       "      <th>4</th>\n",
       "      <td>lose hello name adam 16 struggle year afraid p...</td>\n",
       "      <td>suicide</td>\n",
       "    </tr>\n",
       "    <tr>\n",
       "      <th>...</th>\n",
       "      <td>...</td>\n",
       "      <td>...</td>\n",
       "    </tr>\n",
       "    <tr>\n",
       "      <th>232051</th>\n",
       "      <td>if nt like rock not go get anything but go htt...</td>\n",
       "      <td>non-suicide</td>\n",
       "    </tr>\n",
       "    <tr>\n",
       "      <th>232052</th>\n",
       "      <td>tell many friend not lonely everything deprive...</td>\n",
       "      <td>non-suicide</td>\n",
       "    </tr>\n",
       "    <tr>\n",
       "      <th>232053</th>\n",
       "      <td>pee probably taste like salty tea smirk face s...</td>\n",
       "      <td>non-suicide</td>\n",
       "    </tr>\n",
       "    <tr>\n",
       "      <th>232054</th>\n",
       "      <td>usual stuff find m not post sympathy pity beca...</td>\n",
       "      <td>suicide</td>\n",
       "    </tr>\n",
       "    <tr>\n",
       "      <th>232055</th>\n",
       "      <td>still nt beat first bos hollow knight ve fough...</td>\n",
       "      <td>non-suicide</td>\n",
       "    </tr>\n",
       "  </tbody>\n",
       "</table>\n",
       "<p>232056 rows × 2 columns</p>\n",
       "</div>"
      ],
      "text/plain": [
       "                                                     text        class\n",
       "0       ex wife threaten suicide recently leave wife g...      suicide\n",
       "1       weird nt get affect compliment if s come someo...  non-suicide\n",
       "2       finally 2020 almost never hear 2020 bad year e...  non-suicide\n",
       "3                          need helpjust help im cry hard      suicide\n",
       "4       lose hello name adam 16 struggle year afraid p...      suicide\n",
       "...                                                   ...          ...\n",
       "232051  if nt like rock not go get anything but go htt...  non-suicide\n",
       "232052  tell many friend not lonely everything deprive...  non-suicide\n",
       "232053  pee probably taste like salty tea smirk face s...  non-suicide\n",
       "232054  usual stuff find m not post sympathy pity beca...      suicide\n",
       "232055  still nt beat first bos hollow knight ve fough...  non-suicide\n",
       "\n",
       "[232056 rows x 2 columns]"
      ]
     },
     "execution_count": 169,
     "metadata": {},
     "output_type": "execute_result"
    }
   ],
   "source": [
    "df_temp"
   ]
  },
  {
   "cell_type": "markdown",
   "metadata": {},
   "source": [
    "#### Word Embedding"
   ]
  },
  {
   "cell_type": "code",
   "execution_count": 6,
   "metadata": {},
   "outputs": [],
   "source": [
    "df = df_naive_bayes.copy()"
   ]
  },
  {
   "cell_type": "code",
   "execution_count": 19,
   "metadata": {},
   "outputs": [
    {
     "ename": "KeyboardInterrupt",
     "evalue": "",
     "output_type": "error",
     "traceback": [
      "\u001b[1;31m---------------------------------------------------------------------------\u001b[0m",
      "\u001b[1;31mKeyboardInterrupt\u001b[0m                         Traceback (most recent call last)",
      "\u001b[1;32m<ipython-input-19-a9143ed6bf9d>\u001b[0m in \u001b[0;36m<module>\u001b[1;34m\u001b[0m\n\u001b[1;32m----> 1\u001b[1;33m \u001b[1;32mfrom\u001b[0m \u001b[0msentence_transformers\u001b[0m \u001b[1;32mimport\u001b[0m \u001b[0mSentenceTransformer\u001b[0m\u001b[1;33m\u001b[0m\u001b[1;33m\u001b[0m\u001b[0m\n\u001b[0m\u001b[0;32m      2\u001b[0m \u001b[0mmodel\u001b[0m \u001b[1;33m=\u001b[0m \u001b[0mSentenceTransformer\u001b[0m\u001b[1;33m(\u001b[0m\u001b[1;34m'paraphrase-MiniLM-L6-v2'\u001b[0m\u001b[1;33m)\u001b[0m\u001b[1;33m\u001b[0m\u001b[1;33m\u001b[0m\u001b[0m\n\u001b[0;32m      3\u001b[0m \u001b[1;33m\u001b[0m\u001b[0m\n\u001b[0;32m      4\u001b[0m \u001b[0membeddings\u001b[0m \u001b[1;33m=\u001b[0m \u001b[0mmodel\u001b[0m\u001b[1;33m.\u001b[0m\u001b[0mencode\u001b[0m\u001b[1;33m(\u001b[0m\u001b[0mdf_lstm\u001b[0m\u001b[1;33m[\u001b[0m\u001b[1;34m'text'\u001b[0m\u001b[1;33m]\u001b[0m\u001b[1;33m.\u001b[0m\u001b[0mtolist\u001b[0m\u001b[1;33m(\u001b[0m\u001b[1;33m)\u001b[0m\u001b[1;33m)\u001b[0m\u001b[1;33m\u001b[0m\u001b[1;33m\u001b[0m\u001b[0m\n\u001b[0;32m      5\u001b[0m \u001b[1;33m\u001b[0m\u001b[0m\n",
      "\u001b[1;32m~\\anaconda3\\envs\\gpuEnv\\lib\\site-packages\\sentence_transformers\\__init__.py\u001b[0m in \u001b[0;36m<module>\u001b[1;34m\u001b[0m\n\u001b[0;32m      1\u001b[0m \u001b[0m__version__\u001b[0m \u001b[1;33m=\u001b[0m \u001b[1;34m\"2.2.2\"\u001b[0m\u001b[1;33m\u001b[0m\u001b[1;33m\u001b[0m\u001b[0m\n\u001b[0;32m      2\u001b[0m \u001b[0m__MODEL_HUB_ORGANIZATION__\u001b[0m \u001b[1;33m=\u001b[0m \u001b[1;34m'sentence-transformers'\u001b[0m\u001b[1;33m\u001b[0m\u001b[1;33m\u001b[0m\u001b[0m\n\u001b[1;32m----> 3\u001b[1;33m \u001b[1;32mfrom\u001b[0m \u001b[1;33m.\u001b[0m\u001b[0mdatasets\u001b[0m \u001b[1;32mimport\u001b[0m \u001b[0mSentencesDataset\u001b[0m\u001b[1;33m,\u001b[0m \u001b[0mParallelSentencesDataset\u001b[0m\u001b[1;33m\u001b[0m\u001b[1;33m\u001b[0m\u001b[0m\n\u001b[0m\u001b[0;32m      4\u001b[0m \u001b[1;32mfrom\u001b[0m \u001b[1;33m.\u001b[0m\u001b[0mLoggingHandler\u001b[0m \u001b[1;32mimport\u001b[0m \u001b[0mLoggingHandler\u001b[0m\u001b[1;33m\u001b[0m\u001b[1;33m\u001b[0m\u001b[0m\n\u001b[0;32m      5\u001b[0m \u001b[1;32mfrom\u001b[0m \u001b[1;33m.\u001b[0m\u001b[0mSentenceTransformer\u001b[0m \u001b[1;32mimport\u001b[0m \u001b[0mSentenceTransformer\u001b[0m\u001b[1;33m\u001b[0m\u001b[1;33m\u001b[0m\u001b[0m\n",
      "\u001b[1;32m~\\anaconda3\\envs\\gpuEnv\\lib\\site-packages\\sentence_transformers\\datasets\\__init__.py\u001b[0m in \u001b[0;36m<module>\u001b[1;34m\u001b[0m\n\u001b[1;32m----> 1\u001b[1;33m \u001b[1;32mfrom\u001b[0m \u001b[1;33m.\u001b[0m\u001b[0mDenoisingAutoEncoderDataset\u001b[0m \u001b[1;32mimport\u001b[0m \u001b[0mDenoisingAutoEncoderDataset\u001b[0m\u001b[1;33m\u001b[0m\u001b[1;33m\u001b[0m\u001b[0m\n\u001b[0m\u001b[0;32m      2\u001b[0m \u001b[1;32mfrom\u001b[0m \u001b[1;33m.\u001b[0m\u001b[0mNoDuplicatesDataLoader\u001b[0m \u001b[1;32mimport\u001b[0m \u001b[0mNoDuplicatesDataLoader\u001b[0m\u001b[1;33m\u001b[0m\u001b[1;33m\u001b[0m\u001b[0m\n\u001b[0;32m      3\u001b[0m \u001b[1;32mfrom\u001b[0m \u001b[1;33m.\u001b[0m\u001b[0mParallelSentencesDataset\u001b[0m \u001b[1;32mimport\u001b[0m \u001b[0mParallelSentencesDataset\u001b[0m\u001b[1;33m\u001b[0m\u001b[1;33m\u001b[0m\u001b[0m\n\u001b[0;32m      4\u001b[0m \u001b[1;32mfrom\u001b[0m \u001b[1;33m.\u001b[0m\u001b[0mSentencesDataset\u001b[0m \u001b[1;32mimport\u001b[0m \u001b[0mSentencesDataset\u001b[0m\u001b[1;33m\u001b[0m\u001b[1;33m\u001b[0m\u001b[0m\n\u001b[0;32m      5\u001b[0m \u001b[1;32mfrom\u001b[0m \u001b[1;33m.\u001b[0m\u001b[0mSentenceLabelDataset\u001b[0m \u001b[1;32mimport\u001b[0m \u001b[0mSentenceLabelDataset\u001b[0m\u001b[1;33m\u001b[0m\u001b[1;33m\u001b[0m\u001b[0m\n",
      "\u001b[1;32m~\\anaconda3\\envs\\gpuEnv\\lib\\site-packages\\sentence_transformers\\datasets\\DenoisingAutoEncoderDataset.py\u001b[0m in \u001b[0;36m<module>\u001b[1;34m\u001b[0m\n\u001b[1;32m----> 1\u001b[1;33m \u001b[1;32mfrom\u001b[0m \u001b[0mtorch\u001b[0m\u001b[1;33m.\u001b[0m\u001b[0mutils\u001b[0m\u001b[1;33m.\u001b[0m\u001b[0mdata\u001b[0m \u001b[1;32mimport\u001b[0m \u001b[0mDataset\u001b[0m\u001b[1;33m\u001b[0m\u001b[1;33m\u001b[0m\u001b[0m\n\u001b[0m\u001b[0;32m      2\u001b[0m \u001b[1;32mfrom\u001b[0m \u001b[0mtyping\u001b[0m \u001b[1;32mimport\u001b[0m \u001b[0mList\u001b[0m\u001b[1;33m\u001b[0m\u001b[1;33m\u001b[0m\u001b[0m\n\u001b[0;32m      3\u001b[0m \u001b[1;32mfrom\u001b[0m \u001b[1;33m.\u001b[0m\u001b[1;33m.\u001b[0m\u001b[0mreaders\u001b[0m\u001b[1;33m.\u001b[0m\u001b[0mInputExample\u001b[0m \u001b[1;32mimport\u001b[0m \u001b[0mInputExample\u001b[0m\u001b[1;33m\u001b[0m\u001b[1;33m\u001b[0m\u001b[0m\n\u001b[0;32m      4\u001b[0m \u001b[1;32mimport\u001b[0m \u001b[0mnumpy\u001b[0m \u001b[1;32mas\u001b[0m \u001b[0mnp\u001b[0m\u001b[1;33m\u001b[0m\u001b[1;33m\u001b[0m\u001b[0m\n\u001b[0;32m      5\u001b[0m \u001b[1;32mimport\u001b[0m \u001b[0mnltk\u001b[0m\u001b[1;33m\u001b[0m\u001b[1;33m\u001b[0m\u001b[0m\n",
      "\u001b[1;32m~\\anaconda3\\envs\\gpuEnv\\lib\\site-packages\\torch\\__init__.py\u001b[0m in \u001b[0;36m<module>\u001b[1;34m\u001b[0m\n\u001b[0;32m    216\u001b[0m     \u001b[1;32mif\u001b[0m \u001b[0mUSE_GLOBAL_DEPS\u001b[0m\u001b[1;33m:\u001b[0m\u001b[1;33m\u001b[0m\u001b[1;33m\u001b[0m\u001b[0m\n\u001b[0;32m    217\u001b[0m         \u001b[0m_load_global_deps\u001b[0m\u001b[1;33m(\u001b[0m\u001b[1;33m)\u001b[0m\u001b[1;33m\u001b[0m\u001b[1;33m\u001b[0m\u001b[0m\n\u001b[1;32m--> 218\u001b[1;33m     \u001b[1;32mfrom\u001b[0m \u001b[0mtorch\u001b[0m\u001b[1;33m.\u001b[0m\u001b[0m_C\u001b[0m \u001b[1;32mimport\u001b[0m \u001b[1;33m*\u001b[0m  \u001b[1;31m# noqa: F403\u001b[0m\u001b[1;33m\u001b[0m\u001b[1;33m\u001b[0m\u001b[0m\n\u001b[0m\u001b[0;32m    219\u001b[0m \u001b[1;33m\u001b[0m\u001b[0m\n\u001b[0;32m    220\u001b[0m \u001b[1;31m# Appease the type checker; ordinarily this binding is inserted by the\u001b[0m\u001b[1;33m\u001b[0m\u001b[1;33m\u001b[0m\u001b[1;33m\u001b[0m\u001b[0m\n",
      "\u001b[1;32m~\\anaconda3\\envs\\gpuEnv\\lib\\importlib\\_bootstrap.py\u001b[0m in \u001b[0;36m_find_and_load\u001b[1;34m(name, import_)\u001b[0m\n",
      "\u001b[1;32m~\\anaconda3\\envs\\gpuEnv\\lib\\importlib\\_bootstrap.py\u001b[0m in \u001b[0;36m_find_and_load_unlocked\u001b[1;34m(name, import_)\u001b[0m\n",
      "\u001b[1;32m~\\anaconda3\\envs\\gpuEnv\\lib\\importlib\\_bootstrap.py\u001b[0m in \u001b[0;36m_load_unlocked\u001b[1;34m(spec)\u001b[0m\n",
      "\u001b[1;32m~\\anaconda3\\envs\\gpuEnv\\lib\\importlib\\_bootstrap.py\u001b[0m in \u001b[0;36mmodule_from_spec\u001b[1;34m(spec)\u001b[0m\n",
      "\u001b[1;32m~\\anaconda3\\envs\\gpuEnv\\lib\\importlib\\_bootstrap_external.py\u001b[0m in \u001b[0;36mcreate_module\u001b[1;34m(self, spec)\u001b[0m\n",
      "\u001b[1;31mKeyboardInterrupt\u001b[0m: "
     ]
    }
   ],
   "source": [
    "from sentence_transformers import SentenceTransformer\n",
    "model = SentenceTransformer('paraphrase-MiniLM-L6-v2')\n",
    "\n",
    "embeddings = model.encode(df['text'].tolist())\n",
    "\n",
    "df['embeddings'] = embeddings.tolist()"
   ]
  },
  {
   "cell_type": "code",
   "execution_count": 14,
   "metadata": {},
   "outputs": [],
   "source": [
    "df.to_csv('../Dataset/Suicide_Detection(After Embeddings).csv', index=False)"
   ]
  },
  {
   "cell_type": "markdown",
   "metadata": {},
   "source": [
    "# Models & Evaluation"
   ]
  },
  {
   "cell_type": "markdown",
   "metadata": {},
   "source": [
    "## Naive Bayes"
   ]
  },
  {
   "cell_type": "markdown",
   "metadata": {},
   "source": [
    "### Preprocessing"
   ]
  },
  {
   "cell_type": "code",
   "execution_count": 3,
   "metadata": {},
   "outputs": [],
   "source": [
    "from sklearn.feature_extraction.text import CountVectorizer"
   ]
  },
  {
   "cell_type": "code",
   "execution_count": 4,
   "metadata": {},
   "outputs": [],
   "source": [
    "df_naive_bayes =  pd.read_csv(\"../Dataset/Suicide_Detection(After Lemmitization).csv\")"
   ]
  },
  {
   "cell_type": "code",
   "execution_count": 5,
   "metadata": {
    "scrolled": true
   },
   "outputs": [
    {
     "data": {
      "text/plain": [
       "0"
      ]
     },
     "execution_count": 5,
     "metadata": {},
     "output_type": "execute_result"
    }
   ],
   "source": [
    "df_naive_bayes[\"text\"].isnull().sum()"
   ]
  },
  {
   "cell_type": "code",
   "execution_count": 6,
   "metadata": {
    "scrolled": true
   },
   "outputs": [
    {
     "data": {
      "text/plain": [
       "array(['ex wife threaten suicide recently leave wife good because cheat twice lie much decide refuse go back day ago begin threaten suicide tirelessly spent paat day talk keep hesitate because want believe ll come back know lot people threaten order get way but happen if really ? suppose handle death hand ? still love wife but not deal get cheat constantly feeling insecure m worry today may day hope much nt happen',\n",
       "       'weird nt get affect compliment if s come someone know irl but feel really good internet stranger',\n",
       "       'finally 2020 almost never hear 2020 bad year ever swear fuck god s annoy',\n",
       "       ...,\n",
       "       'pee probably taste like salty tea smirk face sweat droplet double exclamation mark someone drink pee confirm face roll eye double exclamation mark',\n",
       "       'usual stuff find m not post sympathy pity because know far bad situation mine but want get stuff but seem life no point everything do life ruin quit isolate everyone even family not even like tell family would help d consider psychotic probably right know m 18 no sense fuck universe want think seem like universe fuck make know s not m make fuck because nt think know want get people try help go rough patch get tough m do toughing life nt toughing look around family since m young ve see ridiculous shit happen s fuck post area because nt first time felt like try take life could nt w ha b ch k no w mean seriously cruel joke play despise life want know would like if end ca nt even s fuck because whenever around friend would put macho toughness guy like nothing hurt keep everything bottle nt anything life complain because option make good but good would come fail college because probably never get back track light socalled light end tunnel get small day',\n",
       "       'still nt beat first bos hollow knight ve fought time always die really early fight m terrible game yall'],\n",
       "      dtype=object)"
      ]
     },
     "execution_count": 6,
     "metadata": {},
     "output_type": "execute_result"
    }
   ],
   "source": [
    "df_naive_bayes[\"text\"].to_numpy()"
   ]
  },
  {
   "cell_type": "markdown",
   "metadata": {},
   "source": [
    "### Label Encoder (class/y)"
   ]
  },
  {
   "cell_type": "code",
   "execution_count": 7,
   "metadata": {},
   "outputs": [],
   "source": [
    "# Encode sentiment labels\n",
    "from sklearn.preprocessing import LabelEncoder\n",
    "labels = df_naive_bayes[\"class\"].values\n",
    "encoder = LabelEncoder()\n",
    "encoded_labels = encoder.fit_transform(labels)"
   ]
  },
  {
   "cell_type": "code",
   "execution_count": 8,
   "metadata": {},
   "outputs": [
    {
     "name": "stdout",
     "output_type": "stream",
     "text": [
      "[1 0 0 ... 0 1 0]\n",
      "No. of Records:  232056\n"
     ]
    }
   ],
   "source": [
    "print(encoded_labels)\n",
    "print(\"No. of Records: \", len(encoded_labels))"
   ]
  },
  {
   "cell_type": "markdown",
   "metadata": {},
   "source": [
    "### Split Data"
   ]
  },
  {
   "cell_type": "markdown",
   "metadata": {},
   "source": [
    "Split data into Train, Val, Test: 70%, 15%, 15%."
   ]
  },
  {
   "cell_type": "code",
   "execution_count": 9,
   "metadata": {
    "scrolled": true
   },
   "outputs": [
    {
     "name": "stdout",
     "output_type": "stream",
     "text": [
      "x_train shape:  (162439,)\n",
      "x_remain shape:  (69617,)\n",
      "y_train shape:  (162439,)\n",
      "y_remain shape:  (69617,)\n"
     ]
    }
   ],
   "source": [
    "# Split into train, remain, with stratify to maintain class proportion for each set\n",
    "x_train, x_remain, y_train, y_remain = train_test_split(df_naive_bayes[\"text\"], encoded_labels, stratify = encoded_labels, \n",
    "                                                    train_size=0.7, random_state=88)\n",
    "print(\"x_train shape: \", x_train.shape)\n",
    "print(\"x_remain shape: \", x_remain.shape)\n",
    "print(\"y_train shape: \", y_train.shape)\n",
    "print(\"y_remain shape: \", y_remain.shape)"
   ]
  },
  {
   "cell_type": "code",
   "execution_count": 10,
   "metadata": {},
   "outputs": [
    {
     "name": "stdout",
     "output_type": "stream",
     "text": [
      "x_val shape:  (34808,)\n",
      "x_test shape:  (34809,)\n",
      "y_val shape:  (34808,)\n",
      "y_test shape:  (34809,)\n"
     ]
    }
   ],
   "source": [
    "# Split into val, test\n",
    "x_val, x_test, y_val, y_test = train_test_split(x_remain, y_remain, stratify = y_remain, \n",
    "                                                    train_size=0.5, random_state=88)\n",
    "print(\"x_val shape: \", x_val.shape)\n",
    "print(\"x_test shape: \", x_test.shape)\n",
    "print(\"y_val shape: \", y_val.shape)\n",
    "print(\"y_test shape: \", y_test.shape)"
   ]
  },
  {
   "cell_type": "markdown",
   "metadata": {},
   "source": [
    "### Count Vectorizer (text/x)"
   ]
  },
  {
   "cell_type": "code",
   "execution_count": 11,
   "metadata": {},
   "outputs": [
    {
     "name": "stdout",
     "output_type": "stream",
     "text": [
      "Vocabulary Count:  3000\n"
     ]
    }
   ],
   "source": [
    "# Fit on Train data ONLY (Prevent data leakage to val and test sets)\n",
    "vectorizer = CountVectorizer(max_features=3000)\n",
    "vectorizer.fit(x_train)\n",
    "\n",
    "print(\"Vocabulary Count: \", len(vectorizer.vocabulary_))"
   ]
  },
  {
   "cell_type": "code",
   "execution_count": 12,
   "metadata": {},
   "outputs": [],
   "source": [
    "# Transform x train\n",
    "x_train_transformed = vectorizer.transform(x_train)\n",
    "# Transform x val\n",
    "x_val_transformed = vectorizer.transform(x_val)\n",
    "# Transform x test\n",
    "x_test_transformed = vectorizer.transform(x_test)"
   ]
  },
  {
   "cell_type": "code",
   "execution_count": 13,
   "metadata": {
    "scrolled": true
   },
   "outputs": [
    {
     "name": "stdout",
     "output_type": "stream",
     "text": [
      "x train transformed shape:  (162439, 3000)\n",
      "x val transformed shape:  (34808, 3000)\n",
      "x test transformed shape:  (34809, 3000)\n"
     ]
    }
   ],
   "source": [
    "print(\"x train transformed shape: \", x_train_transformed.toarray().shape)\n",
    "print(\"x val transformed shape: \", x_val_transformed.toarray().shape)\n",
    "print(\"x test transformed shape: \", x_test_transformed.toarray().shape)"
   ]
  },
  {
   "cell_type": "code",
   "execution_count": 14,
   "metadata": {},
   "outputs": [],
   "source": [
    "# transfrom x datasets to array type\n",
    "x_train_transformed = x_train_transformed.toarray()\n",
    "x_val_transformed = x_val_transformed.toarray()\n",
    "x_test_transformed = x_test_transformed.toarray()"
   ]
  },
  {
   "cell_type": "code",
   "execution_count": 15,
   "metadata": {},
   "outputs": [
    {
     "name": "stdout",
     "output_type": "stream",
     "text": [
      "ok\n"
     ]
    }
   ],
   "source": [
    "# Ensure transformation worked\n",
    "for i in x_train_transformed[5]:\n",
    "    if i == 1:\n",
    "        print(\"ok\")\n",
    "        break"
   ]
  },
  {
   "cell_type": "code",
   "execution_count": 16,
   "metadata": {},
   "outputs": [
    {
     "data": {
      "text/plain": [
       "3000"
      ]
     },
     "execution_count": 16,
     "metadata": {},
     "output_type": "execute_result"
    }
   ],
   "source": [
    "len(vectorizer.vocabulary_)"
   ]
  },
  {
   "cell_type": "code",
   "execution_count": 17,
   "metadata": {
    "scrolled": true
   },
   "outputs": [
    {
     "data": {
      "text/plain": [
       "{'need': 1762,\n",
       " 'help': 1256,\n",
       " 'get': 1139,\n",
       " 'depressed': 717,\n",
       " 'thinking': 2671,\n",
       " 'past': 1914,\n",
       " 'wife': 2924,\n",
       " 'meet': 1653,\n",
       " 'high': 1265,\n",
       " 'school': 2292,\n",
       " 'sophomore': 2465,\n",
       " 'year': 2981,\n",
       " 'great': 1179,\n",
       " 'senior': 2323,\n",
       " 'break': 388,\n",
       " 'because': 304,\n",
       " 'want': 2876,\n",
       " 'hang': 1216,\n",
       " 'friend': 1097,\n",
       " 'felt': 1014,\n",
       " 'like': 1536,\n",
       " 'start': 2512,\n",
       " 'talk': 2614,\n",
       " 'little': 1548,\n",
       " 'but': 424,\n",
       " 'stage': 2506,\n",
       " 'would': 2958,\n",
       " 'go': 1150,\n",
       " 'guy': 1202,\n",
       " 'make': 1601,\n",
       " 'jealous': 1444,\n",
       " 'told': 2710,\n",
       " 'later': 1495,\n",
       " 'back': 270,\n",
       " 'together': 2707,\n",
       " 'could': 609,\n",
       " 'commit': 543,\n",
       " 'relationship': 2179,\n",
       " 'fast': 996,\n",
       " 'forward': 1079,\n",
       " 'seven': 2339,\n",
       " 'present': 2040,\n",
       " 'marry': 1617,\n",
       " 'old': 1846,\n",
       " 'time': 2698,\n",
       " 'tell': 2637,\n",
       " 'sleep': 2420,\n",
       " 'mine': 1684,\n",
       " 'shock': 2366,\n",
       " 'ca': 430,\n",
       " 'nt': 1811,\n",
       " 'stop': 2530,\n",
       " 'picture': 1962,\n",
       " 'mind': 1682,\n",
       " 'image': 1355,\n",
       " 'two': 2775,\n",
       " 'sex': 2343,\n",
       " 'since': 2400,\n",
       " 'date': 682,\n",
       " 'young': 2989,\n",
       " 'never': 1774,\n",
       " 'really': 2148,\n",
       " 'anyone': 184,\n",
       " 'else': 874,\n",
       " 'except': 946,\n",
       " 'embarrass': 877,\n",
       " 'say': 2281,\n",
       " 'come': 539,\n",
       " 'something': 2455,\n",
       " 'special': 2479,\n",
       " 'everyday': 933,\n",
       " 'do': 791,\n",
       " 'position': 2012,\n",
       " 'stuff': 2553,\n",
       " 'mean': 1635,\n",
       " 'anything': 185,\n",
       " 'try': 2762,\n",
       " 'bad': 275,\n",
       " 'thats': 2657,\n",
       " 'know': 1481,\n",
       " 'wrong': 2968,\n",
       " 'broken': 401,\n",
       " 'see': 2312,\n",
       " 'work': 2947,\n",
       " 'imagine': 1356,\n",
       " 'insane': 1389,\n",
       " 'much': 1729,\n",
       " 'hat': 1230,\n",
       " 'hard': 1224,\n",
       " 'feel': 1010,\n",
       " 'depress': 716,\n",
       " 'doctor': 792,\n",
       " 'still': 2525,\n",
       " 'actually': 104,\n",
       " 'contemplate': 586,\n",
       " 'suicide': 2573,\n",
       " 'dead': 688,\n",
       " 'if': 1344,\n",
       " 'circumstance': 501,\n",
       " 've': 2842,\n",
       " 'fuck': 1106,\n",
       " 'lot': 1577,\n",
       " 'thing': 2669,\n",
       " 'long': 1568,\n",
       " 'period': 1942,\n",
       " 'recently': 2154,\n",
       " 'smoke': 2437,\n",
       " 'weed': 2899,\n",
       " 'ruin': 2261,\n",
       " 'last': 1492,\n",
       " 'good': 1157,\n",
       " 'december': 697,\n",
       " 'live': 1549,\n",
       " 'house': 1309,\n",
       " 'sometimes': 2457,\n",
       " 'cold': 532,\n",
       " 'one': 1849,\n",
       " 'another': 175,\n",
       " 'interact': 1408,\n",
       " 'always': 156,\n",
       " 'someone': 2454,\n",
       " 'reality': 2145,\n",
       " 'face': 974,\n",
       " 'everything': 935,\n",
       " 'unhappy': 2802,\n",
       " 'current': 661,\n",
       " 'place': 1974,\n",
       " 'life': 1531,\n",
       " 'right': 2229,\n",
       " 'city': 502,\n",
       " 'ex': 941,\n",
       " 'no': 1788,\n",
       " 'direction': 758,\n",
       " 'look': 1570,\n",
       " 'towards': 2728,\n",
       " 'keep': 1463,\n",
       " 'move': 1726,\n",
       " 'real': 2143,\n",
       " 'march': 1612,\n",
       " 'problem': 2059,\n",
       " 'feeling': 1011,\n",
       " 'pretty': 2045,\n",
       " 'yesterday': 2985,\n",
       " 'buy': 428,\n",
       " 'gun': 1200,\n",
       " 'process': 2061,\n",
       " 'cheer': 477,\n",
       " 'bit': 341,\n",
       " 'matter': 1627,\n",
       " 'gf': 1140,\n",
       " 'send': 2322,\n",
       " 'meme': 1657,\n",
       " 'way': 2889,\n",
       " 'figure': 1021,\n",
       " 'mail': 1595,\n",
       " 'best': 322,\n",
       " 'deserve': 722,\n",
       " 'allow': 145,\n",
       " 'issue': 1433,\n",
       " 'll': 1552,\n",
       " 'ask': 227,\n",
       " 'bunch': 416,\n",
       " 'teen': 2633,\n",
       " 'basically': 290,\n",
       " 'phone': 1953,\n",
       " 'stuck': 2550,\n",
       " 'screen': 2298,\n",
       " 'power': 2026,\n",
       " 'happen': 1217,\n",
       " 'yes': 2984,\n",
       " 'quite': 2110,\n",
       " 'often': 1839,\n",
       " 'tried': 2751,\n",
       " 'log': 1562,\n",
       " 'point': 1999,\n",
       " 'decide': 699,\n",
       " 'check': 476,\n",
       " 'sure': 2585,\n",
       " 'correct': 604,\n",
       " 'change': 468,\n",
       " 'somehow': 2453,\n",
       " 'tf': 2651,\n",
       " 'fix': 1041,\n",
       " 'im': 1354,\n",
       " 'run': 2263,\n",
       " '10': 10,\n",
       " 'btw': 408,\n",
       " 'important': 1361,\n",
       " 'consider': 579,\n",
       " 'idk': 1342,\n",
       " 'hey': 1261,\n",
       " 'wan': 2875,\n",
       " 'na': 1739,\n",
       " 'give': 1147,\n",
       " 'community': 547,\n",
       " 'day': 684,\n",
       " 'please': 1989,\n",
       " 'small': 2430,\n",
       " 'dumb': 836,\n",
       " 'dm': 790,\n",
       " 'comment': 542,\n",
       " 'whatever': 2910,\n",
       " 'tube': 2765,\n",
       " 'channel': 469,\n",
       " 'recommend': 2156,\n",
       " 'new': 1775,\n",
       " 'passionate': 1913,\n",
       " 'http': 1314,\n",
       " 'also': 152,\n",
       " 'lose': 1574,\n",
       " 'bet': 323,\n",
       " 'gon': 1156,\n",
       " 'account': 90,\n",
       " 'highly': 1266,\n",
       " '16': 19,\n",
       " 'utm_sourceshare': 2831,\n",
       " 'amp': 165,\n",
       " 'subreddit': 2559,\n",
       " 'post': 2017,\n",
       " 'people': 1936,\n",
       " 'understand': 2794,\n",
       " 'well': 2906,\n",
       " 'determine': 737,\n",
       " 'think': 2670,\n",
       " 'not': 1801,\n",
       " 'student': 2551,\n",
       " 'biology': 335,\n",
       " 'chemistry': 480,\n",
       " 'active': 100,\n",
       " 'turn': 2768,\n",
       " 'complete': 551,\n",
       " 'different': 751,\n",
       " 'person': 1945,\n",
       " '2nd': 43,\n",
       " 'university': 2809,\n",
       " 'program': 2069,\n",
       " 'month': 1714,\n",
       " 'ride': 2227,\n",
       " 'grade': 1166,\n",
       " 'fail': 980,\n",
       " 'family': 989,\n",
       " 'health': 1240,\n",
       " 'physically': 1958,\n",
       " 'mentally': 1661,\n",
       " 'crumble': 649,\n",
       " 'parent': 1902,\n",
       " 'divorce': 789,\n",
       " 'fight': 1020,\n",
       " 'financial': 1029,\n",
       " 'struggle': 2549,\n",
       " 'contribute': 590,\n",
       " 'extra': 970,\n",
       " 'money': 1710,\n",
       " 'enough': 902,\n",
       " 'even': 927,\n",
       " 'job': 1448,\n",
       " 'single': 2403,\n",
       " 'child': 483,\n",
       " 'effort': 864,\n",
       " 'cry': 651,\n",
       " 'everytime': 936,\n",
       " 'hear': 1242,\n",
       " 'physical': 1957,\n",
       " 'mental': 1660,\n",
       " 'deteriorate': 736,\n",
       " 'quit': 2109,\n",
       " 'gym': 1204,\n",
       " 'double': 803,\n",
       " 'motivation': 1723,\n",
       " 'reach': 2137,\n",
       " 'limit': 1540,\n",
       " 'result': 2216,\n",
       " 'become': 305,\n",
       " 'take': 2611,\n",
       " 'antidepressant': 178,\n",
       " 'pill': 1965,\n",
       " 'abuse': 78,\n",
       " 'final': 1026,\n",
       " 'exam': 944,\n",
       " 'tomorrow': 2713,\n",
       " 'focus': 1057,\n",
       " 'study': 2552,\n",
       " 'doesnt': 793,\n",
       " 'seem': 2314,\n",
       " 'listen': 1545,\n",
       " 'shit': 2364,\n",
       " 'cant': 441,\n",
       " 'blame': 348,\n",
       " 'natural': 1749,\n",
       " 'already': 150,\n",
       " 'independent': 1377,\n",
       " 'hop': 1289,\n",
       " 'truly': 2758,\n",
       " 'story': 2533,\n",
       " 'share': 2354,\n",
       " 'oh': 1840,\n",
       " 'youre': 2990,\n",
       " 'pussy': 2099,\n",
       " 'suffer': 2567,\n",
       " 'die': 747,\n",
       " 'country': 616,\n",
       " 'illness': 1353,\n",
       " 'arrive': 218,\n",
       " 'question': 2105,\n",
       " 'away': 262,\n",
       " 'arent': 211,\n",
       " 'selfish': 2319,\n",
       " 'answer': 176,\n",
       " 'hold': 1276,\n",
       " 'rope': 2249,\n",
       " 'ive': 1438,\n",
       " 'exhaust': 951,\n",
       " 'weak': 2890,\n",
       " 'strong': 2547,\n",
       " 'fall': 986,\n",
       " 'write': 2966,\n",
       " 'currently': 662,\n",
       " 'inner': 1386,\n",
       " 'demon': 711,\n",
       " 'drink': 822,\n",
       " 'online': 1850,\n",
       " 'end': 891,\n",
       " 'proceed': 2060,\n",
       " 'swallow': 2596,\n",
       " 'completely': 552,\n",
       " 'dont': 798,\n",
       " 'fate': 999,\n",
       " 'believe': 316,\n",
       " 'there': 2662,\n",
       " 'god': 1152,\n",
       " 'plan': 1977,\n",
       " 'control': 591,\n",
       " 'mom': 1707,\n",
       " 'suicidal': 2572,\n",
       " 'every': 931,\n",
       " 'conversation': 592,\n",
       " 'argument': 213,\n",
       " 'leave': 1509,\n",
       " '15': 18,\n",
       " 'deeply': 703,\n",
       " 'character': 470,\n",
       " 'february': 1006,\n",
       " 'don': 796,\n",
       " 'scar': 2283,\n",
       " 'somewhere': 2459,\n",
       " 'home': 1281,\n",
       " 'bipolar': 336,\n",
       " 'dh': 740,\n",
       " 'phase': 1952,\n",
       " 'tonight': 2717,\n",
       " 'thought': 2675,\n",
       " 'add': 106,\n",
       " 'frequently': 1093,\n",
       " 'close': 519,\n",
       " 'pas': 1910,\n",
       " 'read': 2140,\n",
       " 'note': 1802,\n",
       " 'almost': 146,\n",
       " 'step': 2522,\n",
       " 'possible': 2015,\n",
       " 'recovery': 2160,\n",
       " 'continue': 589,\n",
       " 'suggest': 2570,\n",
       " 'easy': 853,\n",
       " 'nor': 1796,\n",
       " 'reward': 2223,\n",
       " 'promise': 2072,\n",
       " 'absolutely': 76,\n",
       " 'worth': 2955,\n",
       " 'shot': 2372,\n",
       " 'sunday': 2578,\n",
       " 'june': 1458,\n",
       " '2019': 30,\n",
       " 'ago': 129,\n",
       " 'perhaps': 1941,\n",
       " 'understanding': 2795,\n",
       " 'body': 363,\n",
       " 'existence': 953,\n",
       " 'save': 2279,\n",
       " 'me': 1633,\n",
       " 'hasn': 1229,\n",
       " 'instead': 1399,\n",
       " 'hope': 1290,\n",
       " 'sorrow': 2466,\n",
       " 'surround': 2590,\n",
       " 'heart': 1245,\n",
       " 'love': 1580,\n",
       " 'world': 2949,\n",
       " 'wind': 2928,\n",
       " 'death': 693,\n",
       " 'son': 2460,\n",
       " 'partner': 1908,\n",
       " 'father': 1000,\n",
       " 'heavy': 1251,\n",
       " 'burden': 417,\n",
       " 'without': 2936,\n",
       " 'expect': 956,\n",
       " 'man': 1605,\n",
       " 'relief': 2184,\n",
       " 'nowhere': 1809,\n",
       " 'sight': 2388,\n",
       " 'trap': 2741,\n",
       " 'bus': 421,\n",
       " 'surely': 2586,\n",
       " 'follow': 1060,\n",
       " 'incredible': 1375,\n",
       " 'amount': 164,\n",
       " 'shame': 2352,\n",
       " 'bathroom': 294,\n",
       " 'around': 216,\n",
       " 'next': 1777,\n",
       " 'corner': 601,\n",
       " 'thousand': 2676,\n",
       " 'nobody': 1789,\n",
       " 'piss': 1968,\n",
       " 'medication': 1647,\n",
       " 'hopefully': 1292,\n",
       " 'bring': 397,\n",
       " 'sit': 2406,\n",
       " 'kill': 1469,\n",
       " 'everybody': 932,\n",
       " 'funny': 1119,\n",
       " 'spend': 2486,\n",
       " 'severely': 2342,\n",
       " 'let': 1522,\n",
       " 'clear': 510,\n",
       " 'certainly': 462,\n",
       " 'isn': 1428,\n",
       " 'boy': 380,\n",
       " 'whose': 2923,\n",
       " 'future': 1120,\n",
       " 'shape': 2353,\n",
       " 'shower': 2380,\n",
       " 'support': 2582,\n",
       " 'differently': 752,\n",
       " 'difficult': 753,\n",
       " 'simply': 2398,\n",
       " 'unable': 2789,\n",
       " 'full': 1113,\n",
       " 'half': 1210,\n",
       " 'reduce': 2165,\n",
       " '20': 24,\n",
       " 'due': 834,\n",
       " 'stress': 2541,\n",
       " '19': 22,\n",
       " 'diagnosis': 743,\n",
       " 'bleak': 351,\n",
       " 'true': 2757,\n",
       " 'cancer': 440,\n",
       " 'label': 1484,\n",
       " 'coward': 624,\n",
       " 'afternoon': 124,\n",
       " 'sweet': 2599,\n",
       " 'girl': 1145,\n",
       " 'yo': 2987,\n",
       " 'regret': 2172,\n",
       " 'maybe': 1631,\n",
       " 'situation': 2408,\n",
       " 'emotionally': 883,\n",
       " 'devastate': 738,\n",
       " 'reaction': 2139,\n",
       " 'five': 1040,\n",
       " 'unemployment': 2798,\n",
       " 'four': 1082,\n",
       " 'ever': 930,\n",
       " 'dad': 670,\n",
       " 'constant': 582,\n",
       " 'chronic': 495,\n",
       " 'pain': 1889,\n",
       " 'lead': 1503,\n",
       " 'cut': 665,\n",
       " 'claim': 504,\n",
       " 'owe': 1883,\n",
       " '500': 55,\n",
       " 'daily': 672,\n",
       " 'bank': 283,\n",
       " 'charge': 471,\n",
       " 'word': 2946,\n",
       " '100': 11,\n",
       " 'uc': 2778,\n",
       " 'ke': 1462,\n",
       " 'today': 2705,\n",
       " 'low': 1583,\n",
       " 'agony': 130,\n",
       " 'three': 2680,\n",
       " 'cost': 606,\n",
       " 'nothing': 1804,\n",
       " 'second': 2307,\n",
       " 'title': 2703,\n",
       " 'eat': 854,\n",
       " 'meal': 1634,\n",
       " 'instant': 1397,\n",
       " 'food': 1062,\n",
       " 'number': 1815,\n",
       " 'head': 1237,\n",
       " 'finish': 1034,\n",
       " 'rest': 2214,\n",
       " 'sorry': 2467,\n",
       " 'sister': 2405,\n",
       " 'bitch': 342,\n",
       " 'refuse': 2169,\n",
       " 'hung': 1324,\n",
       " 'experience': 960,\n",
       " 'cruel': 648,\n",
       " 'despair': 727,\n",
       " 'anymore': 182,\n",
       " 'tire': 2701,\n",
       " 'burn': 418,\n",
       " 'throw': 2683,\n",
       " 'normal': 1797,\n",
       " 'wont': 2944,\n",
       " 'stupid': 2554,\n",
       " 'decision': 700,\n",
       " 'okay': 1844,\n",
       " 'tip': 2700,\n",
       " 'hair': 1209,\n",
       " 'dark': 679,\n",
       " 'brown': 403,\n",
       " 'type': 2776,\n",
       " 'fake': 985,\n",
       " 'lip': 1543,\n",
       " 'ring': 2230,\n",
       " 'suit': 2574,\n",
       " 'tho': 2673,\n",
       " 'saw': 2280,\n",
       " 'probably': 2058,\n",
       " 'top': 2719,\n",
       " 'laugh': 1496,\n",
       " 'tear': 2629,\n",
       " 'might': 1675,\n",
       " 'happy': 1222,\n",
       " 'epic': 910,\n",
       " 'part': 1904,\n",
       " 'anyway': 187,\n",
       " 'thanks': 2656,\n",
       " 'reddit': 2162,\n",
       " 'cool': 596,\n",
       " 'vent': 2844,\n",
       " 'goodbye': 1158,\n",
       " 'el': 872,\n",
       " 'college': 535,\n",
       " 'may': 1630,\n",
       " 'learn': 1507,\n",
       " 'yall': 2977,\n",
       " 'super': 2580,\n",
       " 'dorm': 801,\n",
       " 'kitchen': 1476,\n",
       " 'lmao': 1553,\n",
       " 'meat': 1642,\n",
       " 'usually': 2829,\n",
       " 'cheap': 474,\n",
       " 'cause': 453,\n",
       " 'put': 2100,\n",
       " 'large': 1490,\n",
       " 'per': 1937,\n",
       " 'experiment': 961,\n",
       " 'hand': 1213,\n",
       " 'mix': 1695,\n",
       " 'cover': 622,\n",
       " 'least': 1508,\n",
       " 'night': 1782,\n",
       " 'pour': 2023,\n",
       " 'cook': 594,\n",
       " 'pair': 1894,\n",
       " 'white': 2918,\n",
       " 'taste': 2620,\n",
       " 'boyfriend': 381,\n",
       " 'filler': 1024,\n",
       " 'ugly': 2781,\n",
       " 'male': 1604,\n",
       " 'tall': 2616,\n",
       " 'yea': 2979,\n",
       " 'notice': 1806,\n",
       " 'star': 2510,\n",
       " 'iv': 1437,\n",
       " 'treat': 2747,\n",
       " 'poorly': 2008,\n",
       " 'hour': 1308,\n",
       " 'week': 2900,\n",
       " 'football': 1065,\n",
       " 'somebody': 2451,\n",
       " 'use': 2822,\n",
       " 'enjoy': 899,\n",
       " 'excite': 948,\n",
       " 'shitty': 2365,\n",
       " 'walk': 2873,\n",
       " 'obvious': 1824,\n",
       " 'stare': 2511,\n",
       " 'stand': 2508,\n",
       " 'blank': 349,\n",
       " 'disgust': 777,\n",
       " 'ok': 1843,\n",
       " 'ton': 2714,\n",
       " 'makeup': 1602,\n",
       " 'mask': 1618,\n",
       " 'tbh': 2623,\n",
       " 'anxiety': 179,\n",
       " 'free': 1088,\n",
       " 'skinny': 2413,\n",
       " 'wake': 2872,\n",
       " 'wear': 2893,\n",
       " 'depression': 718,\n",
       " 'tired': 2702,\n",
       " 'woman': 2940,\n",
       " 'personally': 1948,\n",
       " 'painful': 1890,\n",
       " 'open': 1855,\n",
       " 'attractive': 247,\n",
       " 'bar': 284,\n",
       " 'confidence': 565,\n",
       " 'crush': 650,\n",
       " 'application': 202,\n",
       " 'earth': 849,\n",
       " 'soon': 2462,\n",
       " 'hello': 1255,\n",
       " '24': 36,\n",
       " 'diagnose': 742,\n",
       " 'severe': 2341,\n",
       " 'psychiatric': 2082,\n",
       " 'disorder': 781,\n",
       " 'psychiatrist': 2083,\n",
       " 'reason': 2149,\n",
       " 'able': 72,\n",
       " 'success': 2562,\n",
       " 'sport': 2496,\n",
       " 'alone': 147,\n",
       " 'room': 2246,\n",
       " 'failure': 981,\n",
       " 'bear': 300,\n",
       " 'vacation': 2836,\n",
       " 'adopt': 112,\n",
       " 'didn': 745,\n",
       " 'mouth': 1725,\n",
       " 'smell': 2433,\n",
       " 'crap': 628,\n",
       " 'wash': 2882,\n",
       " 'survival': 2592,\n",
       " 'instinct': 1400,\n",
       " 'method': 1668,\n",
       " 'joke': 1451,\n",
       " 'tiktok': 2695,\n",
       " 'men': 1659,\n",
       " 'catch': 451,\n",
       " 'successful': 2563,\n",
       " 'own': 1884,\n",
       " 'car': 443,\n",
       " 'private': 2055,\n",
       " 'must': 1735,\n",
       " 'disappoint': 766,\n",
       " 'genuinely': 1138,\n",
       " 'many': 1611,\n",
       " 'watch': 2886,\n",
       " 'bother': 374,\n",
       " 'abusive': 81,\n",
       " 'fine': 1032,\n",
       " '22': 34,\n",
       " 'far': 994,\n",
       " 'behind': 314,\n",
       " 'wish': 2934,\n",
       " 'prove': 2079,\n",
       " 'humanity': 1320,\n",
       " 'atleast': 238,\n",
       " 'age': 127,\n",
       " 'desperate': 728,\n",
       " 'nightmare': 1783,\n",
       " 'addiction': 108,\n",
       " 'le': 1502,\n",
       " 'advice': 116,\n",
       " 'willing': 2926,\n",
       " '17': 20,\n",
       " 'speak': 2478,\n",
       " 'hmu': 1273,\n",
       " 'science': 2294,\n",
       " 'discord': 771,\n",
       " 'april': 207,\n",
       " '5th': 56,\n",
       " 'guess': 1195,\n",
       " 'fault': 1001,\n",
       " 'countless': 615,\n",
       " 'recent': 2153,\n",
       " '32': 47,\n",
       " 'bullet': 413,\n",
       " 'gift': 1144,\n",
       " 'self': 2316,\n",
       " 'rap': 2127,\n",
       " 'privacy': 2054,\n",
       " 'yet': 2986,\n",
       " 'find': 1031,\n",
       " 'repeat': 2197,\n",
       " 'annoy': 173,\n",
       " 'judge': 1454,\n",
       " 'silent': 2392,\n",
       " 'treatment': 2748,\n",
       " 'petty': 1951,\n",
       " 'girlfriend': 1146,\n",
       " 'trust': 2760,\n",
       " 'hurt': 1326,\n",
       " 'apologize': 194,\n",
       " 'chance': 467,\n",
       " 'apology': 195,\n",
       " 're': 2136,\n",
       " 'cheat': 475,\n",
       " 'chat': 473,\n",
       " 'mistake': 1694,\n",
       " 'recognize': 2155,\n",
       " 'wo': 2938,\n",
       " 'serious': 2331,\n",
       " 'rn': 2236,\n",
       " 'clearly': 511,\n",
       " 'lately': 1494,\n",
       " 'everyone': 934,\n",
       " 'apparently': 197,\n",
       " 'perfect': 1938,\n",
       " 'simple': 2397,\n",
       " 'call': 433,\n",
       " 'text': 2648,\n",
       " 'ot': 1867,\n",
       " 'hi': 1263,\n",
       " 'ng': 1778,\n",
       " 'bullshit': 414,\n",
       " 'immediately': 1359,\n",
       " 'sort': 2468,\n",
       " 'monster': 1713,\n",
       " 'lie': 1530,\n",
       " 'ignore': 1347,\n",
       " 'dry': 831,\n",
       " 'distance': 783,\n",
       " 'kind': 1471,\n",
       " 'big': 329,\n",
       " 'doubt': 804,\n",
       " 'forgive': 1070,\n",
       " 'uh': 2782,\n",
       " 'kick': 1467,\n",
       " 'address': 110,\n",
       " 'copy': 599,\n",
       " 'website': 2896,\n",
       " 'illegal': 1352,\n",
       " 'track': 2732,\n",
       " 'easily': 852,\n",
       " 'order': 1863,\n",
       " 'site': 2407,\n",
       " 'steal': 2520,\n",
       " 'police': 2002,\n",
       " 'haven': 1234,\n",
       " 'law': 1497,\n",
       " 'jump': 1457,\n",
       " 'bridge': 394,\n",
       " 'lonely': 1567,\n",
       " 'ou': 1870,\n",
       " 'ro': 2237,\n",
       " 'th': 2652,\n",
       " 'er': 912,\n",
       " 'ea': 843,\n",
       " 'oo': 1852,\n",
       " 'pe': 1926,\n",
       " 'ik': 1349,\n",
       " 'om': 1847,\n",
       " 'ki': 1466,\n",
       " 'ry': 2265,\n",
       " 'da': 669,\n",
       " 'nd': 1754,\n",
       " 'ay': 267,\n",
       " 'id': 1334,\n",
       " 'en': 888,\n",
       " 'et': 921,\n",
       " 'ut': 2830,\n",
       " 'al': 138,\n",
       " 'wa': 2869,\n",
       " 'choose': 489,\n",
       " 'suppose': 2584,\n",
       " 'location': 1559,\n",
       " 'disappear': 765,\n",
       " 'uncle': 2792,\n",
       " 'accuse': 91,\n",
       " 'respond': 2210,\n",
       " 'irl': 1426,\n",
       " 'ugh': 2780,\n",
       " 'approach': 206,\n",
       " 'living': 1551,\n",
       " 'fucked': 1107,\n",
       " 'wouldnt': 2960,\n",
       " 'sick': 2386,\n",
       " 'middle': 1673,\n",
       " 'wonder': 2942,\n",
       " 'milk': 1679,\n",
       " 'unhealthy': 2803,\n",
       " 'ya': 2976,\n",
       " 'therapy': 2661,\n",
       " '2018': 29,\n",
       " 'dump': 838,\n",
       " 'august': 249,\n",
       " 'october': 1830,\n",
       " 'breakup': 391,\n",
       " 'heartbroken': 1246,\n",
       " 'especially': 917,\n",
       " 'therapist': 2660,\n",
       " 'covid': 623,\n",
       " 'hospital': 1302,\n",
       " 'monday': 1709,\n",
       " 'spiral': 2491,\n",
       " 'piece': 1963,\n",
       " 'aware': 261,\n",
       " 'stable': 2504,\n",
       " 'skill': 2411,\n",
       " 'hobby': 1275,\n",
       " 'none': 1792,\n",
       " 'noone': 1793,\n",
       " 'hug': 1316,\n",
       " 'comfort': 540,\n",
       " 'happiness': 1221,\n",
       " 'useless': 2825,\n",
       " 'perfectly': 1939,\n",
       " 'thank': 2653,\n",
       " 'hit': 1272,\n",
       " 'truck': 2756,\n",
       " 'drift': 821,\n",
       " 'ultimately': 2786,\n",
       " 'abandon': 70,\n",
       " 'side': 2387,\n",
       " 'example': 945,\n",
       " 'win': 2927,\n",
       " 'tax': 2622,\n",
       " 'pay': 1921,\n",
       " 'detail': 735,\n",
       " 'punch': 2092,\n",
       " 'cuz': 667,\n",
       " 'stole': 2527,\n",
       " 'smile': 2435,\n",
       " 'weary': 2894,\n",
       " 'sweat': 2598,\n",
       " 'droplet': 827,\n",
       " 'roll': 2243,\n",
       " 'floor': 1052,\n",
       " 'shrug': 2381,\n",
       " 'sense': 2324,\n",
       " 'dream': 819,\n",
       " 'fucking': 1110,\n",
       " 'entire': 905,\n",
       " 'slight': 2424,\n",
       " 'shadow': 2349,\n",
       " 'worthless': 2956,\n",
       " 'others': 1868,\n",
       " 'care': 445,\n",
       " 'badly': 276,\n",
       " 'bed': 306,\n",
       " 'minute': 1688,\n",
       " 'entertain': 904,\n",
       " 'waste': 2885,\n",
       " 'talent': 2612,\n",
       " 'course': 619,\n",
       " 'morning': 1718,\n",
       " 'short': 2370,\n",
       " '9th': 67,\n",
       " 'hell': 1254,\n",
       " 'press': 2042,\n",
       " 'enter': 903,\n",
       " '18': 21,\n",
       " 'apartment': 192,\n",
       " 'sharp': 2355,\n",
       " 'knife': 1479,\n",
       " '50': 54,\n",
       " 'opinion': 1856,\n",
       " 'light': 1535,\n",
       " 'tunnel': 2767,\n",
       " 'till': 2697,\n",
       " 'ill': 1351,\n",
       " 'couple': 617,\n",
       " 'however': 1311,\n",
       " 'stone': 2529,\n",
       " 'rant': 2126,\n",
       " 'compare': 549,\n",
       " 'rock': 2241,\n",
       " 'decent': 698,\n",
       " 'miss': 1693,\n",
       " 'nerd': 1767,\n",
       " 'redditor': 2163,\n",
       " 'encounter': 889,\n",
       " 'awkward': 266,\n",
       " 'admit': 111,\n",
       " 'worry': 2951,\n",
       " 'randomly': 2124,\n",
       " 'anyways': 188,\n",
       " 'grow': 1190,\n",
       " 'everywhere': 937,\n",
       " 'awake': 259,\n",
       " 'asleep': 228,\n",
       " 'totally': 2724,\n",
       " 'first': 1036,\n",
       " 'deal': 690,\n",
       " 'zero': 2995,\n",
       " 'lock': 1560,\n",
       " 'foster': 1080,\n",
       " 'literally': 1547,\n",
       " 'sound': 2471,\n",
       " 'hy': 1330,\n",
       " 'achieve': 93,\n",
       " 'height': 1253,\n",
       " '21': 33,\n",
       " 'attention': 244,\n",
       " 'brain': 383,\n",
       " 'shut': 2382,\n",
       " 'drive': 824,\n",
       " 'test': 2647,\n",
       " 'pretend': 2044,\n",
       " 'dirty': 761,\n",
       " 'toilet': 2708,\n",
       " 'weird': 2904,\n",
       " 'kid': 1468,\n",
       " 'ed': 856,\n",
       " 'luckily': 1586,\n",
       " 'class': 506,\n",
       " 'main': 1596,\n",
       " 'along': 148,\n",
       " 'friends': 1099,\n",
       " 'usual': 2828,\n",
       " 'social': 2443,\n",
       " 'hide': 1264,\n",
       " 'near': 1756,\n",
       " 'snap': 2438,\n",
       " 'wait': 2871,\n",
       " 'nasty': 1746,\n",
       " 'motion': 1721,\n",
       " 'terrify': 2646,\n",
       " 'caught': 452,\n",
       " 'sat': 2276,\n",
       " 'muscle': 1733,\n",
       " 'obviously': 1825,\n",
       " 'computer': 556,\n",
       " 'inside': 1392,\n",
       " 'afraid': 122,\n",
       " 'show': 2379,\n",
       " 'explain': 962,\n",
       " 'whenever': 2914,\n",
       " 'anxious': 180,\n",
       " 'repeatedly': 2198,\n",
       " 'bi': 328,\n",
       " 'previous': 2048,\n",
       " 'ups': 2818,\n",
       " 'maintain': 1598,\n",
       " 'contact': 585,\n",
       " 'numb': 1814,\n",
       " 'friendship': 1100,\n",
       " 'thankful': 2654,\n",
       " 'replace': 2199,\n",
       " 'human': 1319,\n",
       " 'connection': 574,\n",
       " 'genuine': 1137,\n",
       " 'presence': 2039,\n",
       " 'tone': 2715,\n",
       " 'whilst': 2916,\n",
       " 'acquaintance': 96,\n",
       " 'idea': 1336,\n",
       " 'crash': 630,\n",
       " 'onto': 1851,\n",
       " 'despite': 731,\n",
       " 'fact': 977,\n",
       " 'nice': 1781,\n",
       " 'realise': 2144,\n",
       " 'flaw': 1047,\n",
       " 'endless': 892,\n",
       " 'cycle': 668,\n",
       " 'energy': 895,\n",
       " 'wanted': 2877,\n",
       " 'communicate': 545,\n",
       " 'isolation': 1432,\n",
       " 'anybody': 181,\n",
       " 'shy': 2383,\n",
       " 'option': 1860,\n",
       " 'eight': 870,\n",
       " 'hospitalize': 1303,\n",
       " 'participate': 1905,\n",
       " 'group': 1189,\n",
       " 'progress': 2070,\n",
       " 'hopeless': 1293,\n",
       " '12': 15,\n",
       " 'harder': 1225,\n",
       " 'bore': 369,\n",
       " 'music': 1734,\n",
       " 'yeah': 2980,\n",
       " 'increase': 1373,\n",
       " 'concern': 559,\n",
       " 'thursday': 2688,\n",
       " 'saturday': 2278,\n",
       " 'intense': 1406,\n",
       " 'panic': 1896,\n",
       " 'attack': 241,\n",
       " 'intrusive': 1418,\n",
       " 'major': 1599,\n",
       " 'tough': 2726,\n",
       " 'band': 281,\n",
       " 'favorite': 1003,\n",
       " 'mention': 1662,\n",
       " 'accept': 84,\n",
       " 'better': 325,\n",
       " 'didnt': 746,\n",
       " 'act': 98,\n",
       " 'beyond': 326,\n",
       " 'awful': 264,\n",
       " 'meaningless': 1638,\n",
       " 'chicken': 482,\n",
       " ...}"
      ]
     },
     "execution_count": 17,
     "metadata": {},
     "output_type": "execute_result"
    }
   ],
   "source": [
    "vectorizer.vocabulary_"
   ]
  },
  {
   "cell_type": "markdown",
   "metadata": {},
   "source": [
    "### Base Model"
   ]
  },
  {
   "cell_type": "code",
   "execution_count": 3,
   "metadata": {},
   "outputs": [],
   "source": [
    "from sklearn.naive_bayes import GaussianNB, MultinomialNB, BernoulliNB\n",
    "from sklearn.metrics import accuracy_score\n",
    "from sklearn.metrics import classification_report\n",
    "from sklearn.metrics import ConfusionMatrixDisplay\n",
    "from sklearn.metrics import confusion_matrix"
   ]
  },
  {
   "cell_type": "code",
   "execution_count": 78,
   "metadata": {},
   "outputs": [],
   "source": [
    "multi_NB_base_model = MultinomialNB()\n",
    "multi_NB_base_model.fit(x_train_transformed, y_train)\n",
    "y_pred_base_model = multi_NB_base_model.predict(x_val_transformed)"
   ]
  },
  {
   "cell_type": "code",
   "execution_count": 83,
   "metadata": {},
   "outputs": [
    {
     "name": "stdout",
     "output_type": "stream",
     "text": [
      "Multinomial Accuracy: 0.860405653872673\n",
      "\n",
      "The classification report with metrics: \n",
      "\n",
      "               precision    recall  f1-score   support\n",
      "\n",
      "           0       0.95      0.76      0.84     17403\n",
      "           1       0.80      0.96      0.87     17405\n",
      "\n",
      "    accuracy                           0.86     34808\n",
      "   macro avg       0.88      0.86      0.86     34808\n",
      "weighted avg       0.88      0.86      0.86     34808\n",
      "\n"
     ]
    },
    {
     "data": {
      "text/plain": [
       "<sklearn.metrics._plot.confusion_matrix.ConfusionMatrixDisplay at 0x24adc0ebac8>"
      ]
     },
     "execution_count": 83,
     "metadata": {},
     "output_type": "execute_result"
    },
    {
     "data": {
      "image/png": "[encoded data removed]",
      "text/plain": [
       "<Figure size 432x288 with 2 Axes>"
      ]
     },
     "metadata": {
      "needs_background": "light"
     },
     "output_type": "display_data"
    }
   ],
   "source": [
    "# Results\n",
    "print(\"Multinomial Accuracy:\", accuracy_score(y_val, y_pred_base_model))\n",
    "print(\"\\nThe classification report with metrics: \\n\\n\", classification_report(y_val, y_pred_base_model))\n",
    "cm = confusion_matrix(y_val, y_pred_base_model)\n",
    "display = ConfusionMatrixDisplay(confusion_matrix=cm)\n",
    "display.plot()"
   ]
  },
  {
   "cell_type": "markdown",
   "metadata": {},
   "source": [
    "---------- Ensure predictor is working ----------"
   ]
  },
  {
   "cell_type": "markdown",
   "metadata": {},
   "source": [
    "Prediction is accurate for these three records by human evaluation."
   ]
  },
  {
   "cell_type": "code",
   "execution_count": 92,
   "metadata": {},
   "outputs": [
    {
     "data": {
      "text/plain": [
       "array([1, 0, 1, ..., 1, 1, 1])"
      ]
     },
     "execution_count": 92,
     "metadata": {},
     "output_type": "execute_result"
    }
   ],
   "source": [
    "y_pred_base_model"
   ]
  },
  {
   "cell_type": "code",
   "execution_count": 93,
   "metadata": {},
   "outputs": [
    {
     "data": {
      "text/plain": [
       "189704    like prepare future right no serious think sui...\n",
       "85943     2007 call bitch do ? see miss step bad luck ra...\n",
       "158847    m ready give life one disappointment another f...\n",
       "13769     good fashionable store buy clothes love point ...\n",
       "224794    future career goal ? filler filler filler fill...\n",
       "                                ...                        \n",
       "166920                       do m fuck bleed like crazy wow\n",
       "146894    want live like legend without monster thing m ...\n",
       "162623    another night alone honestly want kill m sick ...\n",
       "92625     think know definition pain ? think pimple schlong\n",
       "19459     suicide hotline hour ? look suicide hotlines c...\n",
       "Name: text, Length: 34808, dtype: object"
      ]
     },
     "execution_count": 93,
     "metadata": {},
     "output_type": "execute_result"
    }
   ],
   "source": [
    "x_val"
   ]
  },
  {
   "cell_type": "code",
   "execution_count": 94,
   "metadata": {
    "scrolled": true
   },
   "outputs": [
    {
     "data": {
      "text/plain": [
       "'like prepare future right no serious think suicide doubt serious think close future either but fear age death almost every day scar day beyond chance make life well best good day behind living regret what if think till fade away hospital bed piss shit pant fuck no not want live long want prepare think end life term way want go place want incredibly afraid life end not live today fuck wrong think ? give actual comfort know way if everything turn bad'"
      ]
     },
     "execution_count": 94,
     "metadata": {},
     "output_type": "execute_result"
    }
   ],
   "source": [
    "x_val[189704]"
   ]
  },
  {
   "cell_type": "code",
   "execution_count": 95,
   "metadata": {},
   "outputs": [
    {
     "data": {
      "text/plain": [
       "'2007 call bitch do ? see miss step bad luck random chance wait parent kick ?'"
      ]
     },
     "execution_count": 95,
     "metadata": {},
     "output_type": "execute_result"
    }
   ],
   "source": [
    "x_val[85943]"
   ]
  },
  {
   "cell_type": "code",
   "execution_count": 96,
   "metadata": {},
   "outputs": [
    {
     "data": {
      "text/plain": [
       "'m ready give life one disappointment another father leave little nt see since apparently real loser anyway mentor abuse almost three year leave real fucked mom yell ignore go way not touch think hate get anxious time never serious girlfriend old sister graduate no longer go live home get horrible grade school last year nt believe god anymore mean point throw towel say enough enough get one life earth u get dealt real shitty hand prolong ? s point living worthless life ? m not immediate risk right but s like even matter ? anyone even care ?'"
      ]
     },
     "execution_count": 96,
     "metadata": {},
     "output_type": "execute_result"
    }
   ],
   "source": [
    "x_val[158847]"
   ]
  },
  {
   "cell_type": "markdown",
   "metadata": {},
   "source": [
    "---------- Ensure predictor is working END ----------"
   ]
  },
  {
   "cell_type": "markdown",
   "metadata": {},
   "source": [
    "### Correlation"
   ]
  },
  {
   "cell_type": "code",
   "execution_count": 18,
   "metadata": {},
   "outputs": [
    {
     "data": {
      "text/plain": [
       "array([[ 1.00000000e+00,  9.43611545e-01,  9.89363140e-01, ...,\n",
       "        -1.82582951e-04, -2.53422725e-04, -2.52791452e-04],\n",
       "       [ 9.43611545e-01,  1.00000000e+00,  9.16794454e-01, ...,\n",
       "        -1.66734661e-04, -2.31425507e-04, -2.30849029e-04],\n",
       "       [ 9.89363140e-01,  9.16794454e-01,  1.00000000e+00, ...,\n",
       "        -1.77972245e-04, -2.47023125e-04, -2.46407794e-04],\n",
       "       ...,\n",
       "       [-1.82582951e-04, -1.66734661e-04, -1.77972245e-04, ...,\n",
       "         1.00000000e+00,  8.39122914e-03, -2.58179584e-04],\n",
       "       [-2.53422725e-04, -2.31425507e-04, -2.47023125e-04, ...,\n",
       "         8.39122914e-03,  1.00000000e+00,  4.61412962e-03],\n",
       "       [-2.52791452e-04, -2.30849029e-04, -2.46407794e-04, ...,\n",
       "        -2.58179584e-04,  4.61412962e-03,  1.00000000e+00]])"
      ]
     },
     "execution_count": 18,
     "metadata": {},
     "output_type": "execute_result"
    }
   ],
   "source": [
    "correlation_matrix = np.corrcoef(x_train_transformed, rowvar=False)\n",
    "correlation_matrix"
   ]
  },
  {
   "cell_type": "code",
   "execution_count": 21,
   "metadata": {},
   "outputs": [
    {
     "data": {
      "text/plain": [
       "(3000, 3000)"
      ]
     },
     "execution_count": 21,
     "metadata": {},
     "output_type": "execute_result"
    }
   ],
   "source": [
    "correlation_matrix.shape"
   ]
  },
  {
   "cell_type": "code",
   "execution_count": 68,
   "metadata": {},
   "outputs": [
    {
     "data": {
      "text/plain": [
       "1.0"
      ]
     },
     "execution_count": 68,
     "metadata": {},
     "output_type": "execute_result"
    }
   ],
   "source": [
    "correlation_matrix.max()"
   ]
  },
  {
   "cell_type": "code",
   "execution_count": 69,
   "metadata": {},
   "outputs": [
    {
     "data": {
      "text/plain": [
       "-0.09578179310059562"
      ]
     },
     "execution_count": 69,
     "metadata": {},
     "output_type": "execute_result"
    }
   ],
   "source": [
    "correlation_matrix.min()"
   ]
  },
  {
   "cell_type": "code",
   "execution_count": 54,
   "metadata": {},
   "outputs": [],
   "source": [
    "# Get columns that are highly correlated\n",
    "\n",
    "to_drop_cols = []\n",
    "\n",
    "# Feaures with high correlaion >=0.75\n",
    "start = 1\n",
    "for i in range(0,3000):\n",
    "    for j in range(start, 3000):\n",
    "        if (j in to_drop_cols):\n",
    "            continue\n",
    "        if (correlation_matrix[i][j] >= 0.75):\n",
    "            to_drop_cols.append(j)\n",
    "    start = start + 1"
   ]
  },
  {
   "cell_type": "code",
   "execution_count": 55,
   "metadata": {},
   "outputs": [
    {
     "data": {
      "text/plain": [
       "89"
      ]
     },
     "execution_count": 55,
     "metadata": {},
     "output_type": "execute_result"
    }
   ],
   "source": [
    "len(to_drop_cols)"
   ]
  },
  {
   "cell_type": "code",
   "execution_count": 56,
   "metadata": {},
   "outputs": [
    {
     "data": {
      "text/plain": [
       "(162439, 2911)"
      ]
     },
     "execution_count": 56,
     "metadata": {},
     "output_type": "execute_result"
    }
   ],
   "source": [
    "x_train_transformed_dropped = np.delete(x_train_transformed, to_drop_cols, 1)  # delete second row of A\n",
    "x_train_transformed_dropped.shape"
   ]
  },
  {
   "cell_type": "code",
   "execution_count": 57,
   "metadata": {},
   "outputs": [
    {
     "data": {
      "text/plain": [
       "(34808, 2911)"
      ]
     },
     "execution_count": 57,
     "metadata": {},
     "output_type": "execute_result"
    }
   ],
   "source": [
    "x_val_transformed_dropped = np.delete(x_val_transformed, to_drop_cols, 1)  # delete second row of A\n",
    "x_val_transformed_dropped.shape"
   ]
  },
  {
   "cell_type": "code",
   "execution_count": 58,
   "metadata": {},
   "outputs": [
    {
     "data": {
      "text/plain": [
       "(34809, 2911)"
      ]
     },
     "execution_count": 58,
     "metadata": {},
     "output_type": "execute_result"
    }
   ],
   "source": [
    "x_test_transformed_dropped = np.delete(x_test_transformed, to_drop_cols, 1)  # delete second row of A\n",
    "x_test_transformed_dropped.shape"
   ]
  },
  {
   "cell_type": "markdown",
   "metadata": {},
   "source": [
    "### Model 1"
   ]
  },
  {
   "cell_type": "markdown",
   "metadata": {},
   "source": [
    "Remove correlated features >=0.75.<br>\n",
    "False positives decreased decently but False negatives increased by a substantial amount as well."
   ]
  },
  {
   "cell_type": "code",
   "execution_count": 61,
   "metadata": {},
   "outputs": [],
   "source": [
    "multi_NB_model1 = MultinomialNB()\n",
    "multi_NB_model1.fit(x_train_transformed_dropped, y_train)\n",
    "y_pred_model1 = multi_NB_model1.predict(x_val_transformed_dropped)"
   ]
  },
  {
   "cell_type": "code",
   "execution_count": 65,
   "metadata": {
    "scrolled": true
   },
   "outputs": [
    {
     "name": "stdout",
     "output_type": "stream",
     "text": [
      "Multinomial Accuracy: 0.8738221098598024\n",
      "\n",
      "The classification report with metrics: \n",
      "\n",
      "               precision    recall  f1-score   support\n",
      "\n",
      "           0       0.95      0.79      0.86     17403\n",
      "           1       0.82      0.96      0.88     17405\n",
      "\n",
      "    accuracy                           0.87     34808\n",
      "   macro avg       0.88      0.87      0.87     34808\n",
      "weighted avg       0.88      0.87      0.87     34808\n",
      "\n"
     ]
    },
    {
     "data": {
      "text/plain": [
       "<sklearn.metrics._plot.confusion_matrix.ConfusionMatrixDisplay at 0x18489dfe940>"
      ]
     },
     "execution_count": 65,
     "metadata": {},
     "output_type": "execute_result"
    },
    {
     "data": {
      "image/png": "[encoded data removed]",
      "text/plain": [
       "<Figure size 432x288 with 2 Axes>"
      ]
     },
     "metadata": {
      "needs_background": "light"
     },
     "output_type": "display_data"
    }
   ],
   "source": [
    "# Results\n",
    "print(\"Multinomial Accuracy:\", accuracy_score(y_val, y_pred_model1))\n",
    "print(\"\\nThe classification report with metrics: \\n\\n\", classification_report(y_val, y_pred_model1))\n",
    "cm = confusion_matrix(y_val, y_pred_model1)\n",
    "display = ConfusionMatrixDisplay(confusion_matrix=cm)\n",
    "display.plot()"
   ]
  },
  {
   "cell_type": "code",
   "execution_count": 77,
   "metadata": {},
   "outputs": [],
   "source": [
    "# Get columns that are highly correlated\n",
    "\n",
    "to_drop_cols = []\n",
    "\n",
    "# Feaures with high correlaion >=0.75\n",
    "start = 1\n",
    "for i in range(0,3000):\n",
    "    for j in range(start, 3000):\n",
    "        if (j in to_drop_cols):y_pred_model2\n",
    "            continue\n",
    "        if (correlation_matrix[i][j] >= 0.3):\n",
    "            to_drop_cols.append(j)\n",
    "    start = start + 1"
   ]
  },
  {
   "cell_type": "code",
   "execution_count": 78,
   "metadata": {},
   "outputs": [
    {
     "data": {
      "text/plain": [
       "450"
      ]
     },
     "execution_count": 78,
     "metadata": {},
     "output_type": "execute_result"
    }
   ],
   "source": [
    "len(to_drop_cols)"
   ]
  },
  {
   "cell_type": "code",
   "execution_count": 79,
   "metadata": {},
   "outputs": [
    {
     "data": {
      "text/plain": [
       "(162439, 2550)"
      ]
     },
     "execution_count": 79,
     "metadata": {},
     "output_type": "execute_result"
    }
   ],
   "source": [
    "x_train_transformed_dropped = np.delete(x_train_transformed, to_drop_cols, 1)  # delete second row of A\n",
    "x_train_transformed_dropped.shape"
   ]
  },
  {
   "cell_type": "code",
   "execution_count": 80,
   "metadata": {},
   "outputs": [
    {
     "data": {
      "text/plain": [
       "(34808, 2550)"
      ]
     },
     "execution_count": 80,
     "metadata": {},
     "output_type": "execute_result"
    }
   ],
   "source": [
    "x_val_transformed_dropped = np.delete(x_val_transformed, to_drop_cols, 1)  # delete second row of A\n",
    "x_val_transformed_dropped.shape"
   ]
  },
  {
   "cell_type": "code",
   "execution_count": 81,
   "metadata": {},
   "outputs": [
    {
     "data": {
      "text/plain": [
       "(34809, 2550)"
      ]
     },
     "execution_count": 81,
     "metadata": {},
     "output_type": "execute_result"
    }
   ],
   "source": [
    "x_test_transformed_dropped = np.delete(x_test_transformed, to_drop_cols, 1)  # delete second row of A\n",
    "x_test_transformed_dropped.shape"
   ]
  },
  {
   "cell_type": "markdown",
   "metadata": {},
   "source": [
    "### Model 2"
   ]
  },
  {
   "cell_type": "markdown",
   "metadata": {},
   "source": [
    "Remove correlated features >=0.3.<br>\n",
    "General performance of model decreased."
   ]
  },
  {
   "cell_type": "code",
   "execution_count": 82,
   "metadata": {},
   "outputs": [],
   "source": [
    "multi_NB_model2 = MultinomialNB()\n",
    "multi_NB_model2.fit(x_train_transformed_dropped, y_train)\n",
    "y_pred_model2 = multi_NB_model2.predict(x_val_transformed_dropped)"
   ]
  },
  {
   "cell_type": "code",
   "execution_count": 83,
   "metadata": {
    "scrolled": true
   },
   "outputs": [
    {
     "name": "stdout",
     "output_type": "stream",
     "text": [
      "Multinomial Accuracy: 0.8456676626062974\n",
      "\n",
      "The classification report with metrics: \n",
      "\n",
      "               precision    recall  f1-score   support\n",
      "\n",
      "           0       0.94      0.73      0.83     17403\n",
      "           1       0.78      0.96      0.86     17405\n",
      "\n",
      "    accuracy                           0.85     34808\n",
      "   macro avg       0.86      0.85      0.84     34808\n",
      "weighted avg       0.86      0.85      0.84     34808\n",
      "\n"
     ]
    },
    {
     "data": {
      "text/plain": [
       "<sklearn.metrics._plot.confusion_matrix.ConfusionMatrixDisplay at 0x184890fd400>"
      ]
     },
     "execution_count": 83,
     "metadata": {},
     "output_type": "execute_result"
    },
    {
     "data": {
      "image/png": "[encoded data removed]",
      "text/plain": [
       "<Figure size 432x288 with 2 Axes>"
      ]
     },
     "metadata": {
      "needs_background": "light"
     },
     "output_type": "display_data"
    }
   ],
   "source": [
    "# Results\n",
    "print(\"Multinomial Accuracy:\", accuracy_score(y_val, y_pred_model2))\n",
    "print(\"\\nThe classification report with metrics: \\n\\n\", classification_report(y_val, y_pred_model2))\n",
    "cm = confusion_matrix(y_val, y_pred_model2)\n",
    "display = ConfusionMatrixDisplay(confusion_matrix=cm)\n",
    "display.plot()"
   ]
  },
  {
   "cell_type": "code",
   "execution_count": 84,
   "metadata": {},
   "outputs": [],
   "source": [
    "# Get columns that are highly correlated\n",
    "\n",
    "to_drop_cols = []\n",
    "\n",
    "# Feaures with high correlaion >=0.5\n",
    "start = 1\n",
    "for i in range(0,3000):\n",
    "    for j in range(start, 3000):\n",
    "        if (j in to_drop_cols):\n",
    "            continue\n",
    "        if (correlation_matrix[i][j] >= 0.5):\n",
    "            to_drop_cols.append(j)\n",
    "    start = start + 1"
   ]
  },
  {
   "cell_type": "code",
   "execution_count": 85,
   "metadata": {},
   "outputs": [
    {
     "data": {
      "text/plain": [
       "189"
      ]
     },
     "execution_count": 85,
     "metadata": {},
     "output_type": "execute_result"
    }
   ],
   "source": [
    "len(to_drop_cols)"
   ]
  },
  {
   "cell_type": "code",
   "execution_count": 86,
   "metadata": {},
   "outputs": [
    {
     "data": {
      "text/plain": [
       "(162439, 2811)"
      ]
     },
     "execution_count": 86,
     "metadata": {},
     "output_type": "execute_result"
    }
   ],
   "source": [
    "x_train_transformed_dropped = np.delete(x_train_transformed, to_drop_cols, 1)  # delete second row of A\n",
    "x_train_transformed_dropped.shape"
   ]
  },
  {
   "cell_type": "code",
   "execution_count": 87,
   "metadata": {
    "scrolled": true
   },
   "outputs": [
    {
     "data": {
      "text/plain": [
       "(34808, 2811)"
      ]
     },
     "execution_count": 87,
     "metadata": {},
     "output_type": "execute_result"
    }
   ],
   "source": [
    "x_val_transformed_dropped = np.delete(x_val_transformed, to_drop_cols, 1)  # delete second row of A\n",
    "x_val_transformed_dropped.shape"
   ]
  },
  {
   "cell_type": "code",
   "execution_count": 87,
   "metadata": {
    "scrolled": true
   },
   "outputs": [
    {
     "data": {
      "text/plain": [
       "(34808, 2811)"
      ]
     },
     "execution_count": 87,
     "metadata": {},
     "output_type": "execute_result"
    }
   ],
   "source": [
    "x_test_transformed_dropped = np.delete(x_test_transformed, to_drop_cols, 1)  # delete second row of A\n",
    "x_test_transformed_dropped.shape"
   ]
  },
  {
   "cell_type": "markdown",
   "metadata": {},
   "source": [
    "### Model 3"
   ]
  },
  {
   "cell_type": "markdown",
   "metadata": {},
   "source": [
    "Remove correlated features >=0.5.<br>\n",
    "False positives decreased decently but False negatives increased slightly."
   ]
  },
  {
   "cell_type": "code",
   "execution_count": 89,
   "metadata": {},
   "outputs": [],
   "source": [
    "multi_NB_model3 = MultinomialNB()\n",
    "multi_NB_model3.fit(x_train_transformed_dropped, y_train)\n",
    "y_pred_model3 = multi_NB_model3.predict(x_val_transformed_dropped)"
   ]
  },
  {
   "cell_type": "code",
   "execution_count": 90,
   "metadata": {
    "scrolled": true
   },
   "outputs": [
    {
     "name": "stdout",
     "output_type": "stream",
     "text": [
      "Multinomial Accuracy: 0.869943691105493\n",
      "\n",
      "The classification report with metrics: \n",
      "\n",
      "               precision    recall  f1-score   support\n",
      "\n",
      "           0       0.95      0.78      0.86     17403\n",
      "           1       0.81      0.96      0.88     17405\n",
      "\n",
      "    accuracy                           0.87     34808\n",
      "   macro avg       0.88      0.87      0.87     34808\n",
      "weighted avg       0.88      0.87      0.87     34808\n",
      "\n"
     ]
    },
    {
     "data": {
      "text/plain": [
       "<sklearn.metrics._plot.confusion_matrix.ConfusionMatrixDisplay at 0x18489003220>"
      ]
     },
     "execution_count": 90,
     "metadata": {},
     "output_type": "execute_result"
    },
    {
     "data": {
      "image/png": "[encoded data removed]",
      "text/plain": [
       "<Figure size 432x288 with 2 Axes>"
      ]
     },
     "metadata": {
      "needs_background": "light"
     },
     "output_type": "display_data"
    }
   ],
   "source": [
    "# Results\n",
    "print(\"Multinomial Accuracy:\", accuracy_score(y_val, y_pred_model3))\n",
    "print(\"\\nThe classification report with metrics: \\n\\n\", classification_report(y_val, y_pred_model3))\n",
    "cm = confusion_matrix(y_val, y_pred_model3)\n",
    "display = ConfusionMatrixDisplay(confusion_matrix=cm)\n",
    "display.plot()"
   ]
  },
  {
   "cell_type": "markdown",
   "metadata": {},
   "source": [
    "### Model 3 (Test Results)"
   ]
  },
  {
   "cell_type": "markdown",
   "metadata": {},
   "source": [
    "For our problem of detecting suicide cases, wrongly prediciting a negative case as positive (false positive) is much more acceptable than wrongly prediciting a positive case as negative (false negative). In short, we want to detect as many actual suicide text as possible, even if it means predicting some normal texts wrongly as suicide texts.\n",
    "\n",
    "From this context, model 3 is chosen because it is a slightly better model than the base model with 0.01 higher precision for predicting suicide texts while maintining a recall of 0.96. Although the number of false negatives is slightly higher for Model 3, it was not significant enough to impact the recall score. We think that the increase in precision and minute decrease in recall is worth it because false positives hog resources as well (manpower...)."
   ]
  },
  {
   "cell_type": "code",
   "execution_count": 91,
   "metadata": {
    "scrolled": true
   },
   "outputs": [
    {
     "name": "stdout",
     "output_type": "stream",
     "text": [
      "Multinomial Accuracy: 0.869229222327559\n",
      "\n",
      "The classification report with metrics: \n",
      "\n",
      "               precision    recall  f1-score   support\n",
      "\n",
      "           0       0.95      0.78      0.86     17404\n",
      "           1       0.81      0.96      0.88     17405\n",
      "\n",
      "    accuracy                           0.87     34809\n",
      "   macro avg       0.88      0.87      0.87     34809\n",
      "weighted avg       0.88      0.87      0.87     34809\n",
      "\n"
     ]
    },
    {
     "data": {
      "text/plain": [
       "<sklearn.metrics._plot.confusion_matrix.ConfusionMatrixDisplay at 0x18482d5dd30>"
      ]
     },
     "execution_count": 91,
     "metadata": {},
     "output_type": "execute_result"
    },
    {
     "data": {
      "image/png": "[encoded data removed]",
      "text/plain": [
       "<Figure size 432x288 with 2 Axes>"
      ]
     },
     "metadata": {
      "needs_background": "light"
     },
     "output_type": "display_data"
    }
   ],
   "source": [
    "# Results\n",
    "y_test_pred_model3 = multi_NB_model3.predict(x_test_transformed_dropped)\n",
    "\n",
    "print(\"Multinomial Accuracy:\", accuracy_score(y_test, y_test_pred_model3))\n",
    "print(\"\\nThe classification report with metrics: \\n\\n\", classification_report(y_test, y_test_pred_model3))\n",
    "cm = confusion_matrix(y_test, y_test_pred_model3)\n",
    "display = ConfusionMatrixDisplay(confusion_matrix=cm)\n",
    "display.plot()"
   ]
  },
  {
   "cell_type": "markdown",
   "metadata": {},
   "source": [
    "## LSTM (Neural Network)"
   ]
  },
  {
   "cell_type": "code",
   "execution_count": 5,
   "metadata": {},
   "outputs": [],
   "source": [
    "from tensorflow.keras.models import Sequential\n",
    "from tensorflow.keras.layers import Dense\n",
    "from tensorflow.keras.layers import LSTM\n",
    "from tensorflow.keras.layers import Dense, Embedding"
   ]
  },
  {
   "cell_type": "markdown",
   "metadata": {},
   "source": [
    "### Preprocessing"
   ]
  },
  {
   "cell_type": "code",
   "execution_count": 6,
   "metadata": {},
   "outputs": [
    {
     "data": {
      "text/html": [
       "<div>\n",
       "<style scoped>\n",
       "    .dataframe tbody tr th:only-of-type {\n",
       "        vertical-align: middle;\n",
       "    }\n",
       "\n",
       "    .dataframe tbody tr th {\n",
       "        vertical-align: top;\n",
       "    }\n",
       "\n",
       "    .dataframe thead th {\n",
       "        text-align: right;\n",
       "    }\n",
       "</style>\n",
       "<table border=\"1\" class=\"dataframe\">\n",
       "  <thead>\n",
       "    <tr style=\"text-align: right;\">\n",
       "      <th></th>\n",
       "      <th>text</th>\n",
       "      <th>class</th>\n",
       "    </tr>\n",
       "  </thead>\n",
       "  <tbody>\n",
       "    <tr>\n",
       "      <th>0</th>\n",
       "      <td>ex wife threaten suicide recently leave wife g...</td>\n",
       "      <td>suicide</td>\n",
       "    </tr>\n",
       "    <tr>\n",
       "      <th>1</th>\n",
       "      <td>weird nt get affect compliment if s come someo...</td>\n",
       "      <td>non-suicide</td>\n",
       "    </tr>\n",
       "    <tr>\n",
       "      <th>2</th>\n",
       "      <td>finally 2020 almost never hear 2020 bad year e...</td>\n",
       "      <td>non-suicide</td>\n",
       "    </tr>\n",
       "    <tr>\n",
       "      <th>3</th>\n",
       "      <td>need helpjust help im cry hard</td>\n",
       "      <td>suicide</td>\n",
       "    </tr>\n",
       "    <tr>\n",
       "      <th>4</th>\n",
       "      <td>lose hello name adam 16 struggle year afraid p...</td>\n",
       "      <td>suicide</td>\n",
       "    </tr>\n",
       "    <tr>\n",
       "      <th>...</th>\n",
       "      <td>...</td>\n",
       "      <td>...</td>\n",
       "    </tr>\n",
       "    <tr>\n",
       "      <th>232051</th>\n",
       "      <td>if nt like rock not go get anything but go htt...</td>\n",
       "      <td>non-suicide</td>\n",
       "    </tr>\n",
       "    <tr>\n",
       "      <th>232052</th>\n",
       "      <td>tell many friend not lonely everything deprive...</td>\n",
       "      <td>non-suicide</td>\n",
       "    </tr>\n",
       "    <tr>\n",
       "      <th>232053</th>\n",
       "      <td>pee probably taste like salty tea smirk face s...</td>\n",
       "      <td>non-suicide</td>\n",
       "    </tr>\n",
       "    <tr>\n",
       "      <th>232054</th>\n",
       "      <td>usual stuff find m not post sympathy pity beca...</td>\n",
       "      <td>suicide</td>\n",
       "    </tr>\n",
       "    <tr>\n",
       "      <th>232055</th>\n",
       "      <td>still nt beat first bos hollow knight ve fough...</td>\n",
       "      <td>non-suicide</td>\n",
       "    </tr>\n",
       "  </tbody>\n",
       "</table>\n",
       "<p>232056 rows × 2 columns</p>\n",
       "</div>"
      ],
      "text/plain": [
       "                                                     text        class\n",
       "0       ex wife threaten suicide recently leave wife g...      suicide\n",
       "1       weird nt get affect compliment if s come someo...  non-suicide\n",
       "2       finally 2020 almost never hear 2020 bad year e...  non-suicide\n",
       "3                          need helpjust help im cry hard      suicide\n",
       "4       lose hello name adam 16 struggle year afraid p...      suicide\n",
       "...                                                   ...          ...\n",
       "232051  if nt like rock not go get anything but go htt...  non-suicide\n",
       "232052  tell many friend not lonely everything deprive...  non-suicide\n",
       "232053  pee probably taste like salty tea smirk face s...  non-suicide\n",
       "232054  usual stuff find m not post sympathy pity beca...      suicide\n",
       "232055  still nt beat first bos hollow knight ve fough...  non-suicide\n",
       "\n",
       "[232056 rows x 2 columns]"
      ]
     },
     "execution_count": 6,
     "metadata": {},
     "output_type": "execute_result"
    }
   ],
   "source": [
    "# Read dataset from csv file\n",
    "df_lstm = pd.read_csv(\"../Dataset/Suicide_Detection(After Lemmitization).csv\")\n",
    "df_lstm"
   ]
  },
  {
   "cell_type": "markdown",
   "metadata": {},
   "source": [
    "### Glove Word Embedding"
   ]
  },
  {
   "cell_type": "code",
   "execution_count": 7,
   "metadata": {},
   "outputs": [],
   "source": [
    "# Get word embedding dictionary; word as Key, vector as Value\n",
    "embeddings_dict = {}\n",
    "with open(\"../Dataset/glove.6B.50d.txt\", 'r', encoding=\"utf-8\") as f:\n",
    "    for line in f:\n",
    "        values = line.split()\n",
    "        word = values[0]\n",
    "        vector = np.asarray(values[1:], \"float32\")\n",
    "        embeddings_dict[word] = vector"
   ]
  },
  {
   "cell_type": "code",
   "execution_count": 8,
   "metadata": {},
   "outputs": [
    {
     "data": {
      "text/plain": [
       "50"
      ]
     },
     "execution_count": 8,
     "metadata": {},
     "output_type": "execute_result"
    }
   ],
   "source": [
    "len(embeddings_dict['the'])"
   ]
  },
  {
   "cell_type": "markdown",
   "metadata": {},
   "source": [
    "### Label Encoder (class/y)"
   ]
  },
  {
   "cell_type": "code",
   "execution_count": 9,
   "metadata": {},
   "outputs": [
    {
     "name": "stdout",
     "output_type": "stream",
     "text": [
      "[1 0 0 ... 0 1 0]\n",
      "No. of Records:  232056\n"
     ]
    }
   ],
   "source": [
    "# Encode sentiment labels\n",
    "from sklearn.preprocessing import LabelEncoder\n",
    "labels = df_lstm[\"class\"].values\n",
    "encoder = LabelEncoder()\n",
    "encoded_labels = encoder.fit_transform(labels)\n",
    "print(encoded_labels)\n",
    "print(\"No. of Records: \", len(encoded_labels))"
   ]
  },
  {
   "cell_type": "markdown",
   "metadata": {},
   "source": [
    "### Split Data"
   ]
  },
  {
   "cell_type": "markdown",
   "metadata": {},
   "source": [
    "Split data into Train, Val, Test: 70%, 15%, 15%."
   ]
  },
  {
   "cell_type": "code",
   "execution_count": 12,
   "metadata": {
    "scrolled": true
   },
   "outputs": [
    {
     "name": "stdout",
     "output_type": "stream",
     "text": [
      "x_train shape:  (162439,)\n",
      "x_remain shape:  (69617,)\n",
      "y_train shape:  (162439,)\n",
      "y_remain shape:  (69617,)\n"
     ]
    }
   ],
   "source": [
    "# Split into train, remain, with stratify to maintain class proportion for each set\n",
    "x_train, x_remain, y_train, y_remain = train_test_split(df_lstm[\"text\"], encoded_labels, stratify = encoded_labels, \n",
    "                                                    train_size=0.7, random_state=88)\n",
    "print(\"x_train shape: \", x_train.shape)\n",
    "print(\"x_remain shape: \", x_remain.shape)\n",
    "print(\"y_train shape: \", y_train.shape)\n",
    "print(\"y_remain shape: \", y_remain.shape)"
   ]
  },
  {
   "cell_type": "code",
   "execution_count": 13,
   "metadata": {},
   "outputs": [
    {
     "name": "stdout",
     "output_type": "stream",
     "text": [
      "x_val shape:  (34808,)\n",
      "x_test shape:  (34809,)\n",
      "y_val shape:  (34808,)\n",
      "y_test shape:  (34809,)\n"
     ]
    }
   ],
   "source": [
    "# Split into val, test\n",
    "x_val, x_test, y_val, y_test = train_test_split(x_remain, y_remain, stratify = y_remain, \n",
    "                                                    train_size=0.5, random_state=88)\n",
    "print(\"x_val shape: \", x_val.shape)\n",
    "print(\"x_test shape: \", x_test.shape)\n",
    "print(\"y_val shape: \", y_val.shape)\n",
    "print(\"y_test shape: \", y_test.shape)"
   ]
  },
  {
   "cell_type": "markdown",
   "metadata": {},
   "source": [
    "### Tokenize Texts"
   ]
  },
  {
   "cell_type": "code",
   "execution_count": 14,
   "metadata": {},
   "outputs": [],
   "source": [
    "from tensorflow.keras.preprocessing.text import Tokenizer\n",
    "from tensorflow.keras.preprocessing.sequence import pad_sequences\n",
    "\n",
    "word_tokenizer = Tokenizer()\n",
    "word_tokenizer.fit_on_texts(x_train)\n",
    "\n",
    "x_train = word_tokenizer.texts_to_sequences(x_train)\n",
    "x_val = word_tokenizer.texts_to_sequences(x_val)\n",
    "x_test = word_tokenizer.texts_to_sequences(x_test)"
   ]
  },
  {
   "cell_type": "code",
   "execution_count": 15,
   "metadata": {},
   "outputs": [
    {
     "data": {
      "text/plain": [
       "140921"
      ]
     },
     "execution_count": 15,
     "metadata": {},
     "output_type": "execute_result"
    }
   ],
   "source": [
    "len(word_tokenizer.word_index)"
   ]
  },
  {
   "cell_type": "code",
   "execution_count": 16,
   "metadata": {},
   "outputs": [],
   "source": [
    "vocab_length = len(word_tokenizer.word_index) + 1"
   ]
  },
  {
   "cell_type": "code",
   "execution_count": 17,
   "metadata": {},
   "outputs": [],
   "source": [
    "# Pad Sequences\n",
    "maxlen = 100\n",
    "x_train = pad_sequences(x_train, padding='post', maxlen=maxlen)\n",
    "x_val = pad_sequences(x_val, padding='post', maxlen=maxlen)\n",
    "x_test = pad_sequences(x_test, padding='post', maxlen=maxlen)"
   ]
  },
  {
   "cell_type": "code",
   "execution_count": 18,
   "metadata": {},
   "outputs": [
    {
     "data": {
      "text/plain": [
       "100"
      ]
     },
     "execution_count": 18,
     "metadata": {},
     "output_type": "execute_result"
    }
   ],
   "source": [
    "len(x_train[211])"
   ]
  },
  {
   "cell_type": "markdown",
   "metadata": {},
   "source": [
    "### Embedding Matrix"
   ]
  },
  {
   "cell_type": "code",
   "execution_count": 19,
   "metadata": {},
   "outputs": [],
   "source": [
    "embedding_matrix = np.zeros((vocab_length, 50))\n",
    "for word, index in word_tokenizer.word_index.items():\n",
    "    embedding_vector = embeddings_dict.get(word)\n",
    "    if embedding_vector is not None:\n",
    "        embedding_matrix[index] = embedding_vector"
   ]
  },
  {
   "cell_type": "code",
   "execution_count": 20,
   "metadata": {},
   "outputs": [
    {
     "data": {
      "text/plain": [
       "(140922, 50)"
      ]
     },
     "execution_count": 20,
     "metadata": {},
     "output_type": "execute_result"
    }
   ],
   "source": [
    "embedding_matrix.shape"
   ]
  },
  {
   "cell_type": "markdown",
   "metadata": {},
   "source": [
    "### Base Model"
   ]
  },
  {
   "cell_type": "code",
   "execution_count": 21,
   "metadata": {},
   "outputs": [
    {
     "name": "stdout",
     "output_type": "stream",
     "text": [
      "Model: \"sequential_1\"\n",
      "_________________________________________________________________\n",
      "Layer (type)                 Output Shape              Param #   \n",
      "=================================================================\n",
      "embedding (Embedding)        (None, 100, 50)           7046100   \n",
      "_________________________________________________________________\n",
      "lstm (LSTM)                  (None, 128)               91648     \n",
      "_________________________________________________________________\n",
      "dense (Dense)                (None, 1)                 129       \n",
      "=================================================================\n",
      "Total params: 7,137,877\n",
      "Trainable params: 91,777\n",
      "Non-trainable params: 7,046,100\n",
      "_________________________________________________________________\n",
      "None\n"
     ]
    }
   ],
   "source": [
    "lstm_model_base = Sequential()\n",
    "\n",
    "lstm_model_base.add(Embedding(vocab_length, 50, weights=[embedding_matrix], \n",
    "                    input_length=maxlen , trainable=False))\n",
    "\n",
    "lstm_model_base.add(LSTM(128, return_sequences=False))\n",
    "                    \n",
    "lstm_model_base.add(Dense(1, activation='sigmoid'))\n",
    "                    \n",
    "lstm_model_base.compile(loss='binary_crossentropy', optimizer='adam', metrics=['accuracy'])\n",
    "\n",
    "print(lstm_model_base.summary())"
   ]
  },
  {
   "cell_type": "code",
   "execution_count": 22,
   "metadata": {},
   "outputs": [
    {
     "name": "stdout",
     "output_type": "stream",
     "text": [
      "Epoch 1/20\n",
      "5077/5077 [==============================] - 62s 12ms/step - loss: 0.3214 - accuracy: 0.8693 - val_loss: 0.2742 - val_accuracy: 0.8924\n",
      "Epoch 2/20\n",
      "5077/5077 [==============================] - 61s 12ms/step - loss: 0.2491 - accuracy: 0.9047 - val_loss: 0.2353 - val_accuracy: 0.9106\n",
      "Epoch 3/20\n",
      "5077/5077 [==============================] - 62s 12ms/step - loss: 0.2134 - accuracy: 0.9177 - val_loss: 0.2126 - val_accuracy: 0.9180\n",
      "Epoch 4/20\n",
      "5077/5077 [==============================] - 65s 13ms/step - loss: 0.1931 - accuracy: 0.9266 - val_loss: 0.1969 - val_accuracy: 0.9245\n",
      "Epoch 5/20\n",
      "5077/5077 [==============================] - 66s 13ms/step - loss: 0.1772 - accuracy: 0.9324 - val_loss: 0.1952 - val_accuracy: 0.9267\n",
      "Epoch 6/20\n",
      "5077/5077 [==============================] - 63s 12ms/step - loss: 0.1626 - accuracy: 0.9385 - val_loss: 0.1965 - val_accuracy: 0.9262\n",
      "Epoch 7/20\n",
      "5077/5077 [==============================] - 61s 12ms/step - loss: 0.1492 - accuracy: 0.9437 - val_loss: 0.1975 - val_accuracy: 0.9262\n",
      "Epoch 8/20\n",
      "5077/5077 [==============================] - 62s 12ms/step - loss: 0.1357 - accuracy: 0.9493 - val_loss: 0.1997 - val_accuracy: 0.9261\n",
      "Epoch 9/20\n",
      "5077/5077 [==============================] - 64s 13ms/step - loss: 0.1234 - accuracy: 0.9537 - val_loss: 0.2161 - val_accuracy: 0.9220\n",
      "Epoch 10/20\n",
      "5077/5077 [==============================] - 64s 13ms/step - loss: 0.1109 - accuracy: 0.9592 - val_loss: 0.2326 - val_accuracy: 0.9200\n",
      "Epoch 11/20\n",
      "5077/5077 [==============================] - 65s 13ms/step - loss: 0.1007 - accuracy: 0.9631 - val_loss: 0.2392 - val_accuracy: 0.9217\n",
      "Epoch 12/20\n",
      "5077/5077 [==============================] - 65s 13ms/step - loss: 0.0908 - accuracy: 0.9675 - val_loss: 0.2383 - val_accuracy: 0.9232\n",
      "Epoch 13/20\n",
      "5077/5077 [==============================] - 65s 13ms/step - loss: 0.0826 - accuracy: 0.9705 - val_loss: 0.2570 - val_accuracy: 0.9208\n",
      "Epoch 14/20\n",
      "5077/5077 [==============================] - 66s 13ms/step - loss: 0.0753 - accuracy: 0.9735 - val_loss: 0.2653 - val_accuracy: 0.9192\n",
      "Epoch 15/20\n",
      "5077/5077 [==============================] - 65s 13ms/step - loss: 0.0689 - accuracy: 0.9759 - val_loss: 0.2837 - val_accuracy: 0.9194\n",
      "Epoch 16/20\n",
      "5077/5077 [==============================] - 68s 13ms/step - loss: 0.0603 - accuracy: 0.9792 - val_loss: 0.2981 - val_accuracy: 0.9159\n",
      "Epoch 17/20\n",
      "5077/5077 [==============================] - 66s 13ms/step - loss: 0.0595 - accuracy: 0.9796 - val_loss: 0.2921 - val_accuracy: 0.9146\n",
      "Epoch 18/20\n",
      "5077/5077 [==============================] - 62s 12ms/step - loss: 0.0562 - accuracy: 0.9806 - val_loss: 0.3103 - val_accuracy: 0.9159\n",
      "Epoch 19/20\n",
      "5077/5077 [==============================] - 61s 12ms/step - loss: 0.0533 - accuracy: 0.9815 - val_loss: 0.3270 - val_accuracy: 0.9150\n",
      "Epoch 20/20\n",
      "5077/5077 [==============================] - 62s 12ms/step - loss: 0.0481 - accuracy: 0.9839 - val_loss: 0.3214 - val_accuracy: 0.9173\n"
     ]
    },
    {
     "name": "stderr",
     "output_type": "stream",
     "text": [
      "0it [00:00, ?it/s]"
     ]
    },
    {
     "name": "stdout",
     "output_type": "stream",
     "text": [
      "  19/1088 [..............................] - ETA: 6s - loss: 0.2977 - accuracy: 0.9161"
     ]
    },
    {
     "name": "stderr",
     "output_type": "stream",
     "text": [
      "\n"
     ]
    },
    {
     "name": "stdout",
     "output_type": "stream",
     "text": [
      "1088/1088 [==============================] - 7s 6ms/step - loss: 0.3146 - accuracy: 0.9177\n"
     ]
    },
    {
     "data": {
      "text/plain": [
       "[0.31458136439323425, 0.9176649451255798]"
      ]
     },
     "execution_count": 22,
     "metadata": {},
     "output_type": "execute_result"
    }
   ],
   "source": [
    "tqdm(lstm_model_base.fit(x_train, y_train, validation_data=(x_val, y_val),\n",
    "               epochs=20, batch_size=32, verbose=1))\n",
    "\n",
    "#save_model(lstm_model_base,\"/tmp/model1\")\n",
    "\n",
    "lstm_model_base.evaluate(x_test,y_test)"
   ]
  },
  {
   "cell_type": "markdown",
   "metadata": {},
   "source": [
    "## Logistics regression"
   ]
  },
  {
   "cell_type": "code",
   "execution_count": 23,
   "metadata": {},
   "outputs": [
    {
     "ename": "FileNotFoundError",
     "evalue": "[Errno 2] No such file or directory: 'Suicide_Detection(After Embeddings).csv'",
     "output_type": "error",
     "traceback": [
      "\u001b[1;31m---------------------------------------------------------------------------\u001b[0m",
      "\u001b[1;31mFileNotFoundError\u001b[0m                         Traceback (most recent call last)",
      "\u001b[1;32m<ipython-input-23-b9e70579c336>\u001b[0m in \u001b[0;36m<module>\u001b[1;34m\u001b[0m\n\u001b[0;32m      6\u001b[0m \u001b[1;32mfrom\u001b[0m \u001b[0msklearn\u001b[0m\u001b[1;33m.\u001b[0m\u001b[0mmetrics\u001b[0m \u001b[1;32mimport\u001b[0m \u001b[0mclassification_report\u001b[0m\u001b[1;33m\u001b[0m\u001b[1;33m\u001b[0m\u001b[0m\n\u001b[0;32m      7\u001b[0m \u001b[0mfile_path\u001b[0m \u001b[1;33m=\u001b[0m \u001b[1;34m'Suicide_Detection(After Embeddings).csv'\u001b[0m\u001b[1;33m\u001b[0m\u001b[1;33m\u001b[0m\u001b[0m\n\u001b[1;32m----> 8\u001b[1;33m \u001b[0mdf\u001b[0m \u001b[1;33m=\u001b[0m \u001b[0mpd\u001b[0m\u001b[1;33m.\u001b[0m\u001b[0mread_csv\u001b[0m\u001b[1;33m(\u001b[0m\u001b[0mfile_path\u001b[0m\u001b[1;33m)\u001b[0m\u001b[1;33m\u001b[0m\u001b[1;33m\u001b[0m\u001b[0m\n\u001b[0m",
      "\u001b[1;32m~\\anaconda3\\envs\\gpuEnv\\lib\\site-packages\\pandas\\util\\_decorators.py\u001b[0m in \u001b[0;36mwrapper\u001b[1;34m(*args, **kwargs)\u001b[0m\n\u001b[0;32m    309\u001b[0m                     \u001b[0mstacklevel\u001b[0m\u001b[1;33m=\u001b[0m\u001b[0mstacklevel\u001b[0m\u001b[1;33m,\u001b[0m\u001b[1;33m\u001b[0m\u001b[1;33m\u001b[0m\u001b[0m\n\u001b[0;32m    310\u001b[0m                 )\n\u001b[1;32m--> 311\u001b[1;33m             \u001b[1;32mreturn\u001b[0m \u001b[0mfunc\u001b[0m\u001b[1;33m(\u001b[0m\u001b[1;33m*\u001b[0m\u001b[0margs\u001b[0m\u001b[1;33m,\u001b[0m \u001b[1;33m**\u001b[0m\u001b[0mkwargs\u001b[0m\u001b[1;33m)\u001b[0m\u001b[1;33m\u001b[0m\u001b[1;33m\u001b[0m\u001b[0m\n\u001b[0m\u001b[0;32m    312\u001b[0m \u001b[1;33m\u001b[0m\u001b[0m\n\u001b[0;32m    313\u001b[0m         \u001b[1;32mreturn\u001b[0m \u001b[0mwrapper\u001b[0m\u001b[1;33m\u001b[0m\u001b[1;33m\u001b[0m\u001b[0m\n",
      "\u001b[1;32m~\\anaconda3\\envs\\gpuEnv\\lib\\site-packages\\pandas\\io\\parsers\\readers.py\u001b[0m in \u001b[0;36mread_csv\u001b[1;34m(filepath_or_buffer, sep, delimiter, header, names, index_col, usecols, squeeze, prefix, mangle_dupe_cols, dtype, engine, converters, true_values, false_values, skipinitialspace, skiprows, skipfooter, nrows, na_values, keep_default_na, na_filter, verbose, skip_blank_lines, parse_dates, infer_datetime_format, keep_date_col, date_parser, dayfirst, cache_dates, iterator, chunksize, compression, thousands, decimal, lineterminator, quotechar, quoting, doublequote, escapechar, comment, encoding, encoding_errors, dialect, error_bad_lines, warn_bad_lines, on_bad_lines, delim_whitespace, low_memory, memory_map, float_precision, storage_options)\u001b[0m\n\u001b[0;32m    584\u001b[0m     \u001b[0mkwds\u001b[0m\u001b[1;33m.\u001b[0m\u001b[0mupdate\u001b[0m\u001b[1;33m(\u001b[0m\u001b[0mkwds_defaults\u001b[0m\u001b[1;33m)\u001b[0m\u001b[1;33m\u001b[0m\u001b[1;33m\u001b[0m\u001b[0m\n\u001b[0;32m    585\u001b[0m \u001b[1;33m\u001b[0m\u001b[0m\n\u001b[1;32m--> 586\u001b[1;33m     \u001b[1;32mreturn\u001b[0m \u001b[0m_read\u001b[0m\u001b[1;33m(\u001b[0m\u001b[0mfilepath_or_buffer\u001b[0m\u001b[1;33m,\u001b[0m \u001b[0mkwds\u001b[0m\u001b[1;33m)\u001b[0m\u001b[1;33m\u001b[0m\u001b[1;33m\u001b[0m\u001b[0m\n\u001b[0m\u001b[0;32m    587\u001b[0m \u001b[1;33m\u001b[0m\u001b[0m\n\u001b[0;32m    588\u001b[0m \u001b[1;33m\u001b[0m\u001b[0m\n",
      "\u001b[1;32m~\\anaconda3\\envs\\gpuEnv\\lib\\site-packages\\pandas\\io\\parsers\\readers.py\u001b[0m in \u001b[0;36m_read\u001b[1;34m(filepath_or_buffer, kwds)\u001b[0m\n\u001b[0;32m    480\u001b[0m \u001b[1;33m\u001b[0m\u001b[0m\n\u001b[0;32m    481\u001b[0m     \u001b[1;31m# Create the parser.\u001b[0m\u001b[1;33m\u001b[0m\u001b[1;33m\u001b[0m\u001b[1;33m\u001b[0m\u001b[0m\n\u001b[1;32m--> 482\u001b[1;33m     \u001b[0mparser\u001b[0m \u001b[1;33m=\u001b[0m \u001b[0mTextFileReader\u001b[0m\u001b[1;33m(\u001b[0m\u001b[0mfilepath_or_buffer\u001b[0m\u001b[1;33m,\u001b[0m \u001b[1;33m**\u001b[0m\u001b[0mkwds\u001b[0m\u001b[1;33m)\u001b[0m\u001b[1;33m\u001b[0m\u001b[1;33m\u001b[0m\u001b[0m\n\u001b[0m\u001b[0;32m    483\u001b[0m \u001b[1;33m\u001b[0m\u001b[0m\n\u001b[0;32m    484\u001b[0m     \u001b[1;32mif\u001b[0m \u001b[0mchunksize\u001b[0m \u001b[1;32mor\u001b[0m \u001b[0miterator\u001b[0m\u001b[1;33m:\u001b[0m\u001b[1;33m\u001b[0m\u001b[1;33m\u001b[0m\u001b[0m\n",
      "\u001b[1;32m~\\anaconda3\\envs\\gpuEnv\\lib\\site-packages\\pandas\\io\\parsers\\readers.py\u001b[0m in \u001b[0;36m__init__\u001b[1;34m(self, f, engine, **kwds)\u001b[0m\n\u001b[0;32m    809\u001b[0m             \u001b[0mself\u001b[0m\u001b[1;33m.\u001b[0m\u001b[0moptions\u001b[0m\u001b[1;33m[\u001b[0m\u001b[1;34m\"has_index_names\"\u001b[0m\u001b[1;33m]\u001b[0m \u001b[1;33m=\u001b[0m \u001b[0mkwds\u001b[0m\u001b[1;33m[\u001b[0m\u001b[1;34m\"has_index_names\"\u001b[0m\u001b[1;33m]\u001b[0m\u001b[1;33m\u001b[0m\u001b[1;33m\u001b[0m\u001b[0m\n\u001b[0;32m    810\u001b[0m \u001b[1;33m\u001b[0m\u001b[0m\n\u001b[1;32m--> 811\u001b[1;33m         \u001b[0mself\u001b[0m\u001b[1;33m.\u001b[0m\u001b[0m_engine\u001b[0m \u001b[1;33m=\u001b[0m \u001b[0mself\u001b[0m\u001b[1;33m.\u001b[0m\u001b[0m_make_engine\u001b[0m\u001b[1;33m(\u001b[0m\u001b[0mself\u001b[0m\u001b[1;33m.\u001b[0m\u001b[0mengine\u001b[0m\u001b[1;33m)\u001b[0m\u001b[1;33m\u001b[0m\u001b[1;33m\u001b[0m\u001b[0m\n\u001b[0m\u001b[0;32m    812\u001b[0m \u001b[1;33m\u001b[0m\u001b[0m\n\u001b[0;32m    813\u001b[0m     \u001b[1;32mdef\u001b[0m \u001b[0mclose\u001b[0m\u001b[1;33m(\u001b[0m\u001b[0mself\u001b[0m\u001b[1;33m)\u001b[0m\u001b[1;33m:\u001b[0m\u001b[1;33m\u001b[0m\u001b[1;33m\u001b[0m\u001b[0m\n",
      "\u001b[1;32m~\\anaconda3\\envs\\gpuEnv\\lib\\site-packages\\pandas\\io\\parsers\\readers.py\u001b[0m in \u001b[0;36m_make_engine\u001b[1;34m(self, engine)\u001b[0m\n\u001b[0;32m   1038\u001b[0m             )\n\u001b[0;32m   1039\u001b[0m         \u001b[1;31m# error: Too many arguments for \"ParserBase\"\u001b[0m\u001b[1;33m\u001b[0m\u001b[1;33m\u001b[0m\u001b[1;33m\u001b[0m\u001b[0m\n\u001b[1;32m-> 1040\u001b[1;33m         \u001b[1;32mreturn\u001b[0m \u001b[0mmapping\u001b[0m\u001b[1;33m[\u001b[0m\u001b[0mengine\u001b[0m\u001b[1;33m]\u001b[0m\u001b[1;33m(\u001b[0m\u001b[0mself\u001b[0m\u001b[1;33m.\u001b[0m\u001b[0mf\u001b[0m\u001b[1;33m,\u001b[0m \u001b[1;33m**\u001b[0m\u001b[0mself\u001b[0m\u001b[1;33m.\u001b[0m\u001b[0moptions\u001b[0m\u001b[1;33m)\u001b[0m  \u001b[1;31m# type: ignore[call-arg]\u001b[0m\u001b[1;33m\u001b[0m\u001b[1;33m\u001b[0m\u001b[0m\n\u001b[0m\u001b[0;32m   1041\u001b[0m \u001b[1;33m\u001b[0m\u001b[0m\n\u001b[0;32m   1042\u001b[0m     \u001b[1;32mdef\u001b[0m \u001b[0m_failover_to_python\u001b[0m\u001b[1;33m(\u001b[0m\u001b[0mself\u001b[0m\u001b[1;33m)\u001b[0m\u001b[1;33m:\u001b[0m\u001b[1;33m\u001b[0m\u001b[1;33m\u001b[0m\u001b[0m\n",
      "\u001b[1;32m~\\anaconda3\\envs\\gpuEnv\\lib\\site-packages\\pandas\\io\\parsers\\c_parser_wrapper.py\u001b[0m in \u001b[0;36m__init__\u001b[1;34m(self, src, **kwds)\u001b[0m\n\u001b[0;32m     49\u001b[0m \u001b[1;33m\u001b[0m\u001b[0m\n\u001b[0;32m     50\u001b[0m         \u001b[1;31m# open handles\u001b[0m\u001b[1;33m\u001b[0m\u001b[1;33m\u001b[0m\u001b[1;33m\u001b[0m\u001b[0m\n\u001b[1;32m---> 51\u001b[1;33m         \u001b[0mself\u001b[0m\u001b[1;33m.\u001b[0m\u001b[0m_open_handles\u001b[0m\u001b[1;33m(\u001b[0m\u001b[0msrc\u001b[0m\u001b[1;33m,\u001b[0m \u001b[0mkwds\u001b[0m\u001b[1;33m)\u001b[0m\u001b[1;33m\u001b[0m\u001b[1;33m\u001b[0m\u001b[0m\n\u001b[0m\u001b[0;32m     52\u001b[0m         \u001b[1;32massert\u001b[0m \u001b[0mself\u001b[0m\u001b[1;33m.\u001b[0m\u001b[0mhandles\u001b[0m \u001b[1;32mis\u001b[0m \u001b[1;32mnot\u001b[0m \u001b[1;32mNone\u001b[0m\u001b[1;33m\u001b[0m\u001b[1;33m\u001b[0m\u001b[0m\n\u001b[0;32m     53\u001b[0m \u001b[1;33m\u001b[0m\u001b[0m\n",
      "\u001b[1;32m~\\anaconda3\\envs\\gpuEnv\\lib\\site-packages\\pandas\\io\\parsers\\base_parser.py\u001b[0m in \u001b[0;36m_open_handles\u001b[1;34m(self, src, kwds)\u001b[0m\n\u001b[0;32m    227\u001b[0m             \u001b[0mmemory_map\u001b[0m\u001b[1;33m=\u001b[0m\u001b[0mkwds\u001b[0m\u001b[1;33m.\u001b[0m\u001b[0mget\u001b[0m\u001b[1;33m(\u001b[0m\u001b[1;34m\"memory_map\"\u001b[0m\u001b[1;33m,\u001b[0m \u001b[1;32mFalse\u001b[0m\u001b[1;33m)\u001b[0m\u001b[1;33m,\u001b[0m\u001b[1;33m\u001b[0m\u001b[1;33m\u001b[0m\u001b[0m\n\u001b[0;32m    228\u001b[0m             \u001b[0mstorage_options\u001b[0m\u001b[1;33m=\u001b[0m\u001b[0mkwds\u001b[0m\u001b[1;33m.\u001b[0m\u001b[0mget\u001b[0m\u001b[1;33m(\u001b[0m\u001b[1;34m\"storage_options\"\u001b[0m\u001b[1;33m,\u001b[0m \u001b[1;32mNone\u001b[0m\u001b[1;33m)\u001b[0m\u001b[1;33m,\u001b[0m\u001b[1;33m\u001b[0m\u001b[1;33m\u001b[0m\u001b[0m\n\u001b[1;32m--> 229\u001b[1;33m             \u001b[0merrors\u001b[0m\u001b[1;33m=\u001b[0m\u001b[0mkwds\u001b[0m\u001b[1;33m.\u001b[0m\u001b[0mget\u001b[0m\u001b[1;33m(\u001b[0m\u001b[1;34m\"encoding_errors\"\u001b[0m\u001b[1;33m,\u001b[0m \u001b[1;34m\"strict\"\u001b[0m\u001b[1;33m)\u001b[0m\u001b[1;33m,\u001b[0m\u001b[1;33m\u001b[0m\u001b[1;33m\u001b[0m\u001b[0m\n\u001b[0m\u001b[0;32m    230\u001b[0m         )\n\u001b[0;32m    231\u001b[0m \u001b[1;33m\u001b[0m\u001b[0m\n",
      "\u001b[1;32m~\\anaconda3\\envs\\gpuEnv\\lib\\site-packages\\pandas\\io\\common.py\u001b[0m in \u001b[0;36mget_handle\u001b[1;34m(path_or_buf, mode, encoding, compression, memory_map, is_text, errors, storage_options)\u001b[0m\n\u001b[0;32m    705\u001b[0m                 \u001b[0mencoding\u001b[0m\u001b[1;33m=\u001b[0m\u001b[0mioargs\u001b[0m\u001b[1;33m.\u001b[0m\u001b[0mencoding\u001b[0m\u001b[1;33m,\u001b[0m\u001b[1;33m\u001b[0m\u001b[1;33m\u001b[0m\u001b[0m\n\u001b[0;32m    706\u001b[0m                 \u001b[0merrors\u001b[0m\u001b[1;33m=\u001b[0m\u001b[0merrors\u001b[0m\u001b[1;33m,\u001b[0m\u001b[1;33m\u001b[0m\u001b[1;33m\u001b[0m\u001b[0m\n\u001b[1;32m--> 707\u001b[1;33m                 \u001b[0mnewline\u001b[0m\u001b[1;33m=\u001b[0m\u001b[1;34m\"\"\u001b[0m\u001b[1;33m,\u001b[0m\u001b[1;33m\u001b[0m\u001b[1;33m\u001b[0m\u001b[0m\n\u001b[0m\u001b[0;32m    708\u001b[0m             )\n\u001b[0;32m    709\u001b[0m         \u001b[1;32melse\u001b[0m\u001b[1;33m:\u001b[0m\u001b[1;33m\u001b[0m\u001b[1;33m\u001b[0m\u001b[0m\n",
      "\u001b[1;31mFileNotFoundError\u001b[0m: [Errno 2] No such file or directory: 'Suicide_Detection(After Embeddings).csv'"
     ]
    }
   ],
   "source": [
    "import pandas as pd\n",
    "import numpy as np\n",
    "from sklearn.model_selection import train_test_split\n",
    "from sklearn.preprocessing import LabelEncoder\n",
    "from sklearn.linear_model import LogisticRegression\n",
    "from sklearn.metrics import classification_report\n",
    "file_path = 'Suicide_Detection(After Embeddings).csv'\n",
    "df = pd.read_csv(file_path)\n"
   ]
  },
  {
   "cell_type": "markdown",
   "metadata": {},
   "source": [
    "### Embedding and splitting of data"
   ]
  },
  {
   "cell_type": "code",
   "execution_count": null,
   "metadata": {},
   "outputs": [],
   "source": [
    "def parse_embedding(embedding_str):\n",
    "    return np.array([float(x) for x in embedding_str.strip('[]').split(',')])\n",
    "\n",
    "df['embeddings'] = df['embeddings'].apply(parse_embedding)\n",
    "\n",
    "label_encoder = LabelEncoder()\n",
    "df['class'] = label_encoder.fit_transform(df['class'])\n",
    "\n",
    "train_embeddings, temp_embeddings, train_labels, temp_labels = train_test_split(\n",
    "    np.stack(df['embeddings'].values), df['class'], test_size=0.3, random_state=88)\n",
    "\n",
    "val_embeddings, test_embeddings, val_labels, test_labels = train_test_split(\n",
    "    temp_embeddings, temp_labels, test_size=0.5, random_state=88)\n"
   ]
  },
  {
   "cell_type": "markdown",
   "metadata": {},
   "source": [
    "### Model"
   ]
  },
  {
   "cell_type": "code",
   "execution_count": 4,
   "metadata": {},
   "outputs": [
    {
     "name": "stdout",
     "output_type": "stream",
     "text": [
      "Test Set Classification Report:\n",
      "              precision    recall  f1-score   support\n",
      "\n",
      "           0       0.92      0.91      0.91     17363\n",
      "           1       0.91      0.92      0.91     17446\n",
      "\n",
      "    accuracy                           0.91     34809\n",
      "   macro avg       0.91      0.91      0.91     34809\n",
      "weighted avg       0.91      0.91      0.91     34809\n",
      "\n"
     ]
    }
   ],
   "source": [
    "clf = LogisticRegression(max_iter=1000)\n",
    "clf.fit(train_embeddings, train_labels)\n",
    "\n",
    "test_predictions = clf.predict(test_embeddings)\n",
    "\n",
    "print(\"Test Set Classification Report:\")\n",
    "print(classification_report(test_labels, test_predictions))\n"
   ]
  },
  {
   "cell_type": "markdown",
   "metadata": {},
   "source": [
    "### Sample prediction"
   ]
  },
  {
   "cell_type": "code",
   "execution_count": 5,
   "metadata": {},
   "outputs": [
    {
     "name": "stdout",
     "output_type": "stream",
     "text": [
      "Sample Prediction for test data point at index 0: suicide\n"
     ]
    }
   ],
   "source": [
    "sample_index = 0 \n",
    "sample_embedding = test_embeddings[sample_index].reshape(1, -1)\n",
    "sample_prediction = clf.predict(sample_embedding)\n",
    "\n",
    "print(f\"Sample Prediction for test data point at index {sample_index}: {label_encoder.inverse_transform(sample_prediction)[0]}\")"
   ]
  },
  {
   "cell_type": "markdown",
   "metadata": {},
   "source": [
    "## Gradient Boosting Machine"
   ]
  },
  {
   "cell_type": "code",
   "execution_count": 15,
   "metadata": {},
   "outputs": [],
   "source": [
    "import numpy as np \n",
    "import pandas as pd \n",
    "import seaborn as sns\n",
    "import matplotlib.pyplot as plt\n",
    "from sklearn.preprocessing import LabelEncoder\n",
    "from sklearn.model_selection import train_test_split\n",
    "from sklearn.ensemble import GradientBoostingClassifier\n",
    "from sklearn.metrics import accuracy_score, classification_report\n",
    "from sklearn.model_selection import train_test_split\n",
    "from sklearn.feature_extraction.text import TfidfVectorizer\n",
    "#from sklearn.feature_extraction.text import CountVectorizer\n",
    "from sklearn.metrics import ConfusionMatrixDisplay\n",
    "from sklearn.metrics import confusion_matrix"
   ]
  },
  {
   "cell_type": "markdown",
   "metadata": {},
   "source": [
    "### Label Encoder"
   ]
  },
  {
   "cell_type": "code",
   "execution_count": 17,
   "metadata": {},
   "outputs": [
    {
     "name": "stdout",
     "output_type": "stream",
     "text": [
      "[1 0 0 ... 0 1 0]\n",
      "No. of Records:  232056\n"
     ]
    }
   ],
   "source": [
    "df = pd.read_csv(\"Suicide_Detection.csv\")\n",
    "\n",
    "# Encode sentiment labels\n",
    "from sklearn.preprocessing import LabelEncoder\n",
    "labels = df[\"class\"].values\n",
    "encoder = LabelEncoder()\n",
    "encoded_labels = encoder.fit_transform(labels)\n",
    "\n",
    "print(encoded_labels)\n",
    "print(\"No. of Records: \", len(encoded_labels))"
   ]
  },
  {
   "cell_type": "markdown",
   "metadata": {},
   "source": [
    "### Split Data"
   ]
  },
  {
   "cell_type": "code",
   "execution_count": 20,
   "metadata": {},
   "outputs": [
    {
     "name": "stdout",
     "output_type": "stream",
     "text": [
      "x_train shape:  (162439,)\n",
      "x_remain shape:  (69617,)\n",
      "y_train shape:  (162439,)\n",
      "y_remain shape:  (69617,)\n"
     ]
    }
   ],
   "source": [
    "# Split into train, remain, with stratify to maintain class proportion for each set\n",
    "x_train, x_remain, y_train, y_remain = train_test_split(df[\"text\"], encoded_labels, stratify = encoded_labels, \n",
    "                                                    train_size=0.7, random_state=88)\n",
    "\n",
    "# Print the shapes of the splits\n",
    "print(\"x_train shape: \", x_train.shape)\n",
    "print(\"x_remain shape: \", x_remain.shape)\n",
    "print(\"y_train shape: \", y_train.shape)\n",
    "print(\"y_remain shape: \", y_remain.shape)"
   ]
  },
  {
   "cell_type": "code",
   "execution_count": 22,
   "metadata": {},
   "outputs": [
    {
     "name": "stdout",
     "output_type": "stream",
     "text": [
      "x_val shape:  (34808,)\n",
      "x_test shape:  (34809,)\n",
      "y_val shape:  (34808,)\n",
      "y_test shape:  (34809,)\n"
     ]
    }
   ],
   "source": [
    "# Split into val, test\n",
    "x_val, x_test, y_val, y_test = train_test_split(x_remain, y_remain, stratify = y_remain, \n",
    "                                                    train_size=0.5, random_state=88)\n",
    "print(\"x_val shape: \", x_val.shape)\n",
    "print(\"x_test shape: \", x_test.shape)\n",
    "print(\"y_val shape: \", y_val.shape)\n",
    "print(\"y_test shape: \", y_test.shape)"
   ]
  },
  {
   "cell_type": "markdown",
   "metadata": {},
   "source": [
    "### Data Vectorization"
   ]
  },
  {
   "cell_type": "code",
   "execution_count": 25,
   "metadata": {},
   "outputs": [],
   "source": [
    "# Create matrix based on word frequency\n",
    "vectorizer = TfidfVectorizer(max_features=5000)\n",
    "x_train_transformed = vectorizer.fit_transform(x_train)\n",
    "x_val_transformed = vectorizer.transform(x_val)\n",
    "x_test_transformed = vectorizer.transform(x_test)"
   ]
  },
  {
   "cell_type": "code",
   "execution_count": 26,
   "metadata": {},
   "outputs": [
    {
     "name": "stdout",
     "output_type": "stream",
     "text": [
      "x train transformed shape:  (162439, 5000)\n",
      "x val transformed shape:  (34808, 5000)\n",
      "x test transformed shape:  (34809, 5000)\n"
     ]
    }
   ],
   "source": [
    "print(\"x train transformed shape: \", x_train_transformed.toarray().shape)\n",
    "print(\"x val transformed shape: \", x_val_transformed.toarray().shape)\n",
    "print(\"x test transformed shape: \", x_test_transformed.toarray().shape)"
   ]
  },
  {
   "cell_type": "code",
   "execution_count": 27,
   "metadata": {},
   "outputs": [
    {
     "data": {
      "text/plain": [
       "{'need': 2924,\n",
       " 'help': 2097,\n",
       " 'get': 1919,\n",
       " 'depressed': 1211,\n",
       " 'thinking': 4443,\n",
       " 'past': 3202,\n",
       " 'wife': 4881,\n",
       " 'meet': 2755,\n",
       " 'high': 2116,\n",
       " 'school': 3837,\n",
       " 'sophomore': 4108,\n",
       " 'year': 4970,\n",
       " 'great': 1983,\n",
       " 'senior': 3889,\n",
       " 'break': 662,\n",
       " 'because': 509,\n",
       " 'want': 4802,\n",
       " 'hang': 2038,\n",
       " 'friend': 1836,\n",
       " 'felt': 1700,\n",
       " 'like': 2580,\n",
       " 'clingy': 885,\n",
       " 'start': 4185,\n",
       " 'talk': 4355,\n",
       " 'little': 2598,\n",
       " 'but': 723,\n",
       " 'stage': 4175,\n",
       " 'would': 4938,\n",
       " 'go': 1942,\n",
       " 'guy': 2014,\n",
       " 'make': 2679,\n",
       " 'jealous': 2422,\n",
       " 'told': 4500,\n",
       " 'later': 2511,\n",
       " 'back': 447,\n",
       " 'together': 4496,\n",
       " 'could': 1050,\n",
       " 'commit': 941,\n",
       " 'relationship': 3635,\n",
       " 'fast': 1673,\n",
       " 'forward': 1807,\n",
       " 'seven': 3906,\n",
       " 'present': 3402,\n",
       " 'marry': 2708,\n",
       " 'old': 3071,\n",
       " 'time': 4479,\n",
       " 'tell': 4387,\n",
       " 'indeed': 2290,\n",
       " 'sleep': 4029,\n",
       " 'mine': 2802,\n",
       " 'shock': 3949,\n",
       " 'ca': 732,\n",
       " 'nt': 3007,\n",
       " 'stop': 4216,\n",
       " 'picture': 3276,\n",
       " 'mind': 2800,\n",
       " 'image': 2249,\n",
       " 'two': 4606,\n",
       " 'sex': 3910,\n",
       " 'since': 3996,\n",
       " 'date': 1149,\n",
       " 'young': 4984,\n",
       " 'never': 2946,\n",
       " 'really': 3584,\n",
       " 'anyone': 318,\n",
       " 'else': 1465,\n",
       " 'except': 1584,\n",
       " 'embarrass': 1469,\n",
       " 'say': 3820,\n",
       " 'come': 934,\n",
       " 'something': 4095,\n",
       " 'special': 4132,\n",
       " 'everyday': 1563,\n",
       " 'do': 1328,\n",
       " 'position': 3354,\n",
       " 'stuff': 4251,\n",
       " 'mean': 2732,\n",
       " 'anything': 319,\n",
       " 'try': 4579,\n",
       " 'bad': 456,\n",
       " 'thats': 4425,\n",
       " 'know': 2488,\n",
       " 'wrong': 4950,\n",
       " 'broken': 683,\n",
       " 'see': 3867,\n",
       " 'work': 4920,\n",
       " 'imagine': 2252,\n",
       " 'insane': 2323,\n",
       " 'much': 2872,\n",
       " 'hat': 2060,\n",
       " 'hard': 2050,\n",
       " 'feel': 1695,\n",
       " 'depress': 1209,\n",
       " 'doctor': 1330,\n",
       " 'still': 4209,\n",
       " 'actually': 182,\n",
       " 'contemplate': 1013,\n",
       " 'suicide': 4285,\n",
       " 'dead': 1155,\n",
       " 'if': 2234,\n",
       " 'circumstance': 859,\n",
       " 've': 4741,\n",
       " 'fuck': 1854,\n",
       " 'lot': 2637,\n",
       " 'thing': 4441,\n",
       " 'long': 2623,\n",
       " 'period': 3245,\n",
       " 'recently': 3595,\n",
       " 'smoke': 4056,\n",
       " 'weed': 4834,\n",
       " 'ruin': 3776,\n",
       " 'last': 2508,\n",
       " 'good': 1951,\n",
       " 'december': 1170,\n",
       " 'live': 2599,\n",
       " 'house': 2183,\n",
       " 'roller': 3750,\n",
       " 'coaster': 908,\n",
       " 'sometimes': 4097,\n",
       " 'cold': 922,\n",
       " 'one': 3076,\n",
       " 'another': 305,\n",
       " 'interact': 2359,\n",
       " 'always': 273,\n",
       " 'accepted': 154,\n",
       " 'someone': 4094,\n",
       " 'reality': 3581,\n",
       " 'face': 1637,\n",
       " 'everything': 1566,\n",
       " 'unhappy': 4661,\n",
       " 'current': 1121,\n",
       " 'place': 3297,\n",
       " 'life': 2570,\n",
       " 'right': 3728,\n",
       " 'city': 861,\n",
       " 'ex': 1575,\n",
       " 'no': 2967,\n",
       " 'direction': 1274,\n",
       " 'look': 2626,\n",
       " 'towards': 4523,\n",
       " 'keep': 2456,\n",
       " 'move': 2865,\n",
       " 'real': 3577,\n",
       " 'march': 2700,\n",
       " 'problem': 3432,\n",
       " 'feeling': 1696,\n",
       " 'pretty': 3408,\n",
       " 'yesterday': 4976,\n",
       " 'buy': 728,\n",
       " 'gun': 2012,\n",
       " 'process': 3435,\n",
       " 'cheer': 818,\n",
       " 'bit': 573,\n",
       " 'matter': 2723,\n",
       " 'boil': 613,\n",
       " 'gf': 1920,\n",
       " 'send': 3888,\n",
       " 'meme': 2762,\n",
       " 'way': 4821,\n",
       " 'figure': 1721,\n",
       " 'print': 3421,\n",
       " 'mail': 2673,\n",
       " 'best': 546,\n",
       " 'deserve': 1219,\n",
       " 'allow': 259,\n",
       " 'password': 3201,\n",
       " 'issue': 2405,\n",
       " 'll': 2603,\n",
       " 'ask': 379,\n",
       " 'bunch': 712,\n",
       " 'teen': 4383,\n",
       " 'basically': 482,\n",
       " 'phone': 3266,\n",
       " 'stuck': 4247,\n",
       " 'boot': 625,\n",
       " 'screen': 3847,\n",
       " 'power': 3374,\n",
       " 'happen': 2041,\n",
       " 'yes': 4975,\n",
       " 'quite': 3526,\n",
       " 'often': 3062,\n",
       " 'tried': 4565,\n",
       " 'log': 2614,\n",
       " 'point': 3331,\n",
       " 'decide': 1172,\n",
       " 'check': 816,\n",
       " 'sure': 4307,\n",
       " 'correct': 1043,\n",
       " 'change': 802,\n",
       " 'somehow': 4093,\n",
       " 'tf': 4418,\n",
       " 'fix': 1746,\n",
       " 'im': 2247,\n",
       " 'run': 3779,\n",
       " '10': 22,\n",
       " 'btw': 694,\n",
       " 'galaxy': 1881,\n",
       " 'important': 2264,\n",
       " 'consider': 1001,\n",
       " 'idk': 2232,\n",
       " 'hey': 2108,\n",
       " 'wan': 4800,\n",
       " 'na': 2892,\n",
       " 'give': 1931,\n",
       " 'community': 946,\n",
       " 'day': 1151,\n",
       " 'please': 3315,\n",
       " 'small': 4048,\n",
       " 'dumb': 1404,\n",
       " 'dm': 1327,\n",
       " 'comment': 940,\n",
       " 'whatever': 4855,\n",
       " 'tube': 4585,\n",
       " 'channel': 803,\n",
       " 'recommend': 3600,\n",
       " 'subscribe': 4265,\n",
       " 'new': 2948,\n",
       " 'passionate': 3198,\n",
       " 'http': 2189,\n",
       " 'wwwyoutubecomchannelu': 4954,\n",
       " 'also': 266,\n",
       " 'lose': 2632,\n",
       " 'bet': 548,\n",
       " 'gon': 1950,\n",
       " 'account': 162,\n",
       " 'highly': 2117,\n",
       " '16': 39,\n",
       " 'utm_sourceshare': 4717,\n",
       " 'amp': 285,\n",
       " 'utm_mediumios_app': 4715,\n",
       " 'utm_nameiossmf': 4716,\n",
       " 'subreddit': 4263,\n",
       " 'post': 3362,\n",
       " 'people': 3235,\n",
       " 'understand': 4645,\n",
       " 'well': 4845,\n",
       " 'determine': 1239,\n",
       " 'think': 4442,\n",
       " 'not': 2989,\n",
       " 'student': 4248,\n",
       " 'excel': 1582,\n",
       " 'biology': 567,\n",
       " 'chemistry': 822,\n",
       " 'psychology': 3482,\n",
       " 'active': 177,\n",
       " 'turn': 4593,\n",
       " 'complete': 957,\n",
       " 'different': 1261,\n",
       " 'person': 3251,\n",
       " '2nd': 76,\n",
       " 'university': 4669,\n",
       " 'nursing': 3017,\n",
       " 'program': 3445,\n",
       " 'philosophy': 3264,\n",
       " 'month': 2844,\n",
       " 'ride': 3723,\n",
       " 'grade': 1963,\n",
       " 'fail': 1647,\n",
       " 'family': 1661,\n",
       " 'health': 2072,\n",
       " 'physically': 3271,\n",
       " 'mentally': 2767,\n",
       " 'crumble': 1106,\n",
       " 'parent': 3180,\n",
       " 'divorce': 1324,\n",
       " 'fight': 1719,\n",
       " 'financial': 1733,\n",
       " 'struggle': 4245,\n",
       " 'contribute': 1021,\n",
       " 'extra': 1629,\n",
       " 'money': 2838,\n",
       " 'enough': 1509,\n",
       " 'even': 1556,\n",
       " 'job': 2429,\n",
       " 'single': 4000,\n",
       " 'child': 831,\n",
       " 'effort': 1446,\n",
       " 'cry': 1108,\n",
       " 'everytime': 1567,\n",
       " 'hear': 2075,\n",
       " 'physical': 3270,\n",
       " 'mental': 2765,\n",
       " 'deteriorate': 1238,\n",
       " 'quit': 3525,\n",
       " 'gym': 2016,\n",
       " 'double': 1351,\n",
       " 'motivation': 2859,\n",
       " 'capacity': 755,\n",
       " 'reach': 3570,\n",
       " 'limit': 2585,\n",
       " 'result': 3702,\n",
       " 'become': 510,\n",
       " 'take': 4351,\n",
       " 'antidepressant': 309,\n",
       " 'pill': 3281,\n",
       " 'abuse': 142,\n",
       " 'final': 1730,\n",
       " 'exam': 1579,\n",
       " 'tomorrow': 4505,\n",
       " 'focus': 1775,\n",
       " 'study': 4250,\n",
       " 'doesnt': 1332,\n",
       " 'seem': 3871,\n",
       " 'listen': 2594,\n",
       " 'shit': 3944,\n",
       " 'cant': 752,\n",
       " 'blame': 584,\n",
       " 'natural': 2907,\n",
       " 'already': 264,\n",
       " 'independent': 2292,\n",
       " 'hop': 2156,\n",
       " 'truly': 4574,\n",
       " 'story': 4219,\n",
       " 'share': 3927,\n",
       " 'oh': 3064,\n",
       " 'youre': 4986,\n",
       " 'pussy': 3508,\n",
       " 'suffer': 4277,\n",
       " 'die': 1256,\n",
       " 'starvation': 4188,\n",
       " 'country': 1059,\n",
       " 'illness': 2245,\n",
       " 'arrive': 363,\n",
       " 'question': 3520,\n",
       " 'away': 438,\n",
       " 'arent': 354,\n",
       " 'selfish': 3881,\n",
       " 'answer': 306,\n",
       " 'hold': 2133,\n",
       " 'rope': 3759,\n",
       " 'ive': 2412,\n",
       " 'avail': 427,\n",
       " 'exhaust': 1598,\n",
       " 'weak': 4822,\n",
       " 'strong': 4242,\n",
       " 'fall': 1657,\n",
       " 'write': 4947,\n",
       " 'currently': 1122,\n",
       " 'inner': 2319,\n",
       " 'demon': 1202,\n",
       " 'drink': 1380,\n",
       " 'online': 3078,\n",
       " 'end': 1494,\n",
       " 'resist': 3686,\n",
       " 'proceed': 3434,\n",
       " 'swallow': 4329,\n",
       " 'completely': 958,\n",
       " 'dont': 1342,\n",
       " 'fate': 1677,\n",
       " 'believe': 527,\n",
       " 'there': 4432,\n",
       " 'god': 1945,\n",
       " 'plan': 3300,\n",
       " 'control': 1022,\n",
       " 'mom': 2834,\n",
       " 'suicidal': 4284,\n",
       " 'every': 1561,\n",
       " 'conversation': 1025,\n",
       " 'argument': 356,\n",
       " 'leave': 2536,\n",
       " '15': 36,\n",
       " 'deeply': 1184,\n",
       " 'character': 807,\n",
       " 'february': 1690,\n",
       " 'don': 1337,\n",
       " 'scar': 3825,\n",
       " 'somewhere': 4099,\n",
       " 'home': 2138,\n",
       " 'diary': 1252,\n",
       " 'bipolar': 568,\n",
       " 'dh': 1245,\n",
       " 'phase': 3263,\n",
       " 'tonight': 4509,\n",
       " 'journal': 2437,\n",
       " 'thought': 4451,\n",
       " 'aim': 239,\n",
       " 'add': 186,\n",
       " 'frequently': 1830,\n",
       " 'close': 890,\n",
       " 'pas': 3194,\n",
       " 'read': 3573,\n",
       " 'note': 2991,\n",
       " 'almost': 260,\n",
       " 'step': 4202,\n",
       " 'possible': 3360,\n",
       " 'recovery': 3604,\n",
       " 'continue': 1018,\n",
       " 'suggest': 4282,\n",
       " 'easy': 1426,\n",
       " 'nor': 2982,\n",
       " 'reward': 3715,\n",
       " 'promise': 3452,\n",
       " 'absolutely': 138,\n",
       " 'worth': 4933,\n",
       " 'shot': 3956,\n",
       " 'sunday': 4292,\n",
       " '30th': 80,\n",
       " 'june': 2446,\n",
       " '2019': 59,\n",
       " 'ago': 229,\n",
       " 'perhaps': 3244,\n",
       " 'understanding': 4647,\n",
       " 'body': 611,\n",
       " 'existence': 1602,\n",
       " 'save': 3817,\n",
       " 'me': 2730,\n",
       " 'hasn': 2058,\n",
       " 'instead': 2342,\n",
       " 'hope': 2157,\n",
       " 'sorrow': 4110,\n",
       " 'surround': 4316,\n",
       " 'heart': 2078,\n",
       " 'love': 2643,\n",
       " 'world': 4925,\n",
       " 'wind': 4888,\n",
       " 'death': 1164,\n",
       " 'son': 4100,\n",
       " 'partner': 3191,\n",
       " 'father': 1678,\n",
       " 'heavy': 2087,\n",
       " 'burden': 713,\n",
       " 'without': 4905,\n",
       " 'expect': 1607,\n",
       " 'man': 2685,\n",
       " 'relief': 3644,\n",
       " 'nowhere': 3003,\n",
       " 'sight': 3979,\n",
       " 'trap': 4551,\n",
       " 'bus': 719,\n",
       " 'surely': 4308,\n",
       " 'follow': 1779,\n",
       " 'incredible': 2288,\n",
       " 'amount': 284,\n",
       " 'shame': 3924,\n",
       " 'bathroom': 488,\n",
       " 'around': 360,\n",
       " 'next': 2950,\n",
       " 'corner': 1039,\n",
       " 'thousand': 4453,\n",
       " 'nobody': 2968,\n",
       " 'piss': 3288,\n",
       " 'medication': 2746,\n",
       " 'hopefully': 2159,\n",
       " 'bring': 677,\n",
       " 'sit': 4004,\n",
       " 'conscience': 995,\n",
       " 'kill': 2465,\n",
       " 'everybody': 1562,\n",
       " 'funny': 1872,\n",
       " 'spend': 4141,\n",
       " 'severely': 3909,\n",
       " 'let': 2555,\n",
       " 'clear': 876,\n",
       " 'certainly': 795,\n",
       " 'isn': 2400,\n",
       " 'boy': 647,\n",
       " 'whose': 4876,\n",
       " 'future': 1877,\n",
       " 'shape': 3926,\n",
       " 'positively': 3356,\n",
       " 'shower': 3964,\n",
       " 'support': 4301,\n",
       " 'colleague': 924,\n",
       " 'dearly': 1163,\n",
       " 'differently': 1262,\n",
       " 'difficult': 1263,\n",
       " 'simply': 3992,\n",
       " 'unable': 4630,\n",
       " 'full': 1863,\n",
       " 'half': 2025,\n",
       " 'reduce': 3612,\n",
       " '20': 47,\n",
       " 'due': 1401,\n",
       " 'stress': 4232,\n",
       " 'beforehand': 517,\n",
       " '19': 44,\n",
       " 'diagnosis': 1250,\n",
       " 'bleak': 590,\n",
       " 'true': 4573,\n",
       " 'cancer': 749,\n",
       " 'label': 2493,\n",
       " 'coward': 1070,\n",
       " 'afternoon': 221,\n",
       " 'sweet': 4333,\n",
       " 'girl': 1928,\n",
       " 'yo': 4981,\n",
       " 'regret': 3624,\n",
       " 'maybe': 2728,\n",
       " 'situation': 4007,\n",
       " 'emotionally': 1479,\n",
       " 'devastate': 1240,\n",
       " 'reaction': 3572,\n",
       " 'judgement': 2441,\n",
       " 'five': 1745,\n",
       " 'unemployment': 4654,\n",
       " 'four': 1812,\n",
       " 'ever': 1560,\n",
       " 'dad': 1135,\n",
       " 'constant': 1007,\n",
       " 'chronic': 849,\n",
       " 'pain': 3157,\n",
       " 'complication': 961,\n",
       " 'lead': 2525,\n",
       " 'cut': 1128,\n",
       " 'misunderstand': 2818,\n",
       " 'claim': 865,\n",
       " 'owe': 3144,\n",
       " '150': 37,\n",
       " '500': 100,\n",
       " 'daily': 1137,\n",
       " 'bank': 472,\n",
       " 'charge': 808,\n",
       " 'word': 4919,\n",
       " '100': 23,\n",
       " 'uc': 4614,\n",
       " 'ke': 2455,\n",
       " 'today': 4493,\n",
       " 'low': 2648,\n",
       " 'agony': 231,\n",
       " 'three': 4457,\n",
       " 'electricity': 1461,\n",
       " 'cost': 1046,\n",
       " 'nothing': 2994,\n",
       " 'second': 3860,\n",
       " 'fridge': 1835,\n",
       " 'title': 4489,\n",
       " 'eat': 1427,\n",
       " 'meal': 2731,\n",
       " 'instant': 2340,\n",
       " 'noodle': 2978,\n",
       " 'food': 1781,\n",
       " 'number': 3013,\n",
       " 'head': 2068,\n",
       " 'finish': 1738,\n",
       " 'rest': 3696,\n",
       " 'sorry': 4111,\n",
       " 'sister': 4003,\n",
       " 'bitch': 574,\n",
       " 'centre': 792,\n",
       " 'refuse': 3619,\n",
       " 'hung': 2200,\n",
       " 'experience': 1612,\n",
       " 'cruel': 1105,\n",
       " 'despair': 1224,\n",
       " 'anymore': 316,\n",
       " 'tire': 4484,\n",
       " 'burn': 715,\n",
       " 'throw': 4462,\n",
       " 'normal': 2984,\n",
       " 'wont': 4916,\n",
       " 'stupid': 4253,\n",
       " 'decision': 1175,\n",
       " 'okay': 3069,\n",
       " 'dye': 1412,\n",
       " 'tip': 4483,\n",
       " 'hair': 2023,\n",
       " 'dark': 1144,\n",
       " 'brown': 687,\n",
       " 'type': 4609,\n",
       " 'pink': 3286,\n",
       " 'fake': 1656,\n",
       " 'lip': 2590,\n",
       " 'ring': 3729,\n",
       " 'suit': 4287,\n",
       " 'tho': 4449,\n",
       " 'saw': 3819,\n",
       " 'probably': 3430,\n",
       " 'top': 4512,\n",
       " 'laugh': 2513,\n",
       " 'tear': 4376,\n",
       " 'might': 2791,\n",
       " 'happy': 2047,\n",
       " 'epic': 1526,\n",
       " 'selection': 3875,\n",
       " 'part': 3184,\n",
       " 'anyway': 321,\n",
       " 'thanks': 4423,\n",
       " 'reddit': 3607,\n",
       " 'cool': 1033,\n",
       " 'vent': 4746,\n",
       " 'goodbye': 1952,\n",
       " 'el': 1456,\n",
       " 'college': 927,\n",
       " 'may': 2727,\n",
       " 'learn': 2532,\n",
       " 'yall': 4963,\n",
       " 'super': 4296,\n",
       " 'dorm': 1347,\n",
       " 'kitchen': 2476,\n",
       " 'lmao': 2605,\n",
       " 'meat': 2740,\n",
       " 'pre': 3386,\n",
       " 'usually': 4712,\n",
       " 'cheap': 814,\n",
       " 'cause': 780,\n",
       " 'sauce': 3816,\n",
       " 'put': 3509,\n",
       " 'large': 2505,\n",
       " 'bowl': 645,\n",
       " 'vary': 4739,\n",
       " 'per': 3236,\n",
       " 'preference': 3392,\n",
       " 'experiment': 1614,\n",
       " 'hand': 2033,\n",
       " 'mix': 2819,\n",
       " 'cover': 1066,\n",
       " 'least': 2535,\n",
       " 'night': 2960,\n",
       " 'pour': 3371,\n",
       " 'pan': 3168,\n",
       " 'cook': 1030,\n",
       " 'pair': 3164,\n",
       " 'white': 4870,\n",
       " 'rice': 3719,\n",
       " 'boom': 622,\n",
       " 'taste': 4364,\n",
       " 'boyfriend': 648,\n",
       " 'filler': 1725,\n",
       " 'ugly': 4619,\n",
       " 'male': 2682,\n",
       " 'tall': 4357,\n",
       " 'slim': 4039,\n",
       " 'frame': 1817,\n",
       " 'pale': 3166,\n",
       " 'yea': 4968,\n",
       " 'notice': 2996,\n",
       " 'star': 4182,\n",
       " 'iv': 2411,\n",
       " 'treat': 4558,\n",
       " 'poorly': 3348,\n",
       " 'hour': 2182,\n",
       " 'week': 4835,\n",
       " 'football': 1785,\n",
       " 'somebody': 4091,\n",
       " 'use': 4705,\n",
       " 'enjoy': 1506,\n",
       " 'excite': 1588,\n",
       " 'shitty': 3948,\n",
       " 'walk': 4795,\n",
       " 'obvious': 3036,\n",
       " 'stare': 4183,\n",
       " 'stand': 4180,\n",
       " 'blank': 586,\n",
       " 'disgust': 1301,\n",
       " 'ok': 3068,\n",
       " 'ton': 4506,\n",
       " 'makeup': 2680,\n",
       " 'mask': 2711,\n",
       " 'tbh': 4369,\n",
       " 'anxiety': 312,\n",
       " 'free': 1823,\n",
       " 'authority': 420,\n",
       " 'younger': 4985,\n",
       " 'skinny': 4018,\n",
       " 'wake': 4793,\n",
       " 'wear': 4826,\n",
       " 'depression': 1212,\n",
       " 'tired': 4485,\n",
       " 'woman': 4911,\n",
       " 'personally': 3255,\n",
       " 'painful': 3158,\n",
       " 'open': 3083,\n",
       " 'attractive': 414,\n",
       " 'bar': 473,\n",
       " 'confidence': 984,\n",
       " 'gorgeous': 1955,\n",
       " 'crush': 1107,\n",
       " 'application': 340,\n",
       " 'optional': 3096,\n",
       " 'earth': 1421,\n",
       " 'animation': 294,\n",
       " 'soon': 4103,\n",
       " 'hello': 2096,\n",
       " '24': 67,\n",
       " 'diagnose': 1248,\n",
       " 'severe': 3908,\n",
       " 'psychiatric': 3476,\n",
       " 'disorder': 1306,\n",
       " 'psychiatrist': 3477,\n",
       " 'antipsychotic': 310,\n",
       " 'reason': 3586,\n",
       " 'able': 130,\n",
       " 'success': 4270,\n",
       " 'sport': 4158,\n",
       " 'alone': 261,\n",
       " 'room': 3756,\n",
       " 'failure': 1650,\n",
       " 'bear': 501,\n",
       " 'puppy': 3498,\n",
       " 'vacation': 4724,\n",
       " 'adopt': 198,\n",
       " 'didn': 1254,\n",
       " 'flu': 1768,\n",
       " 'faint': 1651,\n",
       " 'mouth': 2864,\n",
       " 'smell': 4052,\n",
       " 'crap': 1079,\n",
       " 'wash': 4812,\n",
       " 'survival': 4318,\n",
       " 'instinct': 2343,\n",
       " 'method': 2780,\n",
       " 'joke': 2435,\n",
       " 'tiktok': 4476,\n",
       " 'men': 2764,\n",
       " 'catch': 776,\n",
       " 'successful': 4271,\n",
       " 'own': 3145,\n",
       " 'car': 757,\n",
       " 'private': 3426,\n",
       " 'asks': 380,\n",
       " 'must': 2884,\n",
       " 'disappoint': 1283,\n",
       " 'genuinely': 1914,\n",
       " 'many': 2698,\n",
       " 'watch': 4818,\n",
       " 'dissociate': 1312,\n",
       " 'bother': 637,\n",
       " 'abusive': 145,\n",
       " 'fine': 1736,\n",
       " '22': 65,\n",
       " 'far': 1668,\n",
       " 'behind': 525,\n",
       " 'wish': 4898,\n",
       " 'prove': 3468,\n",
       " 'humanity': 2195,\n",
       " 'atleast': 402,\n",
       " 'smoking': 4057,\n",
       " 'age': 226,\n",
       " 'desperate': 1225,\n",
       " 'nightmare': 2961,\n",
       " 'addiction': 189,\n",
       " 'le': 2524,\n",
       " 'advice': 207,\n",
       " 'tag': 4349,\n",
       " 'willing': 4884,\n",
       " '17': 40,\n",
       " 'speak': 4129,\n",
       " 'hmu': 2129,\n",
       " 'tech': 4378,\n",
       " 'science': 3839,\n",
       " 'bt': 693,\n",
       " 'discord': 1293,\n",
       " 'april': 350,\n",
       " '5th': 103,\n",
       " 'guess': 2005,\n",
       " 'official': 3059,\n",
       " 'fault': 1681,\n",
       " 'cherish': 823,\n",
       " 'countless': 1058,\n",
       " 'recent': 3594,\n",
       " '32': 82,\n",
       " 'bullet': 705,\n",
       " 'gift': 1926,\n",
       " 'self': 3876,\n",
       " 'rap': 3551,\n",
       " 'privacy': 3425,\n",
       " 'yet': 4977,\n",
       " 'find': 1735,\n",
       " 'repeat': 3663,\n",
       " 'annoy': 299,\n",
       " 'euthanasia': 1552,\n",
       " 'judge': 2440,\n",
       " 'silent': 3985,\n",
       " 'treatment': 4559,\n",
       " 'petty': 3261,\n",
       " 'immature': 2254,\n",
       " 'girlfriend': 1929,\n",
       " 'trust': 4576,\n",
       " 'hurt': 2205,\n",
       " 'apologize': 330,\n",
       " 'chance': 801,\n",
       " 'apology': 331,\n",
       " 're': 3569,\n",
       " 'cheat': 815,\n",
       " 'chat': 813,\n",
       " 'mistake': 2817,\n",
       " 'recognize': 3599,\n",
       " 'wo': 4908,\n",
       " 'serious': 3898,\n",
       " 'rn': 3738,\n",
       " 'clearly': 877,\n",
       " 'lately': 2510,\n",
       " 'everyone': 1564,\n",
       " 'apparently': 334,\n",
       " 'perfect': 3240,\n",
       " 'simple': 3991,\n",
       " 'call': 739,\n",
       " 'ft': 1852,\n",
       " 'text': 4413,\n",
       " 'ot': 3108,\n",
       " 'hi': 2110,\n",
       " 'ng': 2951,\n",
       " 'bullshit': 707,\n",
       " 'immediately': 2256,\n",
       " 'respectful': 3691,\n",
       " 'rebuild': 3591,\n",
       " 'sort': 4112,\n",
       " 'monster': 2843,\n",
       " 'lie': 2569,\n",
       " 'ignore': 2238,\n",
       " 'dry': 1397,\n",
       " 'distance': 1313,\n",
       " 'kind': 2468,\n",
       " 'big': 558,\n",
       " 'doubt': 1352,\n",
       " 'forgive': 1793,\n",
       " 'uh': 4620,\n",
       " 'kick': 2461,\n",
       " 'wi': 4877,\n",
       " 'fi': 1710,\n",
       " 'address': 192,\n",
       " 'copy': 1036,\n",
       " 'paste': 3203,\n",
       " 'website': 4830,\n",
       " 'permission': 3248,\n",
       " 'illegal': 2244,\n",
       " 'track': 4533,\n",
       " 'easily': 1424,\n",
       " 'order': 3099,\n",
       " 'site': 4005,\n",
       " 'steal': 4198,\n",
       " 'police': 3336,\n",
       " 'haven': 2065,\n",
       " 'violate': 4768,\n",
       " 'law': 2516,\n",
       " 'jump': 2444,\n",
       " 'bridge': 672,\n",
       " 'lonely': 2621,\n",
       " 'ou': 3111,\n",
       " 'ro': 3739,\n",
       " 'th': 4419,\n",
       " 'er': 1533,\n",
       " 'ea': 1415,\n",
       " 'oo': 3080,\n",
       " 'pe': 3217,\n",
       " 'ik': 2241,\n",
       " 'om': 3073,\n",
       " 'ki': 2460,\n",
       " 'ry': 3785,\n",
       " 'da': 1134,\n",
       " 'nd': 2915,\n",
       " 'ay': 443,\n",
       " 'id': 2221,\n",
       " 'en': 1489,\n",
       " 'et': 1545,\n",
       " 'ut': 4713,\n",
       " 'al': 246,\n",
       " 'wa': 4790,\n",
       " 'choose': 842,\n",
       " 'suppose': 4304,\n",
       " 'location': 2611,\n",
       " 'disappear': 1282,\n",
       " 'uncle': 4637,\n",
       " 'accuse': 165,\n",
       " 'pedo': 3224,\n",
       " 'respond': 3692,\n",
       " 'irl': 2389,\n",
       " 'ugh': 4618,\n",
       " 'laziness': 2520,\n",
       " 'approach': 345,\n",
       " 'living': 2602,\n",
       " 'fucked': 1855,\n",
       " 'wouldnt': 4940,\n",
       " 'hesitate': 2107,\n",
       " 'sick': 3974,\n",
       " 'middle': 2788,\n",
       " 'east': 1425,\n",
       " 'wonder': 4913,\n",
       " 'milk': 2797,\n",
       " 'unhealthy': 4662,\n",
       " 'ya': 4961,\n",
       " 'youtuber': 4990,\n",
       " 'therapy': 4431,\n",
       " '2018': 58,\n",
       " 'dump': 1406,\n",
       " 'august': 417,\n",
       " 'chick': 828,\n",
       " 'october': 3046,\n",
       " 'breakup': 666,\n",
       " 'heartbroken': 2082,\n",
       " 'especially': 1539,\n",
       " 'therapist': 4430,\n",
       " 'covid': 1067,\n",
       " 'hospital': 2173,\n",
       " 'monday': 2837,\n",
       " 'spiral': 4148,\n",
       " 'piece': 3277,\n",
       " 'aware': 436,\n",
       " 'stable': 4172,\n",
       " 'skill': 4015,\n",
       " 'hobby': 2131,\n",
       " 'none': 2973,\n",
       " 'noone': 2979,\n",
       " 'hug': 2191,\n",
       " 'comfort': 936,\n",
       " 'happiness': 2046,\n",
       " 'useless': 4708,\n",
       " 'perfectly': 3241,\n",
       " 'thank': 4420,\n",
       " 'hit': 2127,\n",
       " 'truck': 4572,\n",
       " 'drift': 1378,\n",
       " 'ultimately': 4626,\n",
       " 'abandon': 127,\n",
       " 'side': 3977,\n",
       " 'example': 1580,\n",
       " 'win': 4887,\n",
       " 'lottery': 2639,\n",
       " 'tax': 4368,\n",
       " 'pay': 3212,\n",
       " 'worthlessness': 4935,\n",
       " 'detail': 1237,\n",
       " 'punch': 3495,\n",
       " 'monke': 2840,\n",
       " 'cuz': 1131,\n",
       " 'stole': 4212,\n",
       " 'starstruck': 4184,\n",
       " 'smile': 4054,\n",
       " 'weary': 4827,\n",
       " 'sweat': 4331,\n",
       " 'droplet': 1389,\n",
       " 'coke': 921,\n",
       " 'roll': 3749,\n",
       " 'floor': 1764,\n",
       " 'shrug': 3968,\n",
       " 'facepalming': 1639,\n",
       " 'sense': 3891,\n",
       " 'dream': 1375,\n",
       " 'sheer': 3933,\n",
       " 'fucking': 1858,\n",
       " 'entire': 1515,\n",
       " 'trail': 4539,\n",
       " 'slight': 4037,\n",
       " 'shadow': 3918,\n",
       " 'worthless': 4934,\n",
       " 'others': 3109,\n",
       " 'care': 760,\n",
       " 'badly': 457,\n",
       " 'bed': 513,\n",
       " 'minute': 2809,\n",
       " 'entertain': 1513,\n",
       " 'waste': 4815,\n",
       " 'talent': 4353,\n",
       " 'course': 1063,\n",
       " 'happend': 2042,\n",
       " 'morning': 2850,\n",
       " 'short': 3954,\n",
       " '9th': 123,\n",
       " 'hell': 2094,\n",
       " 'press': 3405,\n",
       " 'enter': 1512,\n",
       " '18': 41,\n",
       " 'apartment': 326,\n",
       " 'ignores': 2239,\n",
       " 'sharp': 3928,\n",
       " 'knife': 2484,\n",
       " 'artery': 367,\n",
       " '50': 99,\n",
       " 'opinion': 3088,\n",
       " 'light': 2578,\n",
       " 'tunnel': 4591,\n",
       " 'till': 4478,\n",
       " 'ill': 2243,\n",
       " 'couple': 1061,\n",
       " 'however': 2186,\n",
       " 'hiding': 2115,\n",
       " 'stone': 4214,\n",
       " 'rant': 3550,\n",
       " 'compare': 949,\n",
       " 'rock': 3745,\n",
       " 'decent': 1171,\n",
       " 'miss': 2815,\n",
       " 'generic': 1906,\n",
       " 'nerd': 2937,\n",
       " 'redditor': 3608,\n",
       " 'intimate': 2374,\n",
       " 'encounter': 1491,\n",
       " 'awkward': 442,\n",
       " 'admit': 197,\n",
       " 'worry': 4929,\n",
       " 'randomly': 3547,\n",
       " 'anyways': 322,\n",
       " 'grow': 1998,\n",
       " 'everywhere': 1568,\n",
       " 'awake': 434,\n",
       " 'asleep': 381,\n",
       " 'totally': 4519,\n",
       " 'first': 1741,\n",
       " 'village': 4767,\n",
       " 'deal': 1159,\n",
       " 'zero': 4995,\n",
       " 'lock': 2612,\n",
       " 'foster': 1808,\n",
       " 'literally': 2597,\n",
       " 'discomfort': 1291,\n",
       " 'sound': 4116,\n",
       " 'hy': 2210,\n",
       " 'achieve': 167,\n",
       " 'height': 2091,\n",
       " '21': 63,\n",
       " ...}"
      ]
     },
     "execution_count": 27,
     "metadata": {},
     "output_type": "execute_result"
    }
   ],
   "source": [
    "len(vectorizer.vocabulary_)\n",
    "vectorizer.vocabulary_"
   ]
  },
  {
   "cell_type": "markdown",
   "metadata": {},
   "source": [
    "### Base Model"
   ]
  },
  {
   "cell_type": "code",
   "execution_count": 29,
   "metadata": {},
   "outputs": [
    {
     "name": "stdout",
     "output_type": "stream",
     "text": [
      "Accuracy: 0.8858021144564467\n",
      "Classification Report:\n",
      "              precision    recall  f1-score   support\n",
      "\n",
      "           0       0.86      0.92      0.89     17403\n",
      "           1       0.92      0.85      0.88     17405\n",
      "\n",
      "    accuracy                           0.89     34808\n",
      "   macro avg       0.89      0.89      0.89     34808\n",
      "weighted avg       0.89      0.89      0.89     34808\n",
      "\n"
     ]
    }
   ],
   "source": [
    "gbc = GradientBoostingClassifier()\n",
    "gbc.fit(x_train_transformed, y_train)\n",
    "\n",
    "# Make predictions\n",
    "y_pred_base_model = gbc.predict(x_val_transformed)\n",
    "\n",
    "# Evaluate the model\n",
    "accuracy = accuracy_score(y_val, y_pred_base_model)\n",
    "report = classification_report(y_val, y_pred_base_model)\n",
    "\n",
    "print(f\"Accuracy: {accuracy}\")\n",
    "print(\"Classification Report:\")\n",
    "print(report)"
   ]
  },
  {
   "cell_type": "code",
   "execution_count": 30,
   "metadata": {},
   "outputs": [
    {
     "name": "stdout",
     "output_type": "stream",
     "text": [
      "True Positives: 14803\n",
      "True Negatives: 16030\n",
      "False Positives: 1373\n",
      "False Negatives: 2602\n",
      "True Positive Rate: 0.8505027291008331\n",
      "True Negative Rate: 0.9211055565132449\n"
     ]
    },
    {
     "data": {
      "image/png": "[encoded data removed]",
      "text/plain": [
       "<Figure size 640x480 with 2 Axes>"
      ]
     },
     "metadata": {},
     "output_type": "display_data"
    }
   ],
   "source": [
    "def plot_confusion_matrix(y_true, y_pred, title='Confusion Matrix'):\n",
    "    cm = confusion_matrix(y_true, y_pred)\n",
    "    display = ConfusionMatrixDisplay(confusion_matrix=cm)\n",
    "    display.plot()\n",
    "    \n",
    "    # Calculate TP, TN, FP, FN\n",
    "    TP = cm[1, 1]\n",
    "    TN = cm[0, 0]\n",
    "    FP = cm[0, 1]\n",
    "    FN = cm[1, 0]\n",
    "    TPR = TP / (TP + FN)\n",
    "    TNR = TN / (TN + FP)\n",
    "    return TP, TN, FP, FN, TPR, TNR\n",
    "\n",
    "# Plot confusion matrix for each model\n",
    "TP, TN, FP, FN, TPR, TNR = plot_confusion_matrix(y_val, y_pred_base_model, title='Confusion Matrix')\n",
    "print(\"True Positives:\", TP)\n",
    "print(\"True Negatives:\", TN)\n",
    "print(\"False Positives:\", FP)\n",
    "print(\"False Negatives:\", FN)\n",
    "print(\"True Positive Rate:\", TPR)\n",
    "print(\"True Negative Rate:\", TNR)"
   ]
  },
  {
   "cell_type": "markdown",
   "metadata": {},
   "source": [
    "### Hyperparameter tunning"
   ]
  },
  {
   "cell_type": "code",
   "execution_count": 38,
   "metadata": {},
   "outputs": [
    {
     "name": "stdout",
     "output_type": "stream",
     "text": [
      "Fitting 3 folds for each of 8 candidates, totalling 24 fits\n",
      "Best Parameters: {'learning_rate': 0.1, 'max_depth': 5, 'n_estimators': 100}\n",
      "Best Accuracy: 0.8974948287749942\n",
      "Best Classification Report:\n",
      "              precision    recall  f1-score   support\n",
      "\n",
      "           0       0.88      0.92      0.90     17403\n",
      "           1       0.92      0.87      0.89     17405\n",
      "\n",
      "    accuracy                           0.90     34808\n",
      "   macro avg       0.90      0.90      0.90     34808\n",
      "weighted avg       0.90      0.90      0.90     34808\n",
      "\n"
     ]
    }
   ],
   "source": [
    "from sklearn.ensemble import GradientBoostingClassifier\n",
    "from sklearn.model_selection import GridSearchCV\n",
    "from sklearn.metrics import accuracy_score, classification_report\n",
    "\n",
    "# parameter grid\n",
    "param_grid = {\n",
    "    'n_estimators': [50, 100],\n",
    "    'learning_rate': [0.1, 0.01],\n",
    "    'max_depth': [3, 5]\n",
    "}\n",
    "\n",
    "# Initialize the GridSearchCV object\n",
    "grid_search = GridSearchCV(estimator=GradientBoostingClassifier(), param_grid=param_grid, cv=3, n_jobs=-1, verbose=2)\n",
    "\n",
    "# Fit the model\n",
    "grid_search.fit(x_train_transformed, y_train)\n",
    "\n",
    "# Get the best model\n",
    "best_model = grid_search.best_estimator_\n",
    "\n",
    "# Make predictions with the best model\n",
    "y_pred_best_model = best_model.predict(x_val_transformed)\n",
    "\n",
    "# Evaluate the best model\n",
    "accuracy_best = accuracy_score(y_val, y_pred_best_model)\n",
    "report_best = classification_report(y_val, y_pred_best_model)\n",
    "\n",
    "print(f\"Best Parameters: {grid_search.best_params_}\")\n",
    "print(f\"Best Accuracy: {accuracy_best}\")\n",
    "print(\"Best Classification Report:\")\n",
    "print(report_best)"
   ]
  },
  {
   "cell_type": "code",
   "execution_count": null,
   "metadata": {},
   "outputs": [],
   "source": []
  }
 ],
 "metadata": {
  "kernelspec": {
   "display_name": "Python 3 (ipykernel)",
   "language": "python",
   "name": "python3"
  },
  "language_info": {
   "codemirror_mode": {
    "name": "ipython",
    "version": 3
   },
   "file_extension": ".py",
   "mimetype": "text/x-python",
   "name": "python",
   "nbconvert_exporter": "python",
   "pygments_lexer": "ipython3",
   "version": "3.11.7"
  }
 },
 "nbformat": 4,
 "nbformat_minor": 4
}
